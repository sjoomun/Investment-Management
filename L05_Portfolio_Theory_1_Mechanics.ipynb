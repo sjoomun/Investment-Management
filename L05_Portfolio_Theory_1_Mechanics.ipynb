{
 "cells": [
  {
   "cell_type": "markdown",
   "metadata": {},
   "source": [
    "# 1. Lecture overview\n",
    "\n",
    "Every portfolio is described by two pieces of information:\n",
    "1. The identity of the assets in that portfolio\n",
    "2. The weight that each asset has in the portfolio\n",
    "\n",
    "We learn how to describe the returns of a portfolio in terms of its weights and the returns of its assets:\n",
    "1. Calculate portfolio realized returns\n",
    "2. Calculate the correlation and covariance between the returns of two assets\n",
    "3. Calculate portfolio expected returns\n",
    "4. Calculate portfolio total risk"
   ]
  },
  {
   "cell_type": "markdown",
   "metadata": {},
   "source": [
    "# 2. Portfolio realized returns\n",
    "\n",
    "Suppose a portfolio P has N assets in it (call them assets 1, 2, ..., N). We want to calculate the returs of the portfolio over a given period. Let $M_1$, $M_2$, ... , $M_N$ be the market values of the assets in your portfolio **at the beginning** of this period (for each asset $i$, $M_i$ equals the price of $i$ at the beginning of the period times the number of shares you bought).\n",
    "\n",
    "For each asset $i$ in the portfolio, its **weight** is given by:\n",
    "\n",
    "$$w_i = \\frac{M_i}{M_1 + M_2 + ... + M_N}$$\n",
    "\n",
    "If during the period, the assets in the portfolio had returns $R_1$, $R_2$, ... , $R_N$ respectively, then the **return of the portfolio** during that period is:\n",
    "\n",
    "$$R_P = w_1 R_1 + w_2 R_2 + ... + w_N R_N$$\n",
    "\n",
    "Note that at the **end of the period**, unless all assets had a return of 0 during the period, some of the weights will have changed because the market values of the assets (the $M_i$'s) have changed. So if we want to calculate the returns of the portfolio over the *following* period, we will have the use the new weights that are calculated based on the new market values."
   ]
  },
  {
   "cell_type": "markdown",
   "metadata": {},
   "source": [
    "**Example 2.1.**\n",
    "\n",
    "Suppose today Facebook (FB) is selling for \\\\$200 per share and Netflix (NFLX) is selling for \\$400 per share. You buy two shares of FB and one share of NFLX. Over the next month, FB has a return of 10% and NFLX has a return of 20%. Of the following month, FB has a return of -10% and NFLX has a return of -20%. What will be the return of the portfolio over each month? What will the return of your portfolio be over this entire two month period?"
   ]
  },
  {
   "cell_type": "code",
   "execution_count": 1,
   "metadata": {},
   "outputs": [
    {
     "name": "stdout",
     "output_type": "stream",
     "text": [
      " First month: \n",
      "   Weights: w_FB =  0.500, w_NFLX =  0.500 \n",
      "   R_P =  0.150\n",
      " Second month: \n",
      "   Weights: w_FB =  0.478, w_NFLX =  0.522 \n",
      "   R_P = -0.152\n",
      " Both months: \n",
      "   R_P = -0.025\n",
      "\n",
      " Second solution: \n",
      "   R_FB = -0.010 \n",
      "   R_NFLX = -0.040 \n",
      "   R_P = -0.025\n"
     ]
    }
   ],
   "source": [
    "# Inputs\n",
    "p_fb  = 200\n",
    "p_nf  = 400\n",
    "\n",
    "n_fb  = 2\n",
    "n_nf  = 1\n",
    "\n",
    "r1_fb = 0.1\n",
    "r1_nf = 0.2\n",
    "\n",
    "r2_fb = -0.1\n",
    "r2_nf = -0.2\n",
    "\n",
    "# Solution 1: Calculate portfolio return in each period and then compound them\n",
    "\n",
    "    # First period\n",
    "        # Market values\n",
    "m1_fb = p_fb * n_fb\n",
    "m1_nf = p_nf * n_nf\n",
    "        # Weights\n",
    "w1_fb = m1_fb / (m1_fb + m1_nf)\n",
    "w1_nf = m1_nf / (m1_fb + m1_nf)\n",
    "        # Portfolio return\n",
    "r1_p  = w1_fb * r1_fb + w1_nf * r1_nf\n",
    "print(f\" First month: \\n   Weights: w_FB = {w1_fb: .3f}, w_NFLX = {w1_nf: .3f} \\n   R_P = {r1_p: .3f}\")\n",
    "\n",
    "    # Second period\n",
    "        # Market values\n",
    "m2_fb = m1_fb * (1 + r1_fb)\n",
    "m2_nf = m1_nf * (1 + r1_nf)\n",
    "        # Weights\n",
    "w2_fb = m2_fb / (m2_fb + m2_nf)\n",
    "w2_nf = m2_nf / (m2_fb + m2_nf)\n",
    "        # Portfolio return\n",
    "r2_p  = w2_fb * r2_fb + w2_nf * r2_nf\n",
    "print(f\" Second month: \\n   Weights: w_FB = {w2_fb: .3f}, w_NFLX = {w2_nf: .3f} \\n   R_P = {r2_p: .3f}\")\n",
    "\n",
    "    # Both months\n",
    "r_p = (1 + r1_p) * (1 + r2_p) - 1\n",
    "print(f\" Both months: \\n   R_P = {r_p: .3f}\")\n",
    "\n",
    "# Solution 2: Calculate two-month return on each asset and then use those to get portfolio returns\n",
    "\n",
    "r_fb = (1 + r1_fb) * (1 + r2_fb) - 1 \n",
    "r_nf = (1 + r1_nf) * (1 + r2_nf) - 1\n",
    "r_p  = w1_fb * r_fb + w1_nf * r_nf\n",
    "print(f\"\\n Second solution: \\n   R_FB = {r_fb: .3f} \\n   R_NFLX = {r_nf: .3f} \\n   R_P = {r_p: .3f}\")"
   ]
  },
  {
   "cell_type": "markdown",
   "metadata": {},
   "source": [
    "# 3. Correlation and covariance between two return series\n",
    "\n",
    "Before we can understand portfolio-level risk, we must understand how to quantify the extent to which the future returns of different assets move together. We do so by calculating the covariance of their future returns. Because we do not observe future returns, we must estimate the covariance using past returns (we call this the sample covariance).\n",
    "\n",
    "Given two assets A and B with past returns $R_{1}^A$, $R_{2}^A$, ... , $R_{N}^A$ and $R_{1}^B$, $R_{2}^B$, ... , $R_{N}^B$, the **sample covariance** of these returns is given by:\n",
    "\n",
    "\n",
    "$$COV_{A,B} = \\frac{(R_{1}^A - \\mu^A)(R_{1}^B - \\mu^B)+(R_{2}^A - \\mu^A)(R_{2}^B - \\mu^B)+...+(R_{N}^A - \\mu^A)(R_{N}^B - \\mu^B)}{N-1}$$\n",
    "\n",
    "\n",
    "where $\\mu^A$ and $\\mu^B$ are the sample means of the returns on A and B (see previous lecture).\n",
    "\n",
    "The **sample correlation** between the returns of A and B is given by:\n",
    "\n",
    "$$CORR_{A,B} = \\frac{COV_{A,B}}{\\sigma^A \\sigma^B}$$\n",
    "\n",
    "where $\\sigma^A$ and $\\sigma^B$ are the sample standard deviations of the returns on A and B (see previous lecture).\n",
    "\n",
    "The correlation is just a normalization of the covariance, which is easier to interpret: correlations fall between -1 and 1."
   ]
  },
  {
   "cell_type": "markdown",
   "metadata": {},
   "source": [
    "**Example 3.1.**\n",
    "\n",
    "Suppose over the past three months FB had returns of 10%, 10%, and -8%, and NFLX had returns of 20%, -10% and -1%. Calculate the sample covariance and correlation of the returns of FB and NFLX. "
   ]
  },
  {
   "cell_type": "code",
   "execution_count": 2,
   "metadata": {},
   "outputs": [
    {
     "name": "stdout",
     "output_type": "stream",
     "text": [
      " Returns: \n",
      "\n",
      "      fb    nf\n",
      "0  0.10  0.20\n",
      "1  0.10 -0.10\n",
      "2 -0.08 -0.01\n",
      "\n",
      "\n",
      " Covariance matrix: \n",
      "\n",
      "         fb      nf\n",
      "fb  0.0108  0.0036\n",
      "nf  0.0036  0.0237 \n",
      "\n",
      " Correlation matrix: \n",
      "\n",
      "           fb        nf\n",
      "fb  1.000000  0.225018\n",
      "nf  0.225018  1.000000\n",
      "\n",
      "\n",
      " Covariance(fb,nf) = 0.0036\n",
      "\n",
      "\n",
      " Correlation(fb,nf) = 0.22501758018520476\n"
     ]
    }
   ],
   "source": [
    "import pandas as pd\n",
    "\n",
    "# Inputs\n",
    "\n",
    "    # Create a \"dictionary\" with the return data\n",
    "d = {'fb': [0.1, 0.1, -0.08], 'nf': [0.2, -0.1, -0.01]} \n",
    "\n",
    "    # Convert the data dictionary into a pandas dataframe so we can use pandas built-in functions\n",
    "returns = pd.DataFrame(d) \n",
    "print(f\" Returns: \\n\\n {returns}\")\n",
    "\n",
    "# Covariance matrix\n",
    "cov_mat = returns.cov()  #cov_mat will be a pandas dataframe\n",
    "\n",
    "# Correlation matrix\n",
    "corr_mat = returns.corr() #corr_mat will be a pandas dataframe\n",
    "\n",
    "# Print results\n",
    "print(f\"\\n\\n Covariance matrix: \\n\\n {cov_mat} \\n\\n Correlation matrix: \\n\\n {corr_mat}\")\n",
    "\n",
    "    # Access an element of a dataframe using row and column labels (with \".loc\" nethod)\n",
    "print(f\"\\n\\n Covariance(fb,nf) = {cov_mat.loc['fb','nf']}\") \n",
    "\n",
    "    # Access an element of a dataframe using row and column numbers (with \".iloc\" nethod)\n",
    "print(f\"\\n\\n Correlation(fb,nf) = {corr_mat.iloc[0,1]}\")"
   ]
  },
  {
   "cell_type": "markdown",
   "metadata": {},
   "source": [
    "# 4. Portfolio expected returns\n",
    "\n",
    "To estimate the expected return of a portfolio, we must first estimate the expected returns of the assets in that portfolio. Once we do that, the expected return of the portfolio is a market-value weighted average of the expected returns of the assets in the portfolio:\n",
    "\n",
    "$$E[R_P] = w_1 E[R_1] + w_2 E[R_2] + ... + w_N E[R_N]$$\n",
    "\n",
    "**Special case: portfolios with two assets:**\n",
    "\n",
    "$$E[R_P] = w_1 E[R_1] + w_2 E[R_2]$$\n",
    "\n",
    "**Special case: portfolios with three assets**\n",
    "\n",
    "$$E[R_P] = w_1 E[R_1] + w_2 E[R_2] + w_3 E[R_3]$$"
   ]
  },
  {
   "cell_type": "markdown",
   "metadata": {},
   "source": [
    "**Example 4.1.**\n",
    "\n",
    "Suppose over the past three months FB had returns of 10%, 10%, and -8%, and NFLX had returns of 20%, -10% and -1%. Today, you invest \\\\$1000 in FB and \\$4000 in NFLX. What is the expected return of your portfolio?"
   ]
  },
  {
   "cell_type": "code",
   "execution_count": 3,
   "metadata": {},
   "outputs": [
    {
     "name": "stdout",
     "output_type": "stream",
     "text": [
      " E[R_fb] =  0.040 \n",
      " E[R_nf] =  0.030 \n",
      " E[R_P] =  0.032\n"
     ]
    }
   ],
   "source": [
    "# Inputs (returns are the same as in the previous example so we will not copy them here)\n",
    "m_fb = 1000\n",
    "m_nf = 4000\n",
    "\n",
    "# Weights\n",
    "w_fb = m_fb / (m_fb + m_nf)\n",
    "w_nf = m_nf / (m_fb + m_nf)\n",
    "\n",
    "# Expected returns for each asset\n",
    "#print(returns.mean())\n",
    "er_fb = returns.mean().loc['fb']\n",
    "er_nf = returns.mean().loc['nf']\n",
    "\n",
    "# Portfolio expected return\n",
    "er_p = w_fb * er_fb + w_nf * er_nf\n",
    "\n",
    "# Print results\n",
    "print(f\" E[R_fb] = {er_fb: .3f} \\n E[R_nf] = {er_nf: .3f} \\n E[R_P] = {er_p: .3f}\")"
   ]
  },
  {
   "cell_type": "markdown",
   "metadata": {},
   "source": [
    "# 5. Portfolio total risk\n",
    "\n",
    "To estimate to total risk of a portfolio (standard deviation of it future returns), we must first estimate not only the total risk of each asset in the portfolio but also the covariances between every two assets in the portfolio. That makes the formula for portfolio risk much more complicated than the formula for portfolio expected return:\n",
    "\n",
    "$$Var[R_P] = \\sum_{i = 1}^{N} w_{i}^2 Var[R_i] + \\sum_{i \\neq j} 2 w_i w_j Cov[R_i, R_j]$$\n",
    "\n",
    "\n",
    "**Special case: portfolios with two assets**\n",
    "\n",
    "$$Var[R_P] =  w_{1}^2 Var[R_1] + w_{2}^2 Var[R_2] + 2 w_1 w_2 Cov[R_1, R_2]$$\n",
    "\n",
    "\n",
    "**Special case: portfolios with three assets**\n",
    "\n",
    "$$Var[R_P] =  w_{1}^2 Var[R_1] + w_{2}^2 Var[R_2] + w_{3}^2 Var[R_3] + 2 w_1 w_2 Cov[R_1, R_2] + 2 w_2 w_3 Cov[R_2, R_3] + 2 w_1 w_3 Cov[R_1, R_3]$$\n",
    "\n",
    "In all cases, to calculate **portfolio standard deviations** we take the square root of the portfolio variance."
   ]
  },
  {
   "cell_type": "markdown",
   "metadata": {},
   "source": [
    "**Example 5.1.**\n",
    "\n",
    "Suppose over the past three months FB had returns of 10%, 10%, and -8%, and NFLX had returns of 20%, -10% and -1%. Today, you invest \\\\$1000 in FB and \\$4000 in NFLX. What is the total risk of your portfolio?"
   ]
  },
  {
   "cell_type": "code",
   "execution_count": 4,
   "metadata": {},
   "outputs": [
    {
     "name": "stdout",
     "output_type": "stream",
     "text": [
      " Portfolio Variance =  0.017 \n",
      " Portfolio standard deviation =  0.129\n"
     ]
    }
   ],
   "source": [
    "# Inputs are all from the previous 2 examples so we will not copy them here\n",
    "\n",
    "# Variance for each asset\n",
    "#print(returns.var())\n",
    "var_fb = returns.var().loc['fb']\n",
    "var_nf = returns.var().loc['nf']\n",
    "\n",
    "# Covariance\n",
    "#print(returns.cov())\n",
    "cov = returns.cov().loc['fb','nf']\n",
    "\n",
    "# Portfolio variance\n",
    "pvar = w_fb**2 * var_fb + w_nf**2 * var_nf + 2 * w_fb * w_nf * cov\n",
    "\n",
    "# Portfolio standard deviation\n",
    "psd = pvar ** (1/2)\n",
    "\n",
    "# Print results\n",
    "print(f\" Portfolio Variance = {pvar: .3f} \\n Portfolio standard deviation = {psd: .3f}\")"
   ]
  },
  {
   "cell_type": "markdown",
   "metadata": {},
   "source": [
    "# 6. For next class\n",
    "\n",
    "- Watch \"Capital Allocation to Risky Assets\" video under \"FIN 360 Review Videos\" - \"Asset Allocation\" tab in D2L"
   ]
  }
 ],
 "metadata": {
  "kernelspec": {
   "display_name": "Python 3",
   "language": "python",
   "name": "python3"
  },
  "language_info": {
   "codemirror_mode": {
    "name": "ipython",
    "version": 3
   },
   "file_extension": ".py",
   "mimetype": "text/x-python",
   "name": "python",
   "nbconvert_exporter": "python",
   "pygments_lexer": "ipython3",
   "version": "3.8.5"
  }
 },
 "nbformat": 4,
 "nbformat_minor": 4
}
