{
 "cells": [
  {
   "cell_type": "markdown",
   "metadata": {},
   "source": [
    "# 1. Lecture overview\n",
    "\n",
    "We start thinking about future returns. We model them as random variables and we are interested in estimating the expectation and volatility of the probability distribution associated with these random variables. We will use sample means to estimate the expectation (i.e. expected returns) and the sample standard deviation to estimate the volatility (i.e. total risk). We then introduce the concept of a risk premium and we show how investments should be assessed based on the risk - return tradeoff they offer.\n",
    "\n",
    "- Using sample means and standard deviations to estimate expected return and risk\n",
    "- Risk-free rate, excess returns, and risk premia\n",
    "- Mean variance analysis and the Sharpe Ratio"
   ]
  },
  {
   "cell_type": "markdown",
   "metadata": {},
   "source": [
    "# 2. Sample mean and standard deviation\n",
    "\n",
    "Investments are about **future** rewards. We hope that we have found an investment that will give us high rewards, but because we can never perfectly predict the future, there will always be some amount of uncertainty associated with any investment. Hence, to give ourselves a chance at some **expected return**, we must expose ourselves to some amount of **risk** that we may loose money from that investment. The goal is to find investments which we *believe* (we can not know) will provide us with a good risk-return tradeoff: a large expected return per unit of risk. We will see below that this is called the **Sharpe ratio** of that investment. \n",
    "\n",
    "So, to make good investment decisions, we must find a way to measure (estimate) the risk-return tradeoff they offer. As explained above, this entails estimating the risk and expected return of that investment. We do so by thinking about future returns on that investment as random variables: the future return is an unknown (random) quantity which takes possible values according to some probability distribution. The mean of that probability distribution is the expected return on the investment, and the standard deviation of that distribution is a good measure of the risk of the investment because it quantifies how uncertain we would be if we were to predict future returns. \n",
    "\n",
    "The mean and standard deviation of future returns are unknown quantities because future returns are unknown quantities. To estimate them, we must assume that *past* returns came from the same probability distribution as future returns. If that is a good assumption, then we can use data on past returns to estimate the mean and standard deviation of future returns.\n",
    "\n",
    "Specifically, if we have $N$ observations of past returns on a given investment (call these returns $R_{1}$, $R_{2}$, ... , $R_{N}$), then: \n",
    "\n",
    "- The **sample mean** is given by:\n",
    "\n",
    "$$\\mu = \\frac{R_1 + R_2 + ... + R_N}{N}$$\n",
    "\n",
    "- The **sample standard deviation** is given by:\n",
    "\n",
    "$$\\sigma = \\sqrt{\\frac{(R_1 - \\mu)^2 + (R_2 - \\mu)^2 + ... + (R_N - \\mu)^2}{N-1}}$$\n",
    "\n",
    "Another variable that we often encounter is the **sample variance** which is just the square of the sample standard deviation: $Variance = \\sigma^2$"
   ]
  },
  {
   "cell_type": "markdown",
   "metadata": {},
   "source": [
    "### 2.1. Example\n",
    "\n",
    "Suppose for the last 4 months, TLSA had returns of 10%, 5%, -5%, and 14% respectively. Using this data alone, what is your estimate for the expected return and risk associated with TSLA's next month's return?"
   ]
  },
  {
   "cell_type": "code",
   "execution_count": 1,
   "metadata": {},
   "outputs": [
    {
     "name": "stdout",
     "output_type": "stream",
     "text": [
      "Solution 1: \n",
      "  Estimated expected return =  0.060 \n",
      "  Estimated risk =  0.082\n",
      "Solution 2: \n",
      "  Estimated expected return =  0.060 \n",
      "  Estimated risk =  0.082\n"
     ]
    }
   ],
   "source": [
    "# Import packages\n",
    "import numpy as np\n",
    "\n",
    "# Inputs\n",
    "r1 = 0.1\n",
    "r2 = 0.05\n",
    "r3 = -0.05\n",
    "r4 = 0.14\n",
    "N  = 4\n",
    "\n",
    "# Mean\n",
    "m = (r1 + r2 + r3 + r4)/N\n",
    "\n",
    "# Standard deviation\n",
    "sd = (((r1 - m)**2 + (r2 - m)**2 + (r3 - m)**2 + (r4 - m)**2)/(N - 1))**(1/2)\n",
    "\n",
    "# Print results\n",
    "print(f\"Solution 1: \\n  Estimated expected return = {m: .3f} \\n  Estimated risk = {sd: .3f}\")\n",
    "\n",
    "# Solution 2: use numpy array and the \"average\" and \"std\" methods\n",
    "returns = np.array([r1, r2, r3, r4])\n",
    "m2  = np.average(returns)\n",
    "sd2 = np.std(returns)\n",
    "print(f\"Solution 2: \\n  Estimated expected return = {m: .3f} \\n  Estimated risk = {sd: .3f}\")"
   ]
  },
  {
   "cell_type": "markdown",
   "metadata": {},
   "source": [
    "# 3. The risk-free rate, excess returns, and risk premia\n",
    "\n",
    "To quantify the reward we obtain from an investment in exchange for taking on the risk of that investment, we generally use not is expected return, but its expected return in excess of the return on a risk-free investment.\n",
    "\n",
    "The only **risk-free investment** is a short-term (1-3 month) U.S. Treasury bill (Tbill). It is assumed that the U.S. government will not default on its debt over the next 1-3 months. For this class we will use the 1-month Tbill as the risk free asset but the 3-month Tbill is also often used. \n",
    "- The risk-free rate is the yield on the 1-month Tbill\n",
    "- Because the asset is riskless (there is no uncertainty about its future payoff)\n",
    "    - Its expected return is also equal to its yield:    \n",
    "$$E[R_f] = R_f$$\n",
    "    - Its risk (standard deviation of future returns) is zero:    \n",
    "$$\\sigma(R_f) = 0$$\n",
    "\n",
    "\n",
    "The **excess return** on any investment $i$ equals its return minus the risk-free rate:\n",
    "\n",
    "$$ExcessReturn_i = R_i - R_f$$\n",
    "\n",
    "The **risk-premium** on any investment $i$ equals its expected return minus the risk-free rate:\n",
    "\n",
    "$$RiskPremium_i = E[R_i] - R_f$$ "
   ]
  },
  {
   "cell_type": "markdown",
   "metadata": {},
   "source": [
    "### 3.1. Example\n",
    "\n",
    "Suppose returns on TSLA over the past 3 months were 10% (in the most recent month), 5%, and -3% respectively and that the yield on a 1-month Tbill were 0.1% (in the most recent month), 0.2%, and 0.3% respectively. What were the excess returns on TSLA over the past 3 months. What is your estimate for the risk premium on TSLA?"
   ]
  },
  {
   "cell_type": "code",
   "execution_count": 2,
   "metadata": {},
   "outputs": [
    {
     "name": "stdout",
     "output_type": "stream",
     "text": [
      "Excess returns over the past 3 months were: \n",
      " 0.099 \n",
      " 0.048 \n",
      " -0.033\n",
      "Risk premium estimate: \n",
      "  0.039\n"
     ]
    }
   ],
   "source": [
    "# Inputs\n",
    "r1 = 0.1\n",
    "r2 = 0.05\n",
    "r3 = -0.03\n",
    "\n",
    "rf1 = 0.001\n",
    "rf2 = 0.002\n",
    "rf3 = 0.003\n",
    "\n",
    "# Excess returns\n",
    "er1 = r1 - rf1\n",
    "er2 = r2 - rf2\n",
    "er3 = r3 - rf3\n",
    "print(f\"Excess returns over the past 3 months were: \\n {er1} \\n {er2} \\n {er3}\")\n",
    "\n",
    "# Risk remium\n",
    "exp_return = (r1 + r2 + r3)/3\n",
    "risk_premium = exp_return - rf1 #note that we are using the most recent risk-free rate\n",
    "print(f\"Risk premium estimate: \\n {risk_premium: .3f}\")"
   ]
  },
  {
   "cell_type": "markdown",
   "metadata": {},
   "source": [
    "4. Mean-variance analysis and the Sharpe ratio\n",
    "\n",
    "Mean-variance analysis is the process of assessing investments based on their expected returns and total risk. Investors are said to be mean-variance optimizers if they only care about these two aspects of their investments (one could imagine other potentially important aspects such as the environmental impact of the firm or treatment of its employees). In this course we will assume that the marginal investor is a mean-variance optimizer (loosely speaking, you can think of the marginal investor as the \"average\" investor in the market).\n",
    "\n",
    "If investors are mean-variance optimizers, they will prefer investments with the highest possible ratio of expected reward to potential risk. More "
   ]
  },
  {
   "cell_type": "markdown",
   "metadata": {},
   "source": [
    "### 4.1. Example\n",
    "\n",
    "Assume that you are only allowed to invest in TSLA or AAPL. You estimate that TSLA has an expected return of 10% and a standard deviation of 12% and AAPL has an expected return of 7% and a standard deviation of 6%. The yield on a 1-month Tbill is 1%. If you are a mean-variance optimizer, which stock should you invest in?"
   ]
  },
  {
   "cell_type": "code",
   "execution_count": 3,
   "metadata": {},
   "outputs": [
    {
     "name": "stdout",
     "output_type": "stream",
     "text": [
      " TSLA Sharpe Ratio =  0.750 \n",
      " AAPL Sharpe Ratio =  1.000\n"
     ]
    }
   ],
   "source": [
    "# Inputs\n",
    "tsla_er = 0.10\n",
    "tsla_sd = 0.12\n",
    "aapl_er = 0.07\n",
    "aapl_sd = 0.06\n",
    "rf = 0.01\n",
    "\n",
    "# Sharpe ratios\n",
    "tsla_sr = (tsla_er - rf) / tsla_sd\n",
    "aapl_sr = (aapl_er - rf) / aapl_sd\n",
    "\n",
    "# Print results\n",
    "print(f\" TSLA Sharpe Ratio = {tsla_sr: .3f} \\n AAPL Sharpe Ratio = {aapl_sr: .3f}\")"
   ]
  },
  {
   "cell_type": "markdown",
   "metadata": {},
   "source": [
    "## 4.2. Discussion\n",
    "\n",
    "We will soon see that the answer to the above question is based on the Sharpe ratio only if the investor is allowed to borrow and lend at the risk-free rate. If that is not the case, and they are restricted to investing in one of those two assets alone, (which is very unrealistic), investors with lower risk aversion should choose the riskier asset and investors with higher risk aversion should choose the less risky asset."
   ]
  },
  {
   "cell_type": "markdown",
   "metadata": {},
   "source": [
    "# 5. Application\n",
    "\n",
    "Download monthy price data on TSLA and AAPL from Yahoo Finance over the 2016-2020 period. Estimate which one of them is a better investment from a mean-variance standpoint. Assume the risk-free rate is 0.1%."
   ]
  },
  {
   "cell_type": "code",
   "execution_count": 4,
   "metadata": {},
   "outputs": [],
   "source": [
    "# Import the needed libraries\n",
    "import yfinance as yf\n",
    "import pandas as pd"
   ]
  },
  {
   "cell_type": "code",
   "execution_count": 5,
   "metadata": {},
   "outputs": [
    {
     "data": {
      "text/html": [
       "<div>\n",
       "<style scoped>\n",
       "    .dataframe tbody tr th:only-of-type {\n",
       "        vertical-align: middle;\n",
       "    }\n",
       "\n",
       "    .dataframe tbody tr th {\n",
       "        vertical-align: top;\n",
       "    }\n",
       "\n",
       "    .dataframe thead tr th {\n",
       "        text-align: left;\n",
       "    }\n",
       "\n",
       "    .dataframe thead tr:last-of-type th {\n",
       "        text-align: right;\n",
       "    }\n",
       "</style>\n",
       "<table border=\"1\" class=\"dataframe\">\n",
       "  <thead>\n",
       "    <tr>\n",
       "      <th></th>\n",
       "      <th colspan=\"2\" halign=\"left\">Adj Close</th>\n",
       "      <th colspan=\"2\" halign=\"left\">Close</th>\n",
       "      <th colspan=\"2\" halign=\"left\">High</th>\n",
       "      <th colspan=\"2\" halign=\"left\">Low</th>\n",
       "      <th colspan=\"2\" halign=\"left\">Open</th>\n",
       "      <th colspan=\"2\" halign=\"left\">Volume</th>\n",
       "    </tr>\n",
       "    <tr>\n",
       "      <th></th>\n",
       "      <th>AAPL</th>\n",
       "      <th>TSLA</th>\n",
       "      <th>AAPL</th>\n",
       "      <th>TSLA</th>\n",
       "      <th>AAPL</th>\n",
       "      <th>TSLA</th>\n",
       "      <th>AAPL</th>\n",
       "      <th>TSLA</th>\n",
       "      <th>AAPL</th>\n",
       "      <th>TSLA</th>\n",
       "      <th>AAPL</th>\n",
       "      <th>TSLA</th>\n",
       "    </tr>\n",
       "    <tr>\n",
       "      <th>Date</th>\n",
       "      <th></th>\n",
       "      <th></th>\n",
       "      <th></th>\n",
       "      <th></th>\n",
       "      <th></th>\n",
       "      <th></th>\n",
       "      <th></th>\n",
       "      <th></th>\n",
       "      <th></th>\n",
       "      <th></th>\n",
       "      <th></th>\n",
       "      <th></th>\n",
       "    </tr>\n",
       "  </thead>\n",
       "  <tbody>\n",
       "    <tr>\n",
       "      <th>2016-01-01</th>\n",
       "      <td>22.512041</td>\n",
       "      <td>38.240002</td>\n",
       "      <td>24.334999</td>\n",
       "      <td>38.240002</td>\n",
       "      <td>26.462500</td>\n",
       "      <td>46.276001</td>\n",
       "      <td>23.097500</td>\n",
       "      <td>36.481998</td>\n",
       "      <td>25.6525</td>\n",
       "      <td>46.144001</td>\n",
       "      <td>5.087392e+09</td>\n",
       "      <td>396236000.0</td>\n",
       "    </tr>\n",
       "    <tr>\n",
       "      <th>2016-02-01</th>\n",
       "      <td>22.361717</td>\n",
       "      <td>38.386002</td>\n",
       "      <td>24.172501</td>\n",
       "      <td>38.386002</td>\n",
       "      <td>24.722500</td>\n",
       "      <td>39.903999</td>\n",
       "      <td>23.147499</td>\n",
       "      <td>28.209999</td>\n",
       "      <td>24.1175</td>\n",
       "      <td>37.751999</td>\n",
       "      <td>3.243450e+09</td>\n",
       "      <td>668529000.0</td>\n",
       "    </tr>\n",
       "    <tr>\n",
       "      <th>2016-03-01</th>\n",
       "      <td>25.343138</td>\n",
       "      <td>45.953999</td>\n",
       "      <td>27.247499</td>\n",
       "      <td>45.953999</td>\n",
       "      <td>27.605000</td>\n",
       "      <td>47.976002</td>\n",
       "      <td>24.355000</td>\n",
       "      <td>36.299999</td>\n",
       "      <td>24.4125</td>\n",
       "      <td>38.849998</td>\n",
       "      <td>2.984198e+09</td>\n",
       "      <td>514610000.0</td>\n",
       "    </tr>\n",
       "    <tr>\n",
       "      <th>2016-04-01</th>\n",
       "      <td>21.797100</td>\n",
       "      <td>48.152000</td>\n",
       "      <td>23.434999</td>\n",
       "      <td>48.152000</td>\n",
       "      <td>28.097500</td>\n",
       "      <td>53.868000</td>\n",
       "      <td>23.127501</td>\n",
       "      <td>46.650002</td>\n",
       "      <td>27.1950</td>\n",
       "      <td>48.966000</td>\n",
       "      <td>3.489535e+09</td>\n",
       "      <td>677536500.0</td>\n",
       "    </tr>\n",
       "    <tr>\n",
       "      <th>2016-05-01</th>\n",
       "      <td>23.220165</td>\n",
       "      <td>44.646000</td>\n",
       "      <td>24.965000</td>\n",
       "      <td>44.646000</td>\n",
       "      <td>25.182501</td>\n",
       "      <td>48.638000</td>\n",
       "      <td>22.367500</td>\n",
       "      <td>40.731998</td>\n",
       "      <td>23.4925</td>\n",
       "      <td>48.299999</td>\n",
       "      <td>3.602686e+09</td>\n",
       "      <td>516537500.0</td>\n",
       "    </tr>\n",
       "  </tbody>\n",
       "</table>\n",
       "</div>"
      ],
      "text/plain": [
       "            Adj Close                 Close                  High             \\\n",
       "                 AAPL       TSLA       AAPL       TSLA       AAPL       TSLA   \n",
       "Date                                                                           \n",
       "2016-01-01  22.512041  38.240002  24.334999  38.240002  26.462500  46.276001   \n",
       "2016-02-01  22.361717  38.386002  24.172501  38.386002  24.722500  39.903999   \n",
       "2016-03-01  25.343138  45.953999  27.247499  45.953999  27.605000  47.976002   \n",
       "2016-04-01  21.797100  48.152000  23.434999  48.152000  28.097500  53.868000   \n",
       "2016-05-01  23.220165  44.646000  24.965000  44.646000  25.182501  48.638000   \n",
       "\n",
       "                  Low                Open                   Volume  \\\n",
       "                 AAPL       TSLA     AAPL       TSLA          AAPL   \n",
       "Date                                                                 \n",
       "2016-01-01  23.097500  36.481998  25.6525  46.144001  5.087392e+09   \n",
       "2016-02-01  23.147499  28.209999  24.1175  37.751999  3.243450e+09   \n",
       "2016-03-01  24.355000  36.299999  24.4125  38.849998  2.984198e+09   \n",
       "2016-04-01  23.127501  46.650002  27.1950  48.966000  3.489535e+09   \n",
       "2016-05-01  22.367500  40.731998  23.4925  48.299999  3.602686e+09   \n",
       "\n",
       "                         \n",
       "                   TSLA  \n",
       "Date                     \n",
       "2016-01-01  396236000.0  \n",
       "2016-02-01  668529000.0  \n",
       "2016-03-01  514610000.0  \n",
       "2016-04-01  677536500.0  \n",
       "2016-05-01  516537500.0  "
      ]
     },
     "execution_count": 5,
     "metadata": {},
     "output_type": "execute_result"
    }
   ],
   "source": [
    "# Download data on both TSLA and AAPL\n",
    "price_dta = yf.download(tickers = ['TSLA', 'AAPL'],\n",
    "                      start = '2016-01-01',\n",
    "                      end = '2020-12-31',\n",
    "                      interval = '1mo',\n",
    "                      progress = False).dropna()\n",
    "price_dta.head()"
   ]
  },
  {
   "cell_type": "code",
   "execution_count": 6,
   "metadata": {},
   "outputs": [
    {
     "data": {
      "text/plain": [
       "Date\n",
       "2016-01-01         NaN\n",
       "2016-02-01    0.003818\n",
       "2016-03-01    0.197155\n",
       "2016-04-01    0.047830\n",
       "2016-05-01   -0.072811\n",
       "Name: (Adj Close, TSLA), dtype: float64"
      ]
     },
     "execution_count": 6,
     "metadata": {},
     "output_type": "execute_result"
    }
   ],
   "source": [
    "# Calculate monthly returns\n",
    "tsla_ret = price_dta[('Adj Close', 'TSLA')].pct_change()\n",
    "aapl_ret = price_dta[('Adj Close', 'AAPL')].pct_change()\n",
    "tsla_ret.head()"
   ]
  },
  {
   "cell_type": "code",
   "execution_count": 7,
   "metadata": {},
   "outputs": [
    {
     "name": "stdout",
     "output_type": "stream",
     "text": [
      "TSLA: \n",
      "  E[R] =  0.066 \n",
      "  SD =  0.192\n",
      "AAPL: \n",
      "  E[R] =  0.034 \n",
      "  SD =  0.086\n"
     ]
    }
   ],
   "source": [
    "# Estimate expected returns and standard deviations\n",
    "tsla_er = tsla_ret.mean()\n",
    "tsla_sd = tsla_ret.std()\n",
    "aapl_er = aapl_ret.mean()\n",
    "aapl_sd = aapl_ret.std()\n",
    "\n",
    "# Print them out\n",
    "print(f\"TSLA: \\n  E[R] = {tsla_er: .3f} \\n  SD = {tsla_sd: .3f}\")\n",
    "print(f\"AAPL: \\n  E[R] = {aapl_er: .3f} \\n  SD = {aapl_sd: .3f}\")"
   ]
  },
  {
   "cell_type": "code",
   "execution_count": 8,
   "metadata": {},
   "outputs": [
    {
     "name": "stdout",
     "output_type": "stream",
     "text": [
      "TSLA Sharpe Ratio =  0.339\n",
      "AAPl Sharpe Ratio =  0.384\n"
     ]
    }
   ],
   "source": [
    "# Estimate Sharpe ratios\n",
    "rf = 0.001\n",
    "tsla_sr = (tsla_er - rf) / tsla_sd\n",
    "aapl_sr = (aapl_er - rf) / aapl_sd\n",
    "\n",
    "# Print them out\n",
    "print(f\"TSLA Sharpe Ratio = {tsla_sr: .3f}\")\n",
    "print(f\"AAPl Sharpe Ratio = {aapl_sr: .3f}\")"
   ]
  }
 ],
 "metadata": {
  "kernelspec": {
   "display_name": "Python 3",
   "language": "python",
   "name": "python3"
  },
  "language_info": {
   "codemirror_mode": {
    "name": "ipython",
    "version": 3
   },
   "file_extension": ".py",
   "mimetype": "text/x-python",
   "name": "python",
   "nbconvert_exporter": "python",
   "pygments_lexer": "ipython3",
   "version": "3.8.5"
  }
 },
 "nbformat": 4,
 "nbformat_minor": 4
}
