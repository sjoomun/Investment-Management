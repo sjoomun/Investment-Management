{
 "cells": [
  {
   "cell_type": "markdown",
   "metadata": {},
   "source": [
    "# 1. Lecture overview\n",
    "\n",
    "Given a set of risky assets, what is the best portfolio we can construct with them? Assuming we are mean-variance optimizers, this amounts to finding the set of weights that gives us the portolio with the **maximum Sharpe ratio** (i.e. the portfolio that gives us the best expected return per unit of risk). We start by learning how to do this for the special case when we only have two risky assets and then move on to the general case with an arbitrary (\"N\") number of assets. These maximum Sharpe ratio portfolios are also called **optimal risky portfolios** or **tangency portfolios**.\n",
    "\n",
    "Besides learning the mechanics of building optimal risky portfolios, another key lesson from this lecture is that the optimal risky portfolio does not depend on who the investor is: it does not depend on their risk aversion. What depends on their risk aversion is the proportion of their funds they should invest in this optimal risky portfolio. We touched on this in the previous lecture and we will talk about it in much more detail in the following lecture.\n",
    "\n",
    "- Portfolio optimization with two risky assets\n",
    "    - The investment opportunity set\n",
    "    - Tangency portfolio \n",
    "    \n",
    "- Portfolio optimization with N risky assets\n",
    "    - Matrix representation\n",
    "    - Tangency portfolio"
   ]
  },
  {
   "cell_type": "markdown",
   "metadata": {},
   "source": [
    "# 2. Portfolio optimization with two risky assets\n",
    "\n",
    "We start with the simples possible case, when we have only two risky assets that we want to combine in an optimal portfolio. Call those assets A and B, and assume we have already estimated their expected returns ($E[R_A]$ and $E[R_B]$), their standard deviations ($\\sigma_A$ and $\\sigma_B$) and their covariance ($COV[R_A, R_B]$ sometimes denoted $\\rho_{AB}$).\n",
    "\n",
    "The only thing we have to decide is what proportion of the portfolio consists of asset A (call this $w_A$), because this will give us the proportion in asset B: $w_B = 1 - w_A$. As mentioned above, this amounts to finding the $w_A$ that gives us the portfolio with the highers possible Sharpe ratio. Before we do this (in Section 2.2.) we first construct a large number of portfolios for different values of $w_A$ to get a better sense of how these portfolios look like from a mean-variance perspective. \n"
   ]
  },
  {
   "cell_type": "markdown",
   "metadata": {},
   "source": [
    "## 2.1. The investment opportunity set \n",
    "\n",
    "The investment opportunity set for a given collection of assets is the set of ALL the possible portfolios you can construct with those assets. This is an infinite set but we can get a good idea of what the investment opportunity set looks like by just building a small subset of portfolios and plotting them in mean-volatility space.\n",
    "\n",
    "In the special case with only two risky assets A and B, using the notation above, for any choice of weights ($w_A$, $w_B$) we obtain a different portfolio P. Recall that the expected return and variance of the resulting portfolio P are given by:\n",
    "\n",
    "$$E[R_P] = w_A E[R_A] + w_B E[R_B]$$\n",
    "\n",
    "\n",
    "$$Var[R_P] =  w_{A}^2 Var[R_A] + w_{B}^2 Var[R_B] + 2 w_A w_B Cov[R_A, R_B]$$\n",
    "\n",
    "where $w_B = 1 - w_A$ and the portfolio standard deviation is $\\sigma_P = \\sqrt{Var[R_P]}$\n",
    "\n"
   ]
  },
  {
   "cell_type": "markdown",
   "metadata": {},
   "source": [
    "**Example 2.1.**\n",
    "\n",
    "You want to invest in Facebook (FB) and Netflix (NFLX) but are not sure how much to invest in each. You have estimated that the expected returns of FB and NFLX are 10% and 15% respectively, their standard deviations are 20% and 25% respectively and their covariance is 0.02. Construct 21 different portfolios of FB and NFLX by starting out with a weight of 0% in FB and progressively increasing it by 5% until you reach a portfolio with 100% in FB. For each portfolio, estimate its expected return and standard deviation of future returns and plot it in mean-volatility space.   "
   ]
  },
  {
   "cell_type": "code",
   "execution_count": 1,
   "metadata": {},
   "outputs": [
    {
     "name": "stdout",
     "output_type": "stream",
     "text": [
      "Correlation =  0.400\n",
      "    w_fb  w_nf    er_p      sd_p\n",
      "0   0.00  1.00  0.1500  0.250000\n",
      "1   0.05  0.95  0.1475  0.241674\n",
      "2   0.10  0.90  0.1450  0.233720\n",
      "3   0.15  0.85  0.1425  0.226177\n",
      "4   0.20  0.80  0.1400  0.219089\n",
      "5   0.25  0.75  0.1375  0.212500\n",
      "6   0.30  0.70  0.1350  0.206458\n",
      "7   0.35  0.65  0.1325  0.201013\n",
      "8   0.40  0.60  0.1300  0.196214\n",
      "9   0.45  0.55  0.1275  0.192110\n",
      "10  0.50  0.50  0.1250  0.188746\n",
      "11  0.55  0.45  0.1225  0.186162\n",
      "12  0.60  0.40  0.1200  0.184391\n",
      "13  0.65  0.35  0.1175  0.183456\n",
      "14  0.70  0.30  0.1150  0.183371\n",
      "15  0.75  0.25  0.1125  0.184136\n",
      "16  0.80  0.20  0.1100  0.185742\n",
      "17  0.85  0.15  0.1075  0.188165\n",
      "18  0.90  0.10  0.1050  0.191377\n",
      "19  0.95  0.05  0.1025  0.195336\n",
      "20  1.00  0.00  0.1000  0.200000\n"
     ]
    },
    {
     "data": {
      "image/png": "[encoded data removed]",
      "text/plain": [
       "<Figure size 432x288 with 1 Axes>"
      ]
     },
     "metadata": {
      "needs_background": "light"
     },
     "output_type": "display_data"
    }
   ],
   "source": [
    "# Import libraries\n",
    "import pandas as pd\n",
    "import numpy as np\n",
    "\n",
    "# Inputs\n",
    "er_fb = 0.10\n",
    "er_nf = 0.15\n",
    "sd_fb = 0.20\n",
    "sd_nf = 0.25\n",
    "covar = 0.02\n",
    "N = 21\n",
    "\n",
    "# Correlation (not needed but illustrative)\n",
    "correl = covar / (sd_fb * sd_nf)\n",
    "print(f\"Correlation = {correl: .3f}\")\n",
    "\n",
    "# Create dataframe where we will store our 21 expected returns and standard deviations\n",
    "results = pd.DataFrame(np.nan, index = range(N), columns = ['w_fb', 'w_nf', 'er_p', 'sd_p'])\n",
    "#print(results)\n",
    "\n",
    "# Loop through the 21 allocations\n",
    "for n in range(N):\n",
    "    #print(n)\n",
    "    #print(f\"wc = {n*0.1: .3f}\")\n",
    "    \n",
    "    # calculate the weight for the current capital allocation\n",
    "    w_fb = n * (1 / (N-1))\n",
    "    w_nf = 1 - w_fb\n",
    "    \n",
    "    # calculate expected return for the current complete portfolio\n",
    "    er_p = w_fb * er_fb + w_nf * er_nf\n",
    "    \n",
    "    # calculate standard deviation for the current complete portfolio\n",
    "    sd_p = ((w_fb**2) * (sd_fb**2) + (w_nf**2) * (sd_nf**2) + 2 * w_fb * w_nf * covar)**(1/2)\n",
    "    \n",
    "    # store results in our \"results dataframe\"\n",
    "    results['w_fb'][n] = w_fb\n",
    "    results['w_nf'][n] = w_nf\n",
    "    results['er_p'][n] = er_p\n",
    "    results['sd_p'][n] = sd_p\n",
    "    \n",
    "# Print results    \n",
    "print(results) \n",
    "\n",
    "# Plot results in mean-volatility space\n",
    "ax = results.plot.scatter(x = 'sd_p', y = 'er_p');\n",
    "ax.set_xlabel('Standard deviation')\n",
    "ax.set_ylabel('Expected return')\n",
    "ax.set_title('FB and NFLX Investment Opportunity (Sub)Set')\n",
    "\n",
    "# Add the 0% and 100% allocations to the plot in different colors\n",
    "ax.scatter(results['sd_p'][0], results['er_p'][0], color = 'orange');\n",
    "ax.scatter(results['sd_p'][20], results['er_p'][20], color = 'red');"
   ]
  },
  {
   "cell_type": "markdown",
   "metadata": {},
   "source": [
    "## 2.2. Optimal risky portfolio (tangency portfolio)\n",
    "\n",
    "The combination between two risky assets A and B that gives us the maximum Sharpe ratio is obtained by setting\n",
    "\n",
    "$$w_A = \\frac{(E[R_A] - R_f) \\sigma_{B}^2 - (E[R_B] - R_f)Cov[R_A, R_B]}{(E[R_A] - R_f) \\sigma_{B}^2 + (E[R_B] - R_f) \\sigma_{A}^2 - (E[R_A] - R_f + E[R_B] - R_f)Cov[R_A, R_B]}$$\n",
    "\n",
    "and $w_B = 1 - w_A$.\n",
    "\n",
    "The reason why we also call this optimal risky portfolio the \"tangency portfolio\" is because its capital allocation line (CAL) intersects the investment opportunity set of A and B (see the curve we plotted in the previous example) at only one point (i.e. the CAL is tangent to the investment opportunity set). "
   ]
  },
  {
   "cell_type": "markdown",
   "metadata": {},
   "source": [
    "**Example 2.2.**\n",
    "\n",
    "Using the data from the previous example, find the optimal combination of FB and NFLX. Assume that the risk-free rate is 0.1%."
   ]
  },
  {
   "cell_type": "code",
   "execution_count": 2,
   "metadata": {},
   "outputs": [
    {
     "name": "stdout",
     "output_type": "stream",
     "text": [
      "Optimal weights: \n",
      " W_FB =  0.446 \n",
      " W_NF =  0.554\n"
     ]
    }
   ],
   "source": [
    "# Inputs\n",
    "rf = 0.001\n",
    "\n",
    "# Assume A is FB and B is NFLX\n",
    "\n",
    "# Numerator and denominator separately\n",
    "num = (er_fb - rf) * sd_nf**2 - (er_nf - rf)*covar\n",
    "denom = (er_fb - rf) * sd_nf**2 + (er_nf - rf) * sd_fb**2 - (er_fb - rf + er_nf - rf) * covar\n",
    "\n",
    "# Optimal weights\n",
    "w_fb = num / denom\n",
    "w_nf = 1 - w_fb\n",
    "\n",
    "# Print results\n",
    "print(f\"Optimal weights: \\n W_FB = {w_fb: .3f} \\n W_NF = {w_nf: .3}\")\n",
    "\n",
    "# Save results for next time\n",
    "results = pd.DataFrame([w_fb, w_nf], columns = ['weight'], index = ['fb', 'nf'])\n",
    "results.to_csv('./L07_example_results.csv')"
   ]
  },
  {
   "cell_type": "markdown",
   "metadata": {},
   "source": [
    "# 3. Portfolio optimization with N risky assets\n",
    "\n",
    "We now move on the the general case where we have an arbitrary number of assets N, and we want to find the combination (set of weights) that gives us the portfolio with the highest Sharpe ratio. Call these assets 1, 2, ..., N and assume we have already estimated their expected returns, standard deviations, and covariances between any two assets. "
   ]
  },
  {
   "cell_type": "markdown",
   "metadata": {},
   "source": [
    "## 3.1. Matrix notation\n",
    "\n",
    "To make the formulas more manageable, we assemble our inputs (expected returns, variances and covariances) into matrices.\n",
    "\n",
    "Let $\\mathbf{\\mu}$ be the Nx1 vector of expected returns:\n",
    "\n",
    "$$\\mathbf{\\mu} = \\begin{pmatrix} E[R_1] \\\\ E[R_2] \\\\ ... \\\\ E[R_N] \\end{pmatrix}$$\n",
    "\n",
    "And $\\mathbf{\\Sigma}$ the variance-covariance matrix of future returns. In row $i$ and column $j$ this matrix contains the covariance between the returns of assets $i$ and $j$. Note that when $i = j$ (on the diagonal) this equals the variance of asset $i$.\n",
    "\n",
    "\n",
    "$$\\mathbf{\\Sigma} = \\begin{pmatrix} Var[R_1] & Cov[R_1, R_2] & ... & Cov[R_1, R_N] \\\\ Cov[R_2, R_1] & Var[R_1] & ... & Cov[R_2, R_N] \\\\ ... & ... & ... & ... \\\\ Cov[R_N, R_1] & Cov[R_N, R_2] & ... & Var[R_N] \\end{pmatrix}$$\n",
    "\n",
    "Note that  $\\mathbf{\\mu}$ and $\\mathbf{\\Sigma}$ are bold to signify that they are not numbers (scalars) but matrices."
   ]
  },
  {
   "cell_type": "markdown",
   "metadata": {},
   "source": [
    "## 3.2. Tangency portfolio with N risky assets\n",
    "\n",
    "Let $\\mathbf{\\mu^e}$ be the vector of risk premia on our N assets:\n",
    "\n",
    "\n",
    "$$\\mathbf{\\mu^e} = \\begin{pmatrix} E[R_1] - R_f \\\\ E[R_2] - R_f \\\\ ... \\\\ E[R_N] - R_f \\end{pmatrix}$$\n",
    "\n",
    "and $ \\mathbf{1^{T}}$ be the transpose of a vector of N ones: $ \\mathbf{1^{T}} = (1, 1, ..., 1)$.\n",
    "\n",
    "Then the vector $\\mathbf{W_{tan}}$ of weights that gives us the tangency portfolio (i.e. portfolio with the maximum Sharpe ratio) is given by:\n",
    "\n",
    "$$\\mathbf{W_{tan}} = \\frac{ \\mathbf{\\Sigma}^{-1}\\mathbf{\\mu^e} }{ \\mathbf{1^{T}}\\Sigma^{-1}\\mathbf{\\mu^e} }$$\n",
    "\n",
    "where $\\mathbf{\\Sigma}^{-1}$ is the inverse of the variance-covariance matrix $\\mathbf{\\Sigma}$"
   ]
  },
  {
   "cell_type": "markdown",
   "metadata": {},
   "source": [
    "**Application 3.1**\n",
    "\n",
    "You want to invest in the FANG stocks (Facebook, Aaple, Netflix, and Google) but you are not sure how much to invest in each. Download monthly price data on the FANG stocks over the past 5 years and calculate monthly returns. Use these data to estimate the optimal weights you should use for the four stocks. Assume that the risk-free rate is 0.1%."
   ]
  },
  {
   "cell_type": "code",
   "execution_count": 3,
   "metadata": {},
   "outputs": [],
   "source": [
    "# Import the needed libraries\n",
    "import yfinance as yf\n",
    "import pandas as pd\n",
    "import numpy as np"
   ]
  },
  {
   "cell_type": "code",
   "execution_count": 4,
   "metadata": {},
   "outputs": [],
   "source": [
    "# Inputs\n",
    "rf = 0.001\n",
    "N  = 4"
   ]
  },
  {
   "cell_type": "code",
   "execution_count": 5,
   "metadata": {},
   "outputs": [
    {
     "data": {
      "text/html": [
       "<div>\n",
       "<style scoped>\n",
       "    .dataframe tbody tr th:only-of-type {\n",
       "        vertical-align: middle;\n",
       "    }\n",
       "\n",
       "    .dataframe tbody tr th {\n",
       "        vertical-align: top;\n",
       "    }\n",
       "\n",
       "    .dataframe thead tr th {\n",
       "        text-align: left;\n",
       "    }\n",
       "\n",
       "    .dataframe thead tr:last-of-type th {\n",
       "        text-align: right;\n",
       "    }\n",
       "</style>\n",
       "<table border=\"1\" class=\"dataframe\">\n",
       "  <thead>\n",
       "    <tr>\n",
       "      <th></th>\n",
       "      <th colspan=\"4\" halign=\"left\">Adj Close</th>\n",
       "      <th colspan=\"4\" halign=\"left\">Close</th>\n",
       "      <th colspan=\"2\" halign=\"left\">High</th>\n",
       "      <th>...</th>\n",
       "      <th colspan=\"2\" halign=\"left\">Low</th>\n",
       "      <th colspan=\"4\" halign=\"left\">Open</th>\n",
       "      <th colspan=\"4\" halign=\"left\">Volume</th>\n",
       "    </tr>\n",
       "    <tr>\n",
       "      <th></th>\n",
       "      <th>AAPL</th>\n",
       "      <th>FB</th>\n",
       "      <th>GOOG</th>\n",
       "      <th>NFLX</th>\n",
       "      <th>AAPL</th>\n",
       "      <th>FB</th>\n",
       "      <th>GOOG</th>\n",
       "      <th>NFLX</th>\n",
       "      <th>AAPL</th>\n",
       "      <th>FB</th>\n",
       "      <th>...</th>\n",
       "      <th>GOOG</th>\n",
       "      <th>NFLX</th>\n",
       "      <th>AAPL</th>\n",
       "      <th>FB</th>\n",
       "      <th>GOOG</th>\n",
       "      <th>NFLX</th>\n",
       "      <th>AAPL</th>\n",
       "      <th>FB</th>\n",
       "      <th>GOOG</th>\n",
       "      <th>NFLX</th>\n",
       "    </tr>\n",
       "    <tr>\n",
       "      <th>Date</th>\n",
       "      <th></th>\n",
       "      <th></th>\n",
       "      <th></th>\n",
       "      <th></th>\n",
       "      <th></th>\n",
       "      <th></th>\n",
       "      <th></th>\n",
       "      <th></th>\n",
       "      <th></th>\n",
       "      <th></th>\n",
       "      <th></th>\n",
       "      <th></th>\n",
       "      <th></th>\n",
       "      <th></th>\n",
       "      <th></th>\n",
       "      <th></th>\n",
       "      <th></th>\n",
       "      <th></th>\n",
       "      <th></th>\n",
       "      <th></th>\n",
       "      <th></th>\n",
       "    </tr>\n",
       "  </thead>\n",
       "  <tbody>\n",
       "    <tr>\n",
       "      <th>2016-01-01</th>\n",
       "      <td>22.512041</td>\n",
       "      <td>112.209999</td>\n",
       "      <td>742.950012</td>\n",
       "      <td>91.839996</td>\n",
       "      <td>24.334999</td>\n",
       "      <td>112.209999</td>\n",
       "      <td>742.950012</td>\n",
       "      <td>91.839996</td>\n",
       "      <td>26.462500</td>\n",
       "      <td>112.839996</td>\n",
       "      <td>...</td>\n",
       "      <td>673.260010</td>\n",
       "      <td>90.110001</td>\n",
       "      <td>25.6525</td>\n",
       "      <td>101.949997</td>\n",
       "      <td>743.000000</td>\n",
       "      <td>109.000000</td>\n",
       "      <td>5.087392e+09</td>\n",
       "      <td>792709100.0</td>\n",
       "      <td>46561200.0</td>\n",
       "      <td>488193200.0</td>\n",
       "    </tr>\n",
       "    <tr>\n",
       "      <th>2016-02-01</th>\n",
       "      <td>22.361717</td>\n",
       "      <td>106.919998</td>\n",
       "      <td>697.770020</td>\n",
       "      <td>93.410004</td>\n",
       "      <td>24.172501</td>\n",
       "      <td>106.919998</td>\n",
       "      <td>697.770020</td>\n",
       "      <td>93.410004</td>\n",
       "      <td>24.722500</td>\n",
       "      <td>117.589996</td>\n",
       "      <td>...</td>\n",
       "      <td>663.059998</td>\n",
       "      <td>79.949997</td>\n",
       "      <td>24.1175</td>\n",
       "      <td>112.269997</td>\n",
       "      <td>750.460022</td>\n",
       "      <td>91.790001</td>\n",
       "      <td>3.243450e+09</td>\n",
       "      <td>874152500.0</td>\n",
       "      <td>64367000.0</td>\n",
       "      <td>389268900.0</td>\n",
       "    </tr>\n",
       "    <tr>\n",
       "      <th>2016-03-01</th>\n",
       "      <td>25.343138</td>\n",
       "      <td>114.099998</td>\n",
       "      <td>744.950012</td>\n",
       "      <td>102.230003</td>\n",
       "      <td>27.247499</td>\n",
       "      <td>114.099998</td>\n",
       "      <td>744.950012</td>\n",
       "      <td>102.230003</td>\n",
       "      <td>27.605000</td>\n",
       "      <td>116.989998</td>\n",
       "      <td>...</td>\n",
       "      <td>685.340027</td>\n",
       "      <td>93.610001</td>\n",
       "      <td>24.4125</td>\n",
       "      <td>107.830002</td>\n",
       "      <td>703.619995</td>\n",
       "      <td>94.580002</td>\n",
       "      <td>2.984198e+09</td>\n",
       "      <td>521458900.0</td>\n",
       "      <td>41742400.0</td>\n",
       "      <td>311333700.0</td>\n",
       "    </tr>\n",
       "    <tr>\n",
       "      <th>2016-04-01</th>\n",
       "      <td>21.797100</td>\n",
       "      <td>117.580002</td>\n",
       "      <td>693.010010</td>\n",
       "      <td>90.029999</td>\n",
       "      <td>23.434999</td>\n",
       "      <td>117.580002</td>\n",
       "      <td>693.010010</td>\n",
       "      <td>90.029999</td>\n",
       "      <td>28.097500</td>\n",
       "      <td>120.790001</td>\n",
       "      <td>...</td>\n",
       "      <td>689.000000</td>\n",
       "      <td>88.209999</td>\n",
       "      <td>27.1950</td>\n",
       "      <td>113.750000</td>\n",
       "      <td>738.599976</td>\n",
       "      <td>102.930000</td>\n",
       "      <td>3.489535e+09</td>\n",
       "      <td>741613800.0</td>\n",
       "      <td>42154000.0</td>\n",
       "      <td>340174300.0</td>\n",
       "    </tr>\n",
       "    <tr>\n",
       "      <th>2016-05-01</th>\n",
       "      <td>23.220165</td>\n",
       "      <td>118.809998</td>\n",
       "      <td>735.719971</td>\n",
       "      <td>102.570000</td>\n",
       "      <td>24.965000</td>\n",
       "      <td>118.809998</td>\n",
       "      <td>735.719971</td>\n",
       "      <td>102.570000</td>\n",
       "      <td>25.182501</td>\n",
       "      <td>121.080002</td>\n",
       "      <td>...</td>\n",
       "      <td>689.010010</td>\n",
       "      <td>85.739998</td>\n",
       "      <td>23.4925</td>\n",
       "      <td>117.830002</td>\n",
       "      <td>697.630005</td>\n",
       "      <td>90.410004</td>\n",
       "      <td>3.602686e+09</td>\n",
       "      <td>460544200.0</td>\n",
       "      <td>34996500.0</td>\n",
       "      <td>264997900.0</td>\n",
       "    </tr>\n",
       "  </tbody>\n",
       "</table>\n",
       "<p>5 rows × 24 columns</p>\n",
       "</div>"
      ],
      "text/plain": [
       "            Adj Close                                          Close  \\\n",
       "                 AAPL          FB        GOOG        NFLX       AAPL   \n",
       "Date                                                                   \n",
       "2016-01-01  22.512041  112.209999  742.950012   91.839996  24.334999   \n",
       "2016-02-01  22.361717  106.919998  697.770020   93.410004  24.172501   \n",
       "2016-03-01  25.343138  114.099998  744.950012  102.230003  27.247499   \n",
       "2016-04-01  21.797100  117.580002  693.010010   90.029999  23.434999   \n",
       "2016-05-01  23.220165  118.809998  735.719971  102.570000  24.965000   \n",
       "\n",
       "                                                     High              ...  \\\n",
       "                    FB        GOOG        NFLX       AAPL          FB  ...   \n",
       "Date                                                                   ...   \n",
       "2016-01-01  112.209999  742.950012   91.839996  26.462500  112.839996  ...   \n",
       "2016-02-01  106.919998  697.770020   93.410004  24.722500  117.589996  ...   \n",
       "2016-03-01  114.099998  744.950012  102.230003  27.605000  116.989998  ...   \n",
       "2016-04-01  117.580002  693.010010   90.029999  28.097500  120.790001  ...   \n",
       "2016-05-01  118.809998  735.719971  102.570000  25.182501  121.080002  ...   \n",
       "\n",
       "                   Low                Open                          \\\n",
       "                  GOOG       NFLX     AAPL          FB        GOOG   \n",
       "Date                                                                 \n",
       "2016-01-01  673.260010  90.110001  25.6525  101.949997  743.000000   \n",
       "2016-02-01  663.059998  79.949997  24.1175  112.269997  750.460022   \n",
       "2016-03-01  685.340027  93.610001  24.4125  107.830002  703.619995   \n",
       "2016-04-01  689.000000  88.209999  27.1950  113.750000  738.599976   \n",
       "2016-05-01  689.010010  85.739998  23.4925  117.830002  697.630005   \n",
       "\n",
       "                              Volume                                        \n",
       "                  NFLX          AAPL           FB        GOOG         NFLX  \n",
       "Date                                                                        \n",
       "2016-01-01  109.000000  5.087392e+09  792709100.0  46561200.0  488193200.0  \n",
       "2016-02-01   91.790001  3.243450e+09  874152500.0  64367000.0  389268900.0  \n",
       "2016-03-01   94.580002  2.984198e+09  521458900.0  41742400.0  311333700.0  \n",
       "2016-04-01  102.930000  3.489535e+09  741613800.0  42154000.0  340174300.0  \n",
       "2016-05-01   90.410004  3.602686e+09  460544200.0  34996500.0  264997900.0  \n",
       "\n",
       "[5 rows x 24 columns]"
      ]
     },
     "execution_count": 5,
     "metadata": {},
     "output_type": "execute_result"
    }
   ],
   "source": [
    "# Download data on FANG stocks\n",
    "price_dta = yf.download(tickers = ['FB', 'AAPL', 'NFLX', 'GOOG'],\n",
    "                      start = '2016-01-01',\n",
    "                      end = '2020-12-31',\n",
    "                      interval = '1mo',\n",
    "                      progress = False).dropna()\n",
    "price_dta.head()"
   ]
  },
  {
   "cell_type": "code",
   "execution_count": 6,
   "metadata": {},
   "outputs": [
    {
     "data": {
      "text/html": [
       "<div>\n",
       "<style scoped>\n",
       "    .dataframe tbody tr th:only-of-type {\n",
       "        vertical-align: middle;\n",
       "    }\n",
       "\n",
       "    .dataframe tbody tr th {\n",
       "        vertical-align: top;\n",
       "    }\n",
       "\n",
       "    .dataframe thead th {\n",
       "        text-align: right;\n",
       "    }\n",
       "</style>\n",
       "<table border=\"1\" class=\"dataframe\">\n",
       "  <thead>\n",
       "    <tr style=\"text-align: right;\">\n",
       "      <th></th>\n",
       "      <th>AAPL</th>\n",
       "      <th>FB</th>\n",
       "      <th>GOOG</th>\n",
       "      <th>NFLX</th>\n",
       "    </tr>\n",
       "    <tr>\n",
       "      <th>Date</th>\n",
       "      <th></th>\n",
       "      <th></th>\n",
       "      <th></th>\n",
       "      <th></th>\n",
       "    </tr>\n",
       "  </thead>\n",
       "  <tbody>\n",
       "    <tr>\n",
       "      <th>2016-01-01</th>\n",
       "      <td>NaN</td>\n",
       "      <td>NaN</td>\n",
       "      <td>NaN</td>\n",
       "      <td>NaN</td>\n",
       "    </tr>\n",
       "    <tr>\n",
       "      <th>2016-02-01</th>\n",
       "      <td>-0.006677</td>\n",
       "      <td>-0.047144</td>\n",
       "      <td>-0.060812</td>\n",
       "      <td>0.017095</td>\n",
       "    </tr>\n",
       "    <tr>\n",
       "      <th>2016-03-01</th>\n",
       "      <td>0.133327</td>\n",
       "      <td>0.067153</td>\n",
       "      <td>0.067615</td>\n",
       "      <td>0.094422</td>\n",
       "    </tr>\n",
       "    <tr>\n",
       "      <th>2016-04-01</th>\n",
       "      <td>-0.139921</td>\n",
       "      <td>0.030500</td>\n",
       "      <td>-0.069723</td>\n",
       "      <td>-0.119339</td>\n",
       "    </tr>\n",
       "    <tr>\n",
       "      <th>2016-05-01</th>\n",
       "      <td>0.065287</td>\n",
       "      <td>0.010461</td>\n",
       "      <td>0.061630</td>\n",
       "      <td>0.139287</td>\n",
       "    </tr>\n",
       "  </tbody>\n",
       "</table>\n",
       "</div>"
      ],
      "text/plain": [
       "                AAPL        FB      GOOG      NFLX\n",
       "Date                                              \n",
       "2016-01-01       NaN       NaN       NaN       NaN\n",
       "2016-02-01 -0.006677 -0.047144 -0.060812  0.017095\n",
       "2016-03-01  0.133327  0.067153  0.067615  0.094422\n",
       "2016-04-01 -0.139921  0.030500 -0.069723 -0.119339\n",
       "2016-05-01  0.065287  0.010461  0.061630  0.139287"
      ]
     },
     "execution_count": 6,
     "metadata": {},
     "output_type": "execute_result"
    }
   ],
   "source": [
    "# Calculate monthly returns\n",
    "ret_dta = price_dta['Adj Close'].pct_change()\n",
    "ret_dta.head()"
   ]
  },
  {
   "cell_type": "code",
   "execution_count": 7,
   "metadata": {},
   "outputs": [
    {
     "data": {
      "text/plain": [
       "AAPL    0.034139\n",
       "FB      0.018289\n",
       "GOOG    0.016508\n",
       "NFLX    0.035464\n",
       "dtype: float64"
      ]
     },
     "execution_count": 7,
     "metadata": {},
     "output_type": "execute_result"
    }
   ],
   "source": [
    "# Estimate expected returns (mu vector)\n",
    "er_vector = ret_dta.mean()\n",
    "er_vector"
   ]
  },
  {
   "cell_type": "code",
   "execution_count": 8,
   "metadata": {},
   "outputs": [
    {
     "data": {
      "text/html": [
       "<div>\n",
       "<style scoped>\n",
       "    .dataframe tbody tr th:only-of-type {\n",
       "        vertical-align: middle;\n",
       "    }\n",
       "\n",
       "    .dataframe tbody tr th {\n",
       "        vertical-align: top;\n",
       "    }\n",
       "\n",
       "    .dataframe thead th {\n",
       "        text-align: right;\n",
       "    }\n",
       "</style>\n",
       "<table border=\"1\" class=\"dataframe\">\n",
       "  <thead>\n",
       "    <tr style=\"text-align: right;\">\n",
       "      <th></th>\n",
       "      <th>AAPL</th>\n",
       "      <th>FB</th>\n",
       "      <th>GOOG</th>\n",
       "      <th>NFLX</th>\n",
       "    </tr>\n",
       "  </thead>\n",
       "  <tbody>\n",
       "    <tr>\n",
       "      <th>AAPL</th>\n",
       "      <td>0.007467</td>\n",
       "      <td>0.004003</td>\n",
       "      <td>0.002902</td>\n",
       "      <td>0.003051</td>\n",
       "    </tr>\n",
       "    <tr>\n",
       "      <th>FB</th>\n",
       "      <td>0.004003</td>\n",
       "      <td>0.006586</td>\n",
       "      <td>0.003083</td>\n",
       "      <td>0.004626</td>\n",
       "    </tr>\n",
       "    <tr>\n",
       "      <th>GOOG</th>\n",
       "      <td>0.002902</td>\n",
       "      <td>0.003083</td>\n",
       "      <td>0.003820</td>\n",
       "      <td>0.002369</td>\n",
       "    </tr>\n",
       "    <tr>\n",
       "      <th>NFLX</th>\n",
       "      <td>0.003051</td>\n",
       "      <td>0.004626</td>\n",
       "      <td>0.002369</td>\n",
       "      <td>0.010778</td>\n",
       "    </tr>\n",
       "  </tbody>\n",
       "</table>\n",
       "</div>"
      ],
      "text/plain": [
       "          AAPL        FB      GOOG      NFLX\n",
       "AAPL  0.007467  0.004003  0.002902  0.003051\n",
       "FB    0.004003  0.006586  0.003083  0.004626\n",
       "GOOG  0.002902  0.003083  0.003820  0.002369\n",
       "NFLX  0.003051  0.004626  0.002369  0.010778"
      ]
     },
     "execution_count": 8,
     "metadata": {},
     "output_type": "execute_result"
    }
   ],
   "source": [
    "# Estimate variance-covariance matrix (sigma vector)\n",
    "covar_matrix = ret_dta.cov()\n",
    "covar_matrix"
   ]
  },
  {
   "cell_type": "code",
   "execution_count": 9,
   "metadata": {},
   "outputs": [
    {
     "data": {
      "text/plain": [
       "array([0.03313941, 0.01728946, 0.01550842, 0.03446385])"
      ]
     },
     "execution_count": 9,
     "metadata": {},
     "output_type": "execute_result"
    }
   ],
   "source": [
    "# Vector of risk premia (mu_e vector)\n",
    "risk_premia = np.array(er_vector - rf)\n",
    "risk_premia"
   ]
  },
  {
   "cell_type": "code",
   "execution_count": 10,
   "metadata": {},
   "outputs": [
    {
     "data": {
      "text/plain": [
       "array([[ 218.05263513,  -85.48335377,  -93.92823744,   -4.39807472],\n",
       "       [ -85.48335377,  335.93516868, -152.54715393,  -86.44646141],\n",
       "       [ -93.92823744, -152.54715393,  462.09559727,   -9.49996785],\n",
       "       [  -4.39807472,  -86.44646141,   -9.49996785,  133.21286716]])"
      ]
     },
     "execution_count": 10,
     "metadata": {},
     "output_type": "execute_result"
    }
   ],
   "source": [
    "# Inverse of variance-covariance matrix\n",
    "sigma_inverse = np.linalg.pinv(covar_matrix.values) \n",
    "sigma_inverse"
   ]
  },
  {
   "cell_type": "code",
   "execution_count": 11,
   "metadata": {},
   "outputs": [
    {
     "data": {
      "text/plain": [
       "array([1., 1., 1., 1.])"
      ]
     },
     "execution_count": 11,
     "metadata": {},
     "output_type": "execute_result"
    }
   ],
   "source": [
    "# Vector of ones\n",
    "ones_t = np.ones(N)\n",
    "ones_t"
   ]
  },
  {
   "cell_type": "code",
   "execution_count": 12,
   "metadata": {},
   "outputs": [
    {
     "name": "stdout",
     "output_type": "stream",
     "text": [
      "         W_tan\n",
      "AAPL  0.731142\n",
      "FB   -0.418520\n",
      "GOOG  0.192288\n",
      "NFLX  0.495091\n"
     ]
    }
   ],
   "source": [
    "# Weights for tangency portfolio\n",
    "top = np.dot(sigma_inverse, risk_premia)\n",
    "top\n",
    "\n",
    "bottom = np.dot(np.dot(ones_t, sigma_inverse), risk_premia)\n",
    "bottom\n",
    "\n",
    "W_t = top / bottom\n",
    "W_t\n",
    "\n",
    "# Print results\n",
    "results = pd.DataFrame(W_t, columns = ['W_tan'], index = er_vector.index )\n",
    "print(results)"
   ]
  },
  {
   "cell_type": "code",
   "execution_count": 13,
   "metadata": {},
   "outputs": [],
   "source": [
    "# Save results for next time\n",
    "results.to_csv('./L07_application_tangency.csv')\n",
    "er_vector.to_csv('./L07_application_er_vector.csv')\n",
    "covar_matrix.to_csv('./L07_application_covar_matrix.csv')"
   ]
  }
 ],
 "metadata": {
  "kernelspec": {
   "display_name": "Python 3",
   "language": "python",
   "name": "python3"
  },
  "language_info": {
   "codemirror_mode": {
    "name": "ipython",
    "version": 3
   },
   "file_extension": ".py",
   "mimetype": "text/x-python",
   "name": "python",
   "nbconvert_exporter": "python",
   "pygments_lexer": "ipython3",
   "version": "3.8.5"
  }
 },
 "nbformat": 4,
 "nbformat_minor": 4
}
