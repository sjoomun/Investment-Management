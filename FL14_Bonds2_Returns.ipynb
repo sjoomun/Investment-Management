{
 "cells": [
  {
   "cell_type": "markdown",
   "metadata": {},
   "source": [
    "# Lecture overview\n",
    "\n",
    "\n",
    "- Yield to maturity (YTM) and current yield\n",
    "\n",
    "\n",
    "- Coupon reinvestment\n",
    "\n",
    "\n",
    "- Realized bond yield (return)\n",
    "\n",
    "\n",
    "- Bond realized return when interest rates change"
   ]
  },
  {
   "cell_type": "code",
   "execution_count": 1,
   "metadata": {},
   "outputs": [],
   "source": [
    "# Load packages\n",
    "import bond_pricing.simple_bonds as bp\n",
    "import bond_pricing.present_value as pv\n",
    "import pandas as pd"
   ]
  },
  {
   "cell_type": "markdown",
   "metadata": {},
   "source": [
    "# 1. Yield to maturity and current yield\n",
    "\n",
    "A bond's yield to maturity (YTM) is the rate that makes the present value of the bond's future cash flows equal to its current price. \n",
    "\n",
    "There is an **inverse relationship** between bond prices and their YTM: if a bond has a higher YTM, that means its cash flows are discounted at a higher rate, which means its price is lower. The implication is that bond prices go up when interest rates go down and they go down when interest rates go up.\n",
    "\n",
    "A bond's **current yield** equals its annual coupon payment divided by the current bond price.\n",
    "\n",
    "To calculate YTM using the \"bond-pricing\" package, we use the \"bond_yield\" function that requires the following parameters:\n",
    "\n",
    "- mat = either maturity in years or date of maturity\n",
    "- settle = either don't use it (if mat is expressed in years) or use date when you want to calculate the yield \n",
    "- price = **clean** price of the bond on the date when you want to calculate the yield\n",
    "- cpn = annual coupon rate of the bond\n",
    "- face = par value (aka face value) of the bond\n",
    "- freq = number of compounding periods per year"
   ]
  },
  {
   "cell_type": "markdown",
   "metadata": {},
   "source": [
    "#### Example 1:\n",
    "\n",
    "Bond A matures in 5 years and it pays coupons semi-annualy. It has a coupon rate of 4% and a price of $1050. What is the YTM of the bond? What is the current yield of the bond?"
   ]
  },
  {
   "cell_type": "code",
   "execution_count": 2,
   "metadata": {},
   "outputs": [
    {
     "name": "stdout",
     "output_type": "stream",
     "text": [
      "bond YTM =  0.02918011802922616\n"
     ]
    }
   ],
   "source": [
    "# Calculate YTM\n",
    "ytm = bp.bond_yield(mat = 5, freq = 2, cpn = 0.04, price = 1050, face = 1000)\n",
    "\n",
    "# Print it out\n",
    "print('bond YTM = ', ytm)"
   ]
  },
  {
   "cell_type": "code",
   "execution_count": 3,
   "metadata": {},
   "outputs": [
    {
     "name": "stdout",
     "output_type": "stream",
     "text": [
      "bond current yield =  0.0380952380952381\n"
     ]
    }
   ],
   "source": [
    "# Calculate current yield\n",
    "cur_yield = (0.04 * 1000) / 1050\n",
    "\n",
    "# Print it out\n",
    "print(\"bond current yield = \", cur_yield)"
   ]
  },
  {
   "cell_type": "markdown",
   "metadata": {},
   "source": [
    "#### Example 2:\n",
    "\n",
    "Bond A was issued on 'June-01-2019' and it matures in 'Jun-01-2029'. Coupons are paid semi-annualy. The coupon rate is 8%. On Feb-01-2020, the dirty price of the bond is 1154.557 and the clean price is 1141.224 (the bond uses a '30/360' day count). What is the YTM of the bond on Feb-01-2020?"
   ]
  },
  {
   "cell_type": "code",
   "execution_count": 4,
   "metadata": {},
   "outputs": [
    {
     "name": "stdout",
     "output_type": "stream",
     "text": [
      "YTM =  0.06000007571287143\n"
     ]
    }
   ],
   "source": [
    "# Calculate YTM\n",
    "ytm = bp.bond_yield(settle = '2020-02-01', mat = '2029-06-01', freq = 2,\n",
    "                     cpn = 0.08, price = 1141.224, face = 1000, daycount = 'thirty/360')\n",
    "\n",
    "# Print it out\n",
    "print('YTM = ', ytm)"
   ]
  },
  {
   "cell_type": "code",
   "execution_count": 5,
   "metadata": {},
   "outputs": [
    {
     "data": {
      "text/plain": [
       "0.07010017314742768"
      ]
     },
     "execution_count": 5,
     "metadata": {},
     "output_type": "execute_result"
    }
   ],
   "source": [
    "# Calculate current yield\n",
    "cur_yield = (0.08*1000) / 1141.224\n",
    "cur_yield"
   ]
  },
  {
   "cell_type": "markdown",
   "metadata": {},
   "source": [
    "# 2. Reinvesting coupons\n",
    "\n",
    "Your return from a bond investment (see section 3 below) will depend on how you (re)invest the coupons. If you are able to reinvest your coupons at a higher rate, the total return from the bond will be higher. \n",
    "\n",
    "Below, we work through a couple of examples where we assume you are able to reinvest the coupons at a particular constant interest rate. This makes the coupons a fixed-rate annuity. The total proceeds from the coupons will therefore be the future value of that annuity. \n",
    "\n",
    "We can calculate future values of annuities with the \"bond-pricing\" package using the \"annuity_fv\" function in the \"present_value\" subpackage. The \"annuity_fv\" function requires the following parameters:\n",
    "\n",
    "- rate = interest rate per compounding period \n",
    "- n_periods = number of coupons \n",
    "- instalment = coupon per compounding period (which may not be annual)\n"
   ]
  },
  {
   "cell_type": "markdown",
   "metadata": {},
   "source": [
    "#### Example 3:\n",
    "\n",
    "Bond A matures in 10 years and it pays interest quarterly. It has a coupon rate of 5% and a YTM of 10%. Calculate the total proceeds from the coupons of the bond if you reinvest all coupons at a 10% rate and you hold the bond until maturity.\n"
   ]
  },
  {
   "cell_type": "code",
   "execution_count": 6,
   "metadata": {},
   "outputs": [
    {
     "data": {
      "text/plain": [
       "12.5"
      ]
     },
     "execution_count": 6,
     "metadata": {},
     "output_type": "execute_result"
    }
   ],
   "source": [
    "# Inputs\n",
    "T = 10\n",
    "F = 4\n",
    "crate = 0.05\n",
    "ytm = 0.1\n",
    "par = 1000\n",
    "coupon = par * crate / F\n",
    "coupon"
   ]
  },
  {
   "cell_type": "code",
   "execution_count": 7,
   "metadata": {},
   "outputs": [
    {
     "data": {
      "text/plain": [
       "686.2153118489032"
      ]
     },
     "execution_count": 7,
     "metadata": {},
     "output_type": "execute_result"
    }
   ],
   "source": [
    "# Price the bond today\n",
    "price_when_bought = bp.bond_price(mat = T, freq = F, cpn = crate, yld = ytm, face = par)\n",
    "price_when_bought"
   ]
  },
  {
   "cell_type": "code",
   "execution_count": 8,
   "metadata": {},
   "outputs": [
    {
     "name": "stdout",
     "output_type": "stream",
     "text": [
      "Proceeds from coupons =  842.5319191949816\n"
     ]
    }
   ],
   "source": [
    "# Proceeds from coupons under 10% reinvestment rate\n",
    "fv_coupons = pv.annuity_fv(rate = 0.1/F, n_periods = T*F, instalment = coupon)\n",
    "print(\"Proceeds from coupons = \", fv_coupons)"
   ]
  },
  {
   "cell_type": "markdown",
   "metadata": {},
   "source": [
    "#### Example 4:\n",
    "\n",
    "For the same bond as in Example 3 (matures in 10 years and it pays interest quarterly; it has a coupon rate of 5% and a YTM of 10%), calculate the total proceeds from the coupons of the bond if you do not reinvest them at all. "
   ]
  },
  {
   "cell_type": "code",
   "execution_count": 9,
   "metadata": {},
   "outputs": [
    {
     "data": {
      "text/plain": [
       "500.0"
      ]
     },
     "execution_count": 9,
     "metadata": {},
     "output_type": "execute_result"
    }
   ],
   "source": [
    "# Proceeds from coupons under no reinvestment\n",
    "fv_coupons0 = pv.annuity_fv(rate = 0 / F, n_periods = T * F, instalment = coupon)\n",
    "fv_coupons0"
   ]
  },
  {
   "cell_type": "markdown",
   "metadata": {},
   "source": [
    "# 3. Bond compounded realized yield (realized return)\n",
    "\n",
    "The realized yield (or realized return) of a bond is your total return from investing in the bond. It equals the proceeds from the coupons (possibly reinvested) plus the price you obtain from selling the bond (or par value if you hold it until maturity), all divided by the price you paid for the bond initially.\n",
    "\n",
    "Note that this give us a total, gross, compounded return on the bond. To convert it to an APR, we use the familiar conversion formula:\n",
    "\n",
    "$$APR = F \\cdot (Gross Compounded Return^{\\frac{1}{T \\cdot F}} - 1) $$\n",
    "\n",
    "where\n",
    "\n",
    "- Gross Compounded Return = bond total proceeds (including reinvested coupons) divided by price paid for bond\n",
    "- T is number of years the bond was held, and F is the number of coupons (or compounding periods) per year"
   ]
  },
  {
   "cell_type": "markdown",
   "metadata": {},
   "source": [
    "#### Example 5:\n",
    "\n",
    "For the same bond as in Example 3 (matures in 10 years and it pays interest quarterly; it has a coupon rate of 5% and a YTM of 10%), calculate the realized return of the bond if coupons are reinvested at a 10% rate and the bond is sold at maturity. "
   ]
  },
  {
   "cell_type": "code",
   "execution_count": 10,
   "metadata": {},
   "outputs": [
    {
     "name": "stdout",
     "output_type": "stream",
     "text": [
      "Total proceeds from bond =  1842.5319191949816\n"
     ]
    }
   ],
   "source": [
    "# Total proceeds from bond under 10% coupon reinvestment rate\n",
    "fv_total = par + pv.annuity_fv(rate = 0.1/F, n_periods = T*F, instalment = coupon)\n",
    "print(\"Total proceeds from bond = \", fv_total)"
   ]
  },
  {
   "cell_type": "code",
   "execution_count": 11,
   "metadata": {},
   "outputs": [
    {
     "name": "stdout",
     "output_type": "stream",
     "text": [
      "Total HPR =  2.685063838389963\n"
     ]
    }
   ],
   "source": [
    "# Total (gross) realized return of the bond under 10% coupon reinvestment rate\n",
    "hpr = fv_total / price_when_bought\n",
    "print(\"Total HPR = \", hpr)"
   ]
  },
  {
   "cell_type": "code",
   "execution_count": 12,
   "metadata": {},
   "outputs": [
    {
     "name": "stdout",
     "output_type": "stream",
     "text": [
      "Bond realized return under 10% coupon reinvestment =  0.100\n"
     ]
    }
   ],
   "source": [
    "# Annualized realized return under 10% coupon reinvestment rate (we are converting an EAR into an APR)\n",
    "hpr_annual = (hpr ** (1/(T*F)) - 1) * F\n",
    "print(f'Bond realized return under 10% coupon reinvestment = {hpr_annual: .3f}')"
   ]
  },
  {
   "cell_type": "markdown",
   "metadata": {},
   "source": [
    "#### Example 6:\n",
    "\n",
    "For the same bond as in Example 3 (matures in 10 years and it pays interest quarterly; it has a coupon rate of 5% and a YTM of 10%), calculate the realized return of the bond if coupons are not reinvested and the bond is sold at maturity. "
   ]
  },
  {
   "cell_type": "code",
   "execution_count": 16,
   "metadata": {},
   "outputs": [
    {
     "name": "stdout",
     "output_type": "stream",
     "text": [
      "Total proceeds from bond =  1500.0\n",
      "Total HPR =  2.185902841425204\n",
      "Bond realized return under 10% coupon reinvestment =  0.079\n"
     ]
    }
   ],
   "source": [
    "fv_total0 = par + pv.annuity_fv(rate = 0/F, n_periods = T*F, instalment = coupon)\n",
    "print(\"Total proceeds from bond = \", fv_total0)\n",
    "\n",
    "hpr0 = fv_total0 / price_when_bought\n",
    "print(\"Total HPR = \", hpr0)\n",
    "\n",
    "hpr_annual = (hpr ** (1/(T*F)) - 1) * F\n",
    "print(f'Bond realized return under 10% coupon reinvestment = {hpr_annual0: .3f}')"
   ]
  },
  {
   "cell_type": "markdown",
   "metadata": {},
   "source": [
    "# 4. Realized returns when interest rates change\n",
    "\n",
    "It is important to note that, if interest rates change after you buy a bond, both your reinvestment rate and your YTM will likely change in the same direction. If rates drop, this is bad news for the value of the coupon payments (since you will be reinvesting them at a lower rate) but it is good news for the resale value of the bond itself (since a lower YTM means a higher price). The opposite happens if interest rates increase after you purchase the bond."
   ]
  },
  {
   "cell_type": "markdown",
   "metadata": {},
   "source": [
    "#### Example 7:\n",
    "\n",
    "Bond A matures in 10 years and it pays interest quarterly. It has a coupon rate of 5% and a YTM of 10%. You buy the bond today, and over the next 4 years, you reinvest all coupons at an 8% rate. In 4 years, the bond's YTM is 7% and you sell it. What was your realized return from your investment in this bond?"
   ]
  },
  {
   "cell_type": "code",
   "execution_count": 13,
   "metadata": {},
   "outputs": [
    {
     "name": "stdout",
     "output_type": "stream",
     "text": [
      "Bond realized return  =  0.128\n"
     ]
    }
   ],
   "source": [
    "# Proceeds from coupons\n",
    "fv_coup = pv.annuity_fv(rate = 0.08/F, n_periods = 4*F, instalment = coupon)\n",
    "\n",
    "# Proceeds from sale of bond\n",
    "sale_p = bp.bond_price(mat = 6, freq = F, cpn = crate, yld = 0.07, face = par)\n",
    "\n",
    "# Total HPR\n",
    "hpr = (fv_coup + sale_p) / price_when_bought\n",
    "\n",
    "# Annual realized return\n",
    "hpr_annual = (hpr ** (1/(4*F)) - 1) * F\n",
    "print(f'Bond realized return  = {hpr_annual: .3f}')  "
   ]
  },
  {
   "cell_type": "markdown",
   "metadata": {},
   "source": [
    "#### Example 8:\n",
    "\n",
    "Bond A has a YTM of 6% and a coupon rate of 4%. It has a face value of \\\\$100, it matures in 8 years and pays coupons annually. Suppose you buy the bond today and reinvest all coupons at a rate of 4\\%. You sell the bond in 6 years. At the time of sale, the YTM of the bond was 8\\%. Calculate the realized return over the 6-year holding period (expressed as an APR).  "
   ]
  },
  {
   "cell_type": "code",
   "execution_count": 17,
   "metadata": {},
   "outputs": [
    {
     "name": "stdout",
     "output_type": "stream",
     "text": [
      "4.0 6 2\n"
     ]
    }
   ],
   "source": [
    "ytm = 0.06\n",
    "cr = 0.04\n",
    "par = 100\n",
    "ttm = 8\n",
    "f = 1\n",
    "reinv = 0.04\n",
    "new_ytm = 0.08\n",
    "holding_period = 6\n",
    "\n",
    "coupon = par * cr / f\n",
    "nr_payments = holding_period * f\n",
    "ttm_at_sale = ttm - holding_period\n",
    "\n",
    "print(coupon, nr_payments, ttm_at_sale)"
   ]
  },
  {
   "cell_type": "code",
   "execution_count": 18,
   "metadata": {},
   "outputs": [
    {
     "name": "stdout",
     "output_type": "stream",
     "text": [
      "87.58041237806088 92.86694101508915\n"
     ]
    }
   ],
   "source": [
    "price_when_bought = bp.bond_price(mat = ttm, freq = f, cpn = cr, yld = ytm, face = par)\n",
    "price_when_sold = bp.bond_price(mat = ttm_at_sale, freq = f, cpn = cr, yld = new_ytm, face = par)\n",
    "\n",
    "print(price_when_bought, price_when_sold)"
   ]
  },
  {
   "cell_type": "code",
   "execution_count": 19,
   "metadata": {},
   "outputs": [
    {
     "data": {
      "text/plain": [
       "26.531901849600036"
      ]
     },
     "execution_count": 19,
     "metadata": {},
     "output_type": "execute_result"
    }
   ],
   "source": [
    "fv_coup = pv.annuity_fv(rate = cr/f, n_periods = nr_payments, instalment = coupon)\n",
    "fv_coup"
   ]
  },
  {
   "cell_type": "code",
   "execution_count": 21,
   "metadata": {},
   "outputs": [
    {
     "data": {
      "text/plain": [
       "0.05300925605120432"
      ]
     },
     "execution_count": 21,
     "metadata": {},
     "output_type": "execute_result"
    }
   ],
   "source": [
    "hpr = (fv_coup + price_when_sold) / price_when_bought\n",
    "hpr\n",
    "\n",
    "hpr_annual = (hpr ** (1/(holding_period * f )) - 1) * f\n",
    "hpr_annual"
   ]
  },
  {
   "cell_type": "markdown",
   "metadata": {},
   "source": [
    "# 5. Resources\n",
    "\n",
    "\n",
    "- bond-pricing package\n",
    "    - https://bond-pricing.readthedocs.io/en/latest/\n",
    "    \n",
    "    \n",
    "- isda_daycounters\n",
    "    - https://github.com/miradulo/isda_daycounters\n",
    "\n"
   ]
  }
 ],
 "metadata": {
  "kernelspec": {
   "display_name": "Python 3",
   "language": "python",
   "name": "python3"
  },
  "language_info": {
   "codemirror_mode": {
    "name": "ipython",
    "version": 3
   },
   "file_extension": ".py",
   "mimetype": "text/x-python",
   "name": "python",
   "nbconvert_exporter": "python",
   "pygments_lexer": "ipython3",
   "version": "3.8.5"
  }
 },
 "nbformat": 4,
 "nbformat_minor": 4
}
