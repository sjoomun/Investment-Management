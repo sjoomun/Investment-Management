{
 "cells": [
  {
   "cell_type": "markdown",
   "metadata": {},
   "source": [
    "# Lecture Overview\n",
    "\n",
    "- Preliminaries\n",
    "    - bond-pricing package\n",
    "    - isda_daycounters package\n",
    "    \n",
    "\n",
    "- Bond pricing review\n",
    "\n",
    "\n",
    "- Pricing bonds on coupon days\n",
    "\n",
    "\n",
    "- Evolution of bond prices over time\n",
    "    - Discount vs Premium bonds\n",
    "    - Pull to par\n",
    "\n",
    "\n",
    "- Pricing bonds on non-coupon days"
   ]
  },
  {
   "cell_type": "markdown",
   "metadata": {},
   "source": [
    "# 1. Preliminaries\n",
    "\n",
    "There are several tools you can use to price bonds in Python. We will use **the \"bond-pricing\" package**. Before we proceed, please install this package by typing \n",
    "\n",
    "**pip install bond-pricing** \n",
    "\n",
    "in a Terminal or Anaconda Prompt.\n",
    "\n",
    "We also need to install a package called \"isda_daycounters\" that is able to deal with the most common day-count conventions. To install this package, we first need to install git using \n",
    "\n",
    "**conda install git**\n",
    "\n",
    "Now we can pip install the isda_daycounters package from source using \n",
    "\n",
    "**pip install git+https://github.com/jrvarma/isda_daycounters**\n"
   ]
  },
  {
   "cell_type": "code",
   "execution_count": 1,
   "metadata": {},
   "outputs": [],
   "source": [
    "# Import packages\n",
    "import bond_pricing.simple_bonds as bp\n",
    "import pandas as pd\n",
    "import numpy as np"
   ]
  },
  {
   "cell_type": "markdown",
   "metadata": {},
   "source": [
    "# 2. Bond pricing review\n",
    "\n",
    "Bond prices are calculated using the same general approach as the prices of any financial asset: they equal the discounted value of their future cash flows. \n",
    "\n",
    "$$P_t = \\frac{C}{1+YTM} + \\frac{C}{(1+YTM)^2} + ... + \\frac{C + Par}{(1+YTM)^T} $$                    \n",
    "\n",
    "\n",
    "where\n",
    "- $P_t$ is the price of the bond at time $t$\n",
    "- $C$ is the coupon payment of the bond\n",
    "- $Par$ is the par value of the bond (also known as it face value)\n",
    "- $T$ is the number of years left until maturity of the bond \n",
    "- $YTM$ is the yield to maturity of the bond (often simply called the yield of the bond)\n",
    "\n",
    "\n",
    "For bonds that do not pay coupons (also known as **zero-coupon bonds** or \"zeros\"), the formula becomes\n",
    "\n",
    "\n",
    "$$P_t = \\frac{Par}{(1+YTM)^T} $$                    \n",
    "\n",
    "\n",
    "\n",
    "**Caveat 1**: \n",
    "\n",
    "The formula above is only correct if the bond has a single coupon payment per year. If the bond pays \"F\" coupons per year (e.g. F = 2 for bond with semi-annual coupon payments) then the formula above becomes:\n",
    "\n",
    "$$P_t = \\frac{C/F}{1+YTM/F} + \\frac{C/F}{(1+YTM/F)^2} + ... + \\frac{C/F + Par}{(1+YTM/F)^{T \\cdot F}} $$                    \n",
    "\n",
    "\n",
    "**Caveat 2**:\n",
    "\n",
    "The formula above is only valid on coupon-paying days (i.e. $t$ is immediately after a coupon is paid) or when the bond is issued. On any other day, we need to adjust the price for something called \"accrued interest\". We cover this in detail in section 4 below.\n"
   ]
  },
  {
   "cell_type": "markdown",
   "metadata": {},
   "source": [
    "# 3. Pricing bonds on coupon days\n",
    "\n",
    "To price bonds on coupon-paying days using the bond-pricing package, we use the \"bond_price\" function of the package with the following parameters:\n",
    "\n",
    "- cpn  = Coupon rate in decimal (i.e. 6% is entered as 0.06 not 6)\n",
    "- yld  = Yield to maturity in decimal\n",
    "- freq = Number of coupon payments per year (you don't need to specify this parameter for zero coupon bonds)\n",
    "- face = Par value of the bond\n",
    "- mat = Maturity in years\n",
    "\n",
    "**Example 1:**\n",
    "\n",
    "Bond A just paid a coupon. It matures in one year, has par value of \\\\$1000, pays coupons semiannually (so it has 2 more coupon payments left) and has a coupon rate of 6\\%. You know that it has a yield to maturity of 2\\%. What is the price of the bond today?"
   ]
  },
  {
   "cell_type": "code",
   "execution_count": 17,
   "metadata": {},
   "outputs": [
    {
     "name": "stdout",
     "output_type": "stream",
     "text": [
      "bond price =  1039.4079011861584\n"
     ]
    }
   ],
   "source": [
    "# Calculate price\n",
    "p = bp.bond_price(mat = 1, freq = 2, cpn = 0.06, yld = 0.02, face = 1000)\n",
    "print(\"bond price = \", p)"
   ]
  },
  {
   "cell_type": "markdown",
   "metadata": {},
   "source": [
    "#### Example 2:\n",
    "\n",
    "Bond A matures in 10 years, and pays coupons annually. It has a coupon rate of 8%, a yield of 12%, and a par value of $100. What is the price of the bond today?"
   ]
  },
  {
   "cell_type": "code",
   "execution_count": 18,
   "metadata": {},
   "outputs": [
    {
     "name": "stdout",
     "output_type": "stream",
     "text": [
      "bond price =  77.39910788635653\n"
     ]
    }
   ],
   "source": [
    "# Calculate price\n",
    "p = bp.bond_price(mat = 10, freq = 1, cpn = 0.08, yld = 0.12, face = 100)\n",
    "print(\"bond price = \", p)"
   ]
  },
  {
   "cell_type": "markdown",
   "metadata": {},
   "source": [
    "#### Example 3:\n",
    "\n",
    "Bond A has 5 more payments left, and pays coupons semi-annually. It has a coupon rate of 8%, a yield of 12%, and a par value of $100. What is the price of the bond today?"
   ]
  },
  {
   "cell_type": "code",
   "execution_count": 4,
   "metadata": {},
   "outputs": [
    {
     "name": "stdout",
     "output_type": "stream",
     "text": [
      "years to maturity =  2.5\n",
      "bond price =  91.57527242886857\n"
     ]
    }
   ],
   "source": [
    "# Calculate years left until maturity\n",
    "payments_left = 5\n",
    "payments_per_year = 2\n",
    "years_to_maturity = payments_left / payments_per_year\n",
    "print(\"years to maturity = \", years_to_maturity)\n",
    "\n",
    "# Calculate price\n",
    "p = bp.bond_price(mat = years_to_maturity, freq = payments_per_year, cpn = 0.08, yld = 0.12, face = 100)\n",
    "print(\"bond price = \", p)"
   ]
  },
  {
   "cell_type": "markdown",
   "metadata": {},
   "source": [
    "# 4. Evolution of bond prices over time\n",
    "\n",
    "**Discount bonds** are bonds with a price lower than their par value. These are bonds where the yield to maturity is higher than the coupon rate (example 4 below). The price of these bonds increases over the lifetime of the bond until they reach par value at maturity (this process is called **\"pull to par\"**). This assumes that the YTM does not change during this time.\n",
    "\n",
    "**Premium bonds** are bonds with a price higher than their par value. These are bonds where the YTM is lower than the coupon rate (example 5 below). Again, due to \"pull to par\", the price of these bonds decreases over time until it reaches par value at maturity.\n",
    "\n",
    "**Par bonds** are bonds that trade at a price equal to their par value. The YTM of par bonds is equal to their coupon rate.\n",
    "\n",
    "It is important to remember that the increase and decrease in bond prices caused by pull to par does not mean that these bonds have become more or less attractive over time. Nothing about these bonds changes other than time to maturity."
   ]
  },
  {
   "cell_type": "markdown",
   "metadata": {},
   "source": [
    "#### Example 4:\n",
    "\n",
    "Bond A matures in 10 years and pays coupons quarterly. It has a coupon rate of 6%, a yield of 8%, and a face falue of $1000.\n",
    "Calculate the price of the bond today, and on each coupon paying day (immediately after the coupon is paid) until the bond matures. Plot these prices over time."
   ]
  },
  {
   "cell_type": "code",
   "execution_count": 5,
   "metadata": {},
   "outputs": [],
   "source": [
    "# Bond inputs\n",
    "T = 10\n",
    "payments_per_year = 4\n",
    "c = 0.06\n",
    "y = 0.08\n",
    "par = 1000\n",
    "\n",
    "total_nr_payments = T * payments_per_year"
   ]
  },
  {
   "cell_type": "code",
   "execution_count": 6,
   "metadata": {},
   "outputs": [],
   "source": [
    "# Create empty dataframe to record the prices\n",
    "res = pd.DataFrame(np.nan, index = range(1+total_nr_payments), columns = [\"Bond Price\"])\n",
    "#res"
   ]
  },
  {
   "cell_type": "code",
   "execution_count": 7,
   "metadata": {},
   "outputs": [],
   "source": [
    "# Loop through payments left, and calculate prices at each point\n",
    "for payment_nr in range(1+total_nr_payments):\n",
    "    \n",
    "    # Calculate maturity in years\n",
    "    payments_left = total_nr_payments - payment_nr\n",
    "    years_to_maturity = payments_left / payments_per_year\n",
    "    \n",
    "    # Calculate price and store it in the res table\n",
    "    res.loc[payment_nr, 'Bond Price'] = bp.bond_price(mat = years_to_maturity, \n",
    "                                                      freq = payments_per_year, \n",
    "                                                      cpn = c, yld = y, face = par)\n",
    "    "
   ]
  },
  {
   "cell_type": "code",
   "execution_count": 8,
   "metadata": {},
   "outputs": [
    {
     "data": {
      "image/png": "[encoded data removed]",
      "text/plain": [
       "<Figure size 432x288 with 1 Axes>"
      ]
     },
     "metadata": {
      "needs_background": "light"
     },
     "output_type": "display_data"
    }
   ],
   "source": [
    "# Take a look at the results\n",
    "res\n",
    "res.plot();"
   ]
  },
  {
   "cell_type": "markdown",
   "metadata": {},
   "source": [
    "#### Example 5:\n",
    "\n",
    "Re-run the above example using a yield of 4%"
   ]
  },
  {
   "cell_type": "markdown",
   "metadata": {},
   "source": [
    "# 5. Pricing bonds on non-coupon days\n",
    "\n",
    "On non-coupon paying days, the bond pricing formula above fails because the distance to future payments can not be represented as a whole number anymore. The price is still the discounted value of future payments:\n",
    "\n",
    "\n",
    "$$P_{t_0} = \\frac{C}{(1+YTM)^{t_1}} + \\frac{C}{(1+YTM)^{t_2}} + ... + \\frac{C + Par}{(1+YTM)^{t_N}} $$                    \n",
    "\n",
    "where\n",
    "- $t_0$ is the time when the bond is being priced\n",
    "- $t_1$ is the amount of time between $t_0$ and the first coupon payment\n",
    "- $t_2$ is the amount of time between $t_0$ and the second coupon payment\n",
    "\n",
    "...\n",
    "- $t_N$ is the amount of time between $t_0$ and the last coupon payment\n",
    "\n",
    "\n",
    "### 5.1. Day-counting conventions\n",
    "\n",
    "A crucial question is: how should $t_1$, $t_2$,...,$t_N$ be calculated. The answer to this question can be different from bond to bond, depending on the day-counting convention used for that type of bond. The most common conventions are:\n",
    "\n",
    "- 30/360 (assumes all months have 30 days and all years have 360 days)\n",
    "    - most common for corporate bonds, municipal bonds and mortgage-backed securities\n",
    "\n",
    "\n",
    "- Actual/360 (uses the actual number of days between dates, but assumes all years have 360 days)\n",
    "    - most common for short-term securities like commercial paper and T-bills\n",
    "\n",
    "\n",
    "- Actual/Actual (uses the actual number of days between dates, and the actual number of days in the year)\n",
    "    - most common for Treasury Bonds\n",
    "\n",
    "\n",
    "### 5.2. Clean vs dirty prices\n",
    "\n",
    "The price given by the formula above is called the **dirty price** or **invoice price** of the bond. This is the price you actually have to pay if you buy the bond at $t_0$. \n",
    "\n",
    "The price that is quoted for the bond is called the **clean price** or **flat price** of the bond. This price differs from the dirty price by the amount of **accrued interest** of the bond since the last coupon payment.\n",
    "\n",
    "$$Dirty Price = Clean Price + Accrued Interest$$\n",
    "\n",
    "It is also important to remember that, bond prices are quoted as percentage of par. So a bond with par value of \\\\$1000 and a price of 103, actually has a clean price of $1030.\n",
    "\n",
    "### 5.3. Using the bond-pricing package\n",
    "\n",
    "To calculate these three quantities with the \"bond-pricing\" package, we use its \"bond_price_breakup\" function, and we provide the date when we are pricing the bond as the \"settle\" parameter, and the date when the bond matures as the \"mat\" parameter. To choose the day-counting convention, we use the \"daycount\" parameter (e.g. daycount = 'thirty/360', or daycount = 'actual/360', or daycount = 'actual/actual')."
   ]
  },
  {
   "cell_type": "markdown",
   "metadata": {},
   "source": [
    "**Example 6:**\n",
    "\n",
    "Bond A was issued on 'Jan-01-2016' and it matures in 'Jan-01-2017'. Coupons are paid semi-annualy, on July-01 and Jan-01. The coupon rate is 6%. Assume the yield to maturity is 8% throughout the lifetime of the bond. (when I do not specify the par value, assume that it is $1000).\n",
    "\n",
    "1. What is the price of the bond on July-01-2016, immediately after the coupon is paid?"
   ]
  },
  {
   "cell_type": "code",
   "execution_count": 9,
   "metadata": {},
   "outputs": [],
   "source": [
    "# Inputs\n",
    "mat_date = '2017-01-01'\n",
    "F = 2\n",
    "coupon_rate = 0.06\n",
    "ytm = 0.08\n",
    "par = 1000"
   ]
  },
  {
   "cell_type": "code",
   "execution_count": 10,
   "metadata": {},
   "outputs": [
    {
     "data": {
      "text/plain": [
       "990.3846153846155"
      ]
     },
     "execution_count": 10,
     "metadata": {},
     "output_type": "execute_result"
    }
   ],
   "source": [
    "# Price bond on July-01-2016 by specifying maturity in years  (as above)\n",
    "pjuly = bp.bond_price(mat = 1/2, freq = F, cpn = coupon_rate, yld = ytm, face = par)\n",
    "pjuly"
   ]
  },
  {
   "cell_type": "code",
   "execution_count": 11,
   "metadata": {},
   "outputs": [
    {
     "name": "stdout",
     "output_type": "stream",
     "text": [
      "bond price using mat as years =  990.385\n"
     ]
    }
   ],
   "source": [
    "# Price bond on July-01-2016 by specifying pricing date for the \"settle\" parameter\n",
    "pjuly2 = bp.bond_price(settle = '2016-07-01', mat = mat_date, freq = F,  \n",
    "                   cpn = coupon_rate, yld = ytm, face = par)\n",
    "\n",
    "print(f'bond price using mat as years = {pjuly2: .3f}', )"
   ]
  },
  {
   "cell_type": "markdown",
   "metadata": {},
   "source": [
    "#### Example 6 (continued):\n",
    "\n",
    "2. What is the price of the bond on June-30-2016?\n",
    "    - Using 30/360 convention\n",
    "    - Using Actual/360 convention\n",
    "    - Using Actual/Actual convention"
   ]
  },
  {
   "cell_type": "code",
   "execution_count": 12,
   "metadata": {},
   "outputs": [
    {
     "data": {
      "text/plain": [
       "{'DirtyPrice': 1020.1623050925951,\n",
       " 'AccruedInterest': 29.833333333333332,\n",
       " 'CleanPrice': 990.3289717592618,\n",
       " 'NextCoupon': Timestamp('2016-07-01 00:00:00'),\n",
       " 'PreviousCoupon': Timestamp('2016-01-01 00:00:00')}"
      ]
     },
     "execution_count": 12,
     "metadata": {},
     "output_type": "execute_result"
    }
   ],
   "source": [
    "# Using 30/360\n",
    "p1 = bp.bond_price_breakup(settle = '2016-06-30', mat = mat_date, yld = ytm,  \n",
    "                       freq = F, cpn = coupon_rate, face = par, daycount = 'thirty/360')\n",
    "p1\n",
    "\n",
    "# Print just the dirty price\n",
    "#print(p1['DirtyPrice'])"
   ]
  },
  {
   "cell_type": "code",
   "execution_count": 13,
   "metadata": {},
   "outputs": [
    {
     "data": {
      "text/plain": [
       "{'DirtyPrice': 1020.0557351448831,\n",
       " 'AccruedInterest': 29.753424657534246,\n",
       " 'CleanPrice': 990.3023104873488,\n",
       " 'NextCoupon': Timestamp('2016-07-01 00:00:00'),\n",
       " 'PreviousCoupon': Timestamp('2016-01-01 00:00:00')}"
      ]
     },
     "execution_count": 13,
     "metadata": {},
     "output_type": "execute_result"
    }
   ],
   "source": [
    "# Using Actual/360\n",
    "p2 = bp.bond_price_breakup(settle = '2016-06-30', mat = mat_date, yld = ytm,  \n",
    "                       freq = F, cpn = coupon_rate, face = par, daycount = 'actual/365')\n",
    "p2"
   ]
  },
  {
   "cell_type": "code",
   "execution_count": 14,
   "metadata": {},
   "outputs": [
    {
     "data": {
      "text/plain": [
       "{'DirtyPrice': 101.99473297412712,\n",
       " 'AccruedInterest': 2.9672131147540983,\n",
       " 'CleanPrice': 99.02751985937302,\n",
       " 'NextCoupon': Timestamp('2016-07-01 00:00:00'),\n",
       " 'PreviousCoupon': Timestamp('2016-01-01 00:00:00')}"
      ]
     },
     "execution_count": 14,
     "metadata": {},
     "output_type": "execute_result"
    }
   ],
   "source": [
    "# Using Actual/Actual\n",
    "p4 = bp.bond_price_breakup(settle = '2016-06-30', mat = mat_date, yld = ytm, \n",
    "                       freq = F, cpn = coupon_rate, face = 100, daycount = 'actual/actual')\n",
    "p4"
   ]
  },
  {
   "cell_type": "code",
   "execution_count": 15,
   "metadata": {},
   "outputs": [
    {
     "name": "stdout",
     "output_type": "stream",
     "text": [
      "Clean price =  99.02751985937302\n",
      "Dirty price =  101.99473297412712\n"
     ]
    }
   ],
   "source": [
    "# Extract just the clean price and dirty price\n",
    "pclean = p4['CleanPrice']\n",
    "pdirty = p4['DirtyPrice']\n",
    "print('Clean price = ', pclean)\n",
    "print('Dirty price = ', pdirty)"
   ]
  },
  {
   "cell_type": "markdown",
   "metadata": {},
   "source": [
    "#### Example 7:\n",
    "\n",
    "Bond A was issued on 'June-01-2019' and it matures in 'Jun-01-2029'. Coupons are paid semi-annualy. The coupon rate is 8% and the yield to maturity is 6%. Print just the clean price, accrued interest, and dirty price of the bond on Feb-01-2020. Use a 30/360 day count."
   ]
  },
  {
   "cell_type": "code",
   "execution_count": 22,
   "metadata": {},
   "outputs": [
    {
     "name": "stdout",
     "output_type": "stream",
     "text": [
      "1141.2245819488737\n",
      "1154.5579152822072\n",
      "13.333333333333332\n",
      "{'DirtyPrice': 1154.5579152822072, 'AccruedInterest': 13.333333333333332, 'CleanPrice': 1141.2245819488737, 'NextCoupon': Timestamp('2020-06-01 00:00:00'), 'PreviousCoupon': Timestamp('2019-12-01 00:00:00')}\n"
     ]
    }
   ],
   "source": [
    "p = bp.bond_price_breakup(settle='2020-02-01', mat = '2029-06-01', \n",
    "                          freq = 2, cpn = 0.08, yld = 0.06, face = 1000, \n",
    "                          daycount = 'thirty/360')\n",
    "print(p['CleanPrice'])\n",
    "print(p['DirtyPrice'])\n",
    "print(p['AccruedInterest'])\n",
    "print(p)"
   ]
  },
  {
   "cell_type": "markdown",
   "metadata": {},
   "source": [
    "# 6. Resources\n",
    "\n",
    "\n",
    "- bond-pricing package\n",
    "    - https://bond-pricing.readthedocs.io/en/latest/\n",
    "    \n",
    "    \n",
    "- isda_daycounters\n",
    "    - https://github.com/miradulo/isda_daycounters\n"
   ]
  }
 ],
 "metadata": {
  "kernelspec": {
   "display_name": "Python 3",
   "language": "python",
   "name": "python3"
  },
  "language_info": {
   "codemirror_mode": {
    "name": "ipython",
    "version": 3
   },
   "file_extension": ".py",
   "mimetype": "text/x-python",
   "name": "python",
   "nbconvert_exporter": "python",
   "pygments_lexer": "ipython3",
   "version": "3.8.5"
  }
 },
 "nbformat": 4,
 "nbformat_minor": 4
}
