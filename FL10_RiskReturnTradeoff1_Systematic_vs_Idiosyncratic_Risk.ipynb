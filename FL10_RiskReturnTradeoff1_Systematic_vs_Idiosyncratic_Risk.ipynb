{
 "cells": [
  {
   "cell_type": "markdown",
   "metadata": {},
   "source": [
    "# 1. Lecture Overview\n",
    "\n",
    "- The single-factor model\n",
    "    - Systematic risk\n",
    "    - Idiosyncratic risk\n",
    "    - Beta\n",
    "    - Alpha\n",
    "    \n",
    "    \n",
    "- Application\n",
    "    - Estimate the above quantities for a given stock\n",
    "        - Requires the following packages:\n",
    "            - 'pandas_datareader': we will use it to obtain data on market returns, risk-free rate, and other risk factors\n",
    "            - 'statsmodels': we will use it to run regressions"
   ]
  },
  {
   "cell_type": "markdown",
   "metadata": {},
   "source": [
    "# 2. The single-factor model\n",
    "\n",
    "We have seem in previous lectures that some portion of a stock's total risk can be diversified away when the stock is part of a larger portfolio. This portion is often referred to as the stock's **idiosyncratic risk**. The remaining portion, which can not be diversified away is often called its **systematic risk**. \n",
    "\n",
    "The single-factor model is a statistical model which assumes that all sources of systematic risk (economic factors that affect all firms to some extent) are captured by the returns on the market portfolio. If this is the case, then we can quantify a firm's systematic and idiosyncratic risk by writing its excess returns as a linear function of market excess returns (for every firm $i$ and time $t$) plus some noise ($\\epsilon_{i,t}$ below):\n",
    "\n",
    "$$R_{i,t} - R_{f,t} = \\alpha_i + \\beta_i (R_{m,t} - R_{f,t}) + \\epsilon_{i,t}$$\n",
    "\n",
    "where:\n",
    "- $R_{i,t}$ is the return of firm $i$ at time $t$\n",
    "- $R_{m,t}$ is the return of the market at time $t$ (we generally use the S&P500 index as the market portfolio)\n",
    "- $R_{f,t}$ is the risk-free rate at time $t$ (most commonly the yield on the 1-month Tbill)\n",
    "\n",
    "\n",
    "- $\\beta_i (R_{m,t} - R_{f,t})$ is the portion of the firm's return that is caused by systematic (undiversifiable) shocks\n",
    "- $\\epsilon_{i,t}$ is the portion of the firm's return that is caused by idiosyncratic (firm-specific, or diversifiable) shocks \n",
    "\n",
    "\n",
    "- $\\beta_i$ tells us if the firm has more or less systematic risk than the average firm in the economy (average $\\beta$ = 1)\n",
    "- $\\alpha_i$ tells us if the firm has offered a higher or lower return (on average) than what was warranted by its exposure to the market (its $\\beta$)\n",
    "    - If markets are efficient and the market perfectly captures all systematic shocks, then $\\alpha$ should be zero for all firms at all times"
   ]
  },
  {
   "cell_type": "markdown",
   "metadata": {},
   "source": [
    "# 3. Application\n",
    "\n",
    "Use data for the past 10 years for TSLA, to calculate its $\\alpha$, $\\beta$, and the percentage of its risk that can be diversified away. For data on market returns and the risk-free rate, use the \"pandas_datareader\" to access this data on Ken French's website."
   ]
  },
  {
   "cell_type": "code",
   "execution_count": 1,
   "metadata": {},
   "outputs": [],
   "source": [
    "# Import packages\n",
    "import pandas as pd\n",
    "import yfinance as yf\n",
    "import pandas_datareader as pdr\n",
    "import statsmodels.api as sm\n",
    "import matplotlib.pyplot as plt"
   ]
  },
  {
   "cell_type": "markdown",
   "metadata": {},
   "source": [
    "### 3.1. Get data on the firm and clean it"
   ]
  },
  {
   "cell_type": "code",
   "execution_count": 2,
   "metadata": {},
   "outputs": [
    {
     "name": "stdout",
     "output_type": "stream",
     "text": [
      "[*********************100%***********************]  1 of 1 completed\n"
     ]
    },
    {
     "data": {
      "text/html": [
       "<div>\n",
       "<style scoped>\n",
       "    .dataframe tbody tr th:only-of-type {\n",
       "        vertical-align: middle;\n",
       "    }\n",
       "\n",
       "    .dataframe tbody tr th {\n",
       "        vertical-align: top;\n",
       "    }\n",
       "\n",
       "    .dataframe thead th {\n",
       "        text-align: right;\n",
       "    }\n",
       "</style>\n",
       "<table border=\"1\" class=\"dataframe\">\n",
       "  <thead>\n",
       "    <tr style=\"text-align: right;\">\n",
       "      <th></th>\n",
       "      <th>Open</th>\n",
       "      <th>High</th>\n",
       "      <th>Low</th>\n",
       "      <th>Close</th>\n",
       "      <th>Adj Close</th>\n",
       "      <th>Volume</th>\n",
       "    </tr>\n",
       "    <tr>\n",
       "      <th>Date</th>\n",
       "      <th></th>\n",
       "      <th></th>\n",
       "      <th></th>\n",
       "      <th></th>\n",
       "      <th></th>\n",
       "      <th></th>\n",
       "    </tr>\n",
       "  </thead>\n",
       "  <tbody>\n",
       "    <tr>\n",
       "      <th>2011-01-01</th>\n",
       "      <td>5.368000</td>\n",
       "      <td>5.742000</td>\n",
       "      <td>4.474000</td>\n",
       "      <td>4.820000</td>\n",
       "      <td>4.820000</td>\n",
       "      <td>1.421005e+08</td>\n",
       "    </tr>\n",
       "    <tr>\n",
       "      <th>2011-02-01</th>\n",
       "      <td>4.862000</td>\n",
       "      <td>5.098000</td>\n",
       "      <td>4.222000</td>\n",
       "      <td>4.778000</td>\n",
       "      <td>4.778000</td>\n",
       "      <td>1.465175e+08</td>\n",
       "    </tr>\n",
       "    <tr>\n",
       "      <th>2011-03-01</th>\n",
       "      <td>4.810000</td>\n",
       "      <td>5.742000</td>\n",
       "      <td>4.354000</td>\n",
       "      <td>5.550000</td>\n",
       "      <td>5.550000</td>\n",
       "      <td>1.628165e+08</td>\n",
       "    </tr>\n",
       "    <tr>\n",
       "      <th>2011-04-01</th>\n",
       "      <td>5.490000</td>\n",
       "      <td>5.636000</td>\n",
       "      <td>4.840000</td>\n",
       "      <td>5.520000</td>\n",
       "      <td>5.520000</td>\n",
       "      <td>1.494745e+08</td>\n",
       "    </tr>\n",
       "    <tr>\n",
       "      <th>2011-05-01</th>\n",
       "      <td>5.520000</td>\n",
       "      <td>6.056000</td>\n",
       "      <td>5.104000</td>\n",
       "      <td>6.028000</td>\n",
       "      <td>6.028000</td>\n",
       "      <td>1.517440e+08</td>\n",
       "    </tr>\n",
       "    <tr>\n",
       "      <th>...</th>\n",
       "      <td>...</td>\n",
       "      <td>...</td>\n",
       "      <td>...</td>\n",
       "      <td>...</td>\n",
       "      <td>...</td>\n",
       "      <td>...</td>\n",
       "    </tr>\n",
       "    <tr>\n",
       "      <th>2020-08-01</th>\n",
       "      <td>289.839996</td>\n",
       "      <td>500.140015</td>\n",
       "      <td>273.000000</td>\n",
       "      <td>498.320007</td>\n",
       "      <td>498.320007</td>\n",
       "      <td>1.557378e+09</td>\n",
       "    </tr>\n",
       "    <tr>\n",
       "      <th>2020-09-01</th>\n",
       "      <td>502.140015</td>\n",
       "      <td>502.489990</td>\n",
       "      <td>329.880005</td>\n",
       "      <td>429.010010</td>\n",
       "      <td>429.010010</td>\n",
       "      <td>1.736285e+09</td>\n",
       "    </tr>\n",
       "    <tr>\n",
       "      <th>2020-10-01</th>\n",
       "      <td>440.760010</td>\n",
       "      <td>465.899994</td>\n",
       "      <td>379.109985</td>\n",
       "      <td>388.040009</td>\n",
       "      <td>388.040009</td>\n",
       "      <td>8.336664e+08</td>\n",
       "    </tr>\n",
       "    <tr>\n",
       "      <th>2020-11-01</th>\n",
       "      <td>394.000000</td>\n",
       "      <td>607.799988</td>\n",
       "      <td>392.299988</td>\n",
       "      <td>567.599976</td>\n",
       "      <td>567.599976</td>\n",
       "      <td>7.825988e+08</td>\n",
       "    </tr>\n",
       "    <tr>\n",
       "      <th>2020-12-01</th>\n",
       "      <td>597.590027</td>\n",
       "      <td>718.719971</td>\n",
       "      <td>541.210022</td>\n",
       "      <td>705.669983</td>\n",
       "      <td>705.669983</td>\n",
       "      <td>1.196346e+09</td>\n",
       "    </tr>\n",
       "  </tbody>\n",
       "</table>\n",
       "<p>120 rows × 6 columns</p>\n",
       "</div>"
      ],
      "text/plain": [
       "                  Open        High         Low       Close   Adj Close  \\\n",
       "Date                                                                     \n",
       "2011-01-01    5.368000    5.742000    4.474000    4.820000    4.820000   \n",
       "2011-02-01    4.862000    5.098000    4.222000    4.778000    4.778000   \n",
       "2011-03-01    4.810000    5.742000    4.354000    5.550000    5.550000   \n",
       "2011-04-01    5.490000    5.636000    4.840000    5.520000    5.520000   \n",
       "2011-05-01    5.520000    6.056000    5.104000    6.028000    6.028000   \n",
       "...                ...         ...         ...         ...         ...   \n",
       "2020-08-01  289.839996  500.140015  273.000000  498.320007  498.320007   \n",
       "2020-09-01  502.140015  502.489990  329.880005  429.010010  429.010010   \n",
       "2020-10-01  440.760010  465.899994  379.109985  388.040009  388.040009   \n",
       "2020-11-01  394.000000  607.799988  392.299988  567.599976  567.599976   \n",
       "2020-12-01  597.590027  718.719971  541.210022  705.669983  705.669983   \n",
       "\n",
       "                  Volume  \n",
       "Date                      \n",
       "2011-01-01  1.421005e+08  \n",
       "2011-02-01  1.465175e+08  \n",
       "2011-03-01  1.628165e+08  \n",
       "2011-04-01  1.494745e+08  \n",
       "2011-05-01  1.517440e+08  \n",
       "...                  ...  \n",
       "2020-08-01  1.557378e+09  \n",
       "2020-09-01  1.736285e+09  \n",
       "2020-10-01  8.336664e+08  \n",
       "2020-11-01  7.825988e+08  \n",
       "2020-12-01  1.196346e+09  \n",
       "\n",
       "[120 rows x 6 columns]"
      ]
     },
     "execution_count": 2,
     "metadata": {},
     "output_type": "execute_result"
    }
   ],
   "source": [
    "# Download price data on TSLA and drop missing values\n",
    "prices = yf.download('TSLA','2011-01-01','2020-12-31',interval = '1mo').dropna()\n",
    "prices"
   ]
  },
  {
   "cell_type": "code",
   "execution_count": 3,
   "metadata": {},
   "outputs": [
    {
     "data": {
      "text/plain": [
       "Date\n",
       "2011-01-01         NaN\n",
       "2011-02-01   -0.008714\n",
       "2011-03-01    0.161574\n",
       "2011-04-01   -0.005405\n",
       "2011-05-01    0.092029\n",
       "                ...   \n",
       "2020-08-01    0.741452\n",
       "2020-09-01   -0.139087\n",
       "2020-10-01   -0.095499\n",
       "2020-11-01    0.462736\n",
       "2020-12-01    0.243252\n",
       "Name: Adj Close, Length: 120, dtype: float64"
      ]
     },
     "execution_count": 3,
     "metadata": {},
     "output_type": "execute_result"
    },
    {
     "data": {
      "image/png": "[encoded data removed]",
      "text/plain": [
       "<Figure size 432x288 with 1 Axes>"
      ]
     },
     "metadata": {
      "needs_background": "light"
     },
     "output_type": "display_data"
    }
   ],
   "source": [
    "# Calculate TSLA returns from 'Adj Close' prices\n",
    "tsla_returns = prices['Adj Close'].pct_change()\n",
    "tsla_returns.plot();\n",
    "tsla_returns"
   ]
  },
  {
   "cell_type": "markdown",
   "metadata": {},
   "source": [
    "### 3.2. Get data on market returns, risk-free rate from Ken French"
   ]
  },
  {
   "cell_type": "code",
   "execution_count": 4,
   "metadata": {},
   "outputs": [
    {
     "data": {
      "text/plain": [
       "['F-F_Research_Data_Factors',\n",
       " 'F-F_Research_Data_Factors_weekly',\n",
       " 'F-F_Research_Data_Factors_daily',\n",
       " 'F-F_Research_Data_5_Factors_2x3',\n",
       " 'F-F_Research_Data_5_Factors_2x3_daily',\n",
       " 'Portfolios_Formed_on_ME',\n",
       " 'Portfolios_Formed_on_ME_Wout_Div',\n",
       " 'Portfolios_Formed_on_ME_Daily',\n",
       " 'Portfolios_Formed_on_BE-ME']"
      ]
     },
     "execution_count": 4,
     "metadata": {},
     "output_type": "execute_result"
    }
   ],
   "source": [
    "# From Ken French's database: Load the names of all the available datasets \n",
    "pdr.famafrench.get_available_datasets()[0:9] #print just the top 10"
   ]
  },
  {
   "cell_type": "code",
   "execution_count": 5,
   "metadata": {},
   "outputs": [
    {
     "data": {
      "text/plain": [
       "{0:          Mkt-RF   SMB   HML    RF\n",
       " Date                             \n",
       " 2011-01    1.99 -2.52  0.82  0.01\n",
       " 2011-02    3.49  1.53  1.29  0.01\n",
       " 2011-03    0.46  2.58 -1.76  0.01\n",
       " 2011-04    2.90 -0.37 -2.43  0.00\n",
       " 2011-05   -1.27 -0.58 -2.05  0.00\n",
       " ...         ...   ...   ...   ...\n",
       " 2020-10   -2.10  4.44  4.03  0.01\n",
       " 2020-11   12.47  5.48  2.11  0.01\n",
       " 2020-12    4.63  4.81 -1.36  0.01\n",
       " 2021-01   -0.04  7.19  2.85  0.00\n",
       " 2021-02    2.79  2.11  7.07  0.00\n",
       " \n",
       " [122 rows x 4 columns],\n",
       " 1:       Mkt-RF    SMB    HML    RF\n",
       " Date                            \n",
       " 2011    0.44  -5.79  -8.40  0.04\n",
       " 2012   16.27  -1.02   9.97  0.06\n",
       " 2013   35.20   6.85   2.53  0.02\n",
       " 2014   11.71  -7.94  -1.52  0.02\n",
       " 2015    0.08  -3.96  -9.50  0.02\n",
       " 2016   13.30   6.53  22.86  0.20\n",
       " 2017   21.51  -4.96 -13.84  0.80\n",
       " 2018   -6.93  -3.15  -9.34  1.81\n",
       " 2019   28.28  -6.26 -10.68  2.14\n",
       " 2020   23.67  13.07 -47.20  0.44,\n",
       " 'DESCR': 'F-F Research Data Factors\\n-------------------------\\n\\nThis file was created by CMPT_ME_BEME_RETS using the 202102 CRSP database. The 1-month TBill return is from Ibbotson and Associates, Inc. Copyright 2021 Kenneth R. French\\n\\n  0 : (122 rows x 4 cols)\\n  1 : Annual Factors: January-December (10 rows x 4 cols)'}"
      ]
     },
     "execution_count": 5,
     "metadata": {},
     "output_type": "execute_result"
    }
   ],
   "source": [
    "# Download the monthly Fama French factors (first item in the list)\n",
    "ff3f = pdr.DataReader('F-F_Research_Data_Factors', 'famafrench', '2011-01-01')\n",
    "\n",
    "# Take a look at the data\n",
    "ff3f\n",
    "#print(ff3f['DESCR'])"
   ]
  },
  {
   "cell_type": "code",
   "execution_count": 6,
   "metadata": {},
   "outputs": [
    {
     "data": {
      "text/html": [
       "<div>\n",
       "<style scoped>\n",
       "    .dataframe tbody tr th:only-of-type {\n",
       "        vertical-align: middle;\n",
       "    }\n",
       "\n",
       "    .dataframe tbody tr th {\n",
       "        vertical-align: top;\n",
       "    }\n",
       "\n",
       "    .dataframe thead th {\n",
       "        text-align: right;\n",
       "    }\n",
       "</style>\n",
       "<table border=\"1\" class=\"dataframe\">\n",
       "  <thead>\n",
       "    <tr style=\"text-align: right;\">\n",
       "      <th></th>\n",
       "      <th>Mkt-RF</th>\n",
       "      <th>SMB</th>\n",
       "      <th>HML</th>\n",
       "      <th>RF</th>\n",
       "    </tr>\n",
       "    <tr>\n",
       "      <th>Date</th>\n",
       "      <th></th>\n",
       "      <th></th>\n",
       "      <th></th>\n",
       "      <th></th>\n",
       "    </tr>\n",
       "  </thead>\n",
       "  <tbody>\n",
       "    <tr>\n",
       "      <th>2011-01</th>\n",
       "      <td>0.0199</td>\n",
       "      <td>-0.0252</td>\n",
       "      <td>0.0082</td>\n",
       "      <td>0.0001</td>\n",
       "    </tr>\n",
       "    <tr>\n",
       "      <th>2011-02</th>\n",
       "      <td>0.0349</td>\n",
       "      <td>0.0153</td>\n",
       "      <td>0.0129</td>\n",
       "      <td>0.0001</td>\n",
       "    </tr>\n",
       "    <tr>\n",
       "      <th>2011-03</th>\n",
       "      <td>0.0046</td>\n",
       "      <td>0.0258</td>\n",
       "      <td>-0.0176</td>\n",
       "      <td>0.0001</td>\n",
       "    </tr>\n",
       "    <tr>\n",
       "      <th>2011-04</th>\n",
       "      <td>0.0290</td>\n",
       "      <td>-0.0037</td>\n",
       "      <td>-0.0243</td>\n",
       "      <td>0.0000</td>\n",
       "    </tr>\n",
       "    <tr>\n",
       "      <th>2011-05</th>\n",
       "      <td>-0.0127</td>\n",
       "      <td>-0.0058</td>\n",
       "      <td>-0.0205</td>\n",
       "      <td>0.0000</td>\n",
       "    </tr>\n",
       "  </tbody>\n",
       "</table>\n",
       "</div>"
      ],
      "text/plain": [
       "         Mkt-RF     SMB     HML      RF\n",
       "Date                                   \n",
       "2011-01  0.0199 -0.0252  0.0082  0.0001\n",
       "2011-02  0.0349  0.0153  0.0129  0.0001\n",
       "2011-03  0.0046  0.0258 -0.0176  0.0001\n",
       "2011-04  0.0290 -0.0037 -0.0243  0.0000\n",
       "2011-05 -0.0127 -0.0058 -0.0205  0.0000"
      ]
     },
     "execution_count": 6,
     "metadata": {},
     "output_type": "execute_result"
    }
   ],
   "source": [
    "# Extract only the monthly table\n",
    "index_data = ff3f[0]/100\n",
    "index_data.head()"
   ]
  },
  {
   "cell_type": "markdown",
   "metadata": {},
   "source": [
    "### 3.3. Combine the two datasets"
   ]
  },
  {
   "cell_type": "code",
   "execution_count": 7,
   "metadata": {},
   "outputs": [
    {
     "name": "stdout",
     "output_type": "stream",
     "text": [
      "PeriodIndex(['2011-01', '2011-02', '2011-03', '2011-04', '2011-05', '2011-06',\n",
      "             '2011-07', '2011-08', '2011-09', '2011-10',\n",
      "             ...\n",
      "             '2020-05', '2020-06', '2020-07', '2020-08', '2020-09', '2020-10',\n",
      "             '2020-11', '2020-12', '2021-01', '2021-02'],\n",
      "            dtype='period[M]', name='Date', length=122, freq='M')\n",
      "DatetimeIndex(['2011-01-01', '2011-02-01', '2011-03-01', '2011-04-01',\n",
      "               '2011-05-01', '2011-06-01', '2011-07-01', '2011-08-01',\n",
      "               '2011-09-01', '2011-10-01',\n",
      "               ...\n",
      "               '2020-03-01', '2020-04-01', '2020-05-01', '2020-06-01',\n",
      "               '2020-07-01', '2020-08-01', '2020-09-01', '2020-10-01',\n",
      "               '2020-11-01', '2020-12-01'],\n",
      "              dtype='datetime64[ns]', name='Date', length=120, freq=None)\n"
     ]
    }
   ],
   "source": [
    "# Check the index (date column) in each dataset\n",
    "print(index_data.index)\n",
    "print(tsla_returns.index)"
   ]
  },
  {
   "cell_type": "code",
   "execution_count": 8,
   "metadata": {},
   "outputs": [
    {
     "name": "stdout",
     "output_type": "stream",
     "text": [
      "PeriodIndex(['2011-01', '2011-02', '2011-03', '2011-04', '2011-05', '2011-06',\n",
      "             '2011-07', '2011-08', '2011-09', '2011-10',\n",
      "             ...\n",
      "             '2020-03', '2020-04', '2020-05', '2020-06', '2020-07', '2020-08',\n",
      "             '2020-09', '2020-10', '2020-11', '2020-12'],\n",
      "            dtype='period[M]', name='Date', length=120, freq='M')\n"
     ]
    }
   ],
   "source": [
    "# Convert the index in \"tsla_returns\" to \"period('M')\" (monthly)\n",
    "tsla_returns.index = tsla_returns.index.to_period('M')\n",
    "print(tsla_returns.index)"
   ]
  },
  {
   "cell_type": "code",
   "execution_count": 9,
   "metadata": {},
   "outputs": [
    {
     "data": {
      "text/html": [
       "<div>\n",
       "<style scoped>\n",
       "    .dataframe tbody tr th:only-of-type {\n",
       "        vertical-align: middle;\n",
       "    }\n",
       "\n",
       "    .dataframe tbody tr th {\n",
       "        vertical-align: top;\n",
       "    }\n",
       "\n",
       "    .dataframe thead th {\n",
       "        text-align: right;\n",
       "    }\n",
       "</style>\n",
       "<table border=\"1\" class=\"dataframe\">\n",
       "  <thead>\n",
       "    <tr style=\"text-align: right;\">\n",
       "      <th></th>\n",
       "      <th>Mkt-RF</th>\n",
       "      <th>SMB</th>\n",
       "      <th>HML</th>\n",
       "      <th>RF</th>\n",
       "      <th>Adj Close</th>\n",
       "    </tr>\n",
       "    <tr>\n",
       "      <th>Date</th>\n",
       "      <th></th>\n",
       "      <th></th>\n",
       "      <th></th>\n",
       "      <th></th>\n",
       "      <th></th>\n",
       "    </tr>\n",
       "  </thead>\n",
       "  <tbody>\n",
       "    <tr>\n",
       "      <th>2011-01</th>\n",
       "      <td>0.0199</td>\n",
       "      <td>-0.0252</td>\n",
       "      <td>0.0082</td>\n",
       "      <td>0.0001</td>\n",
       "      <td>NaN</td>\n",
       "    </tr>\n",
       "    <tr>\n",
       "      <th>2011-02</th>\n",
       "      <td>0.0349</td>\n",
       "      <td>0.0153</td>\n",
       "      <td>0.0129</td>\n",
       "      <td>0.0001</td>\n",
       "      <td>-0.008714</td>\n",
       "    </tr>\n",
       "    <tr>\n",
       "      <th>2011-03</th>\n",
       "      <td>0.0046</td>\n",
       "      <td>0.0258</td>\n",
       "      <td>-0.0176</td>\n",
       "      <td>0.0001</td>\n",
       "      <td>0.161574</td>\n",
       "    </tr>\n",
       "    <tr>\n",
       "      <th>2011-04</th>\n",
       "      <td>0.0290</td>\n",
       "      <td>-0.0037</td>\n",
       "      <td>-0.0243</td>\n",
       "      <td>0.0000</td>\n",
       "      <td>-0.005405</td>\n",
       "    </tr>\n",
       "    <tr>\n",
       "      <th>2011-05</th>\n",
       "      <td>-0.0127</td>\n",
       "      <td>-0.0058</td>\n",
       "      <td>-0.0205</td>\n",
       "      <td>0.0000</td>\n",
       "      <td>0.092029</td>\n",
       "    </tr>\n",
       "  </tbody>\n",
       "</table>\n",
       "</div>"
      ],
      "text/plain": [
       "         Mkt-RF     SMB     HML      RF  Adj Close\n",
       "Date                                              \n",
       "2011-01  0.0199 -0.0252  0.0082  0.0001        NaN\n",
       "2011-02  0.0349  0.0153  0.0129  0.0001  -0.008714\n",
       "2011-03  0.0046  0.0258 -0.0176  0.0001   0.161574\n",
       "2011-04  0.0290 -0.0037 -0.0243  0.0000  -0.005405\n",
       "2011-05 -0.0127 -0.0058 -0.0205  0.0000   0.092029"
      ]
     },
     "execution_count": 9,
     "metadata": {},
     "output_type": "execute_result"
    }
   ],
   "source": [
    "# Combine the datasets\n",
    "full_data = index_data.join(tsla_returns)\n",
    "full_data.head()"
   ]
  },
  {
   "cell_type": "code",
   "execution_count": 10,
   "metadata": {},
   "outputs": [
    {
     "data": {
      "text/html": [
       "<div>\n",
       "<style scoped>\n",
       "    .dataframe tbody tr th:only-of-type {\n",
       "        vertical-align: middle;\n",
       "    }\n",
       "\n",
       "    .dataframe tbody tr th {\n",
       "        vertical-align: top;\n",
       "    }\n",
       "\n",
       "    .dataframe thead th {\n",
       "        text-align: right;\n",
       "    }\n",
       "</style>\n",
       "<table border=\"1\" class=\"dataframe\">\n",
       "  <thead>\n",
       "    <tr style=\"text-align: right;\">\n",
       "      <th></th>\n",
       "      <th>Mkt-RF</th>\n",
       "      <th>SMB</th>\n",
       "      <th>HML</th>\n",
       "      <th>RF</th>\n",
       "      <th>tsla_ret</th>\n",
       "    </tr>\n",
       "    <tr>\n",
       "      <th>Date</th>\n",
       "      <th></th>\n",
       "      <th></th>\n",
       "      <th></th>\n",
       "      <th></th>\n",
       "      <th></th>\n",
       "    </tr>\n",
       "  </thead>\n",
       "  <tbody>\n",
       "    <tr>\n",
       "      <th>2011-01</th>\n",
       "      <td>0.0199</td>\n",
       "      <td>-0.0252</td>\n",
       "      <td>0.0082</td>\n",
       "      <td>0.0001</td>\n",
       "      <td>NaN</td>\n",
       "    </tr>\n",
       "    <tr>\n",
       "      <th>2011-02</th>\n",
       "      <td>0.0349</td>\n",
       "      <td>0.0153</td>\n",
       "      <td>0.0129</td>\n",
       "      <td>0.0001</td>\n",
       "      <td>-0.008714</td>\n",
       "    </tr>\n",
       "    <tr>\n",
       "      <th>2011-03</th>\n",
       "      <td>0.0046</td>\n",
       "      <td>0.0258</td>\n",
       "      <td>-0.0176</td>\n",
       "      <td>0.0001</td>\n",
       "      <td>0.161574</td>\n",
       "    </tr>\n",
       "    <tr>\n",
       "      <th>2011-04</th>\n",
       "      <td>0.0290</td>\n",
       "      <td>-0.0037</td>\n",
       "      <td>-0.0243</td>\n",
       "      <td>0.0000</td>\n",
       "      <td>-0.005405</td>\n",
       "    </tr>\n",
       "    <tr>\n",
       "      <th>2011-05</th>\n",
       "      <td>-0.0127</td>\n",
       "      <td>-0.0058</td>\n",
       "      <td>-0.0205</td>\n",
       "      <td>0.0000</td>\n",
       "      <td>0.092029</td>\n",
       "    </tr>\n",
       "  </tbody>\n",
       "</table>\n",
       "</div>"
      ],
      "text/plain": [
       "         Mkt-RF     SMB     HML      RF  tsla_ret\n",
       "Date                                             \n",
       "2011-01  0.0199 -0.0252  0.0082  0.0001       NaN\n",
       "2011-02  0.0349  0.0153  0.0129  0.0001 -0.008714\n",
       "2011-03  0.0046  0.0258 -0.0176  0.0001  0.161574\n",
       "2011-04  0.0290 -0.0037 -0.0243  0.0000 -0.005405\n",
       "2011-05 -0.0127 -0.0058 -0.0205  0.0000  0.092029"
      ]
     },
     "execution_count": 10,
     "metadata": {},
     "output_type": "execute_result"
    }
   ],
   "source": [
    "# Rename 'Adj Close' to 'tsla_ret'\n",
    "full_data.rename(columns={'Adj Close':'tsla_ret'}, inplace=True)\n",
    "full_data.head()"
   ]
  },
  {
   "cell_type": "code",
   "execution_count": 11,
   "metadata": {},
   "outputs": [
    {
     "data": {
      "text/html": [
       "<div>\n",
       "<style scoped>\n",
       "    .dataframe tbody tr th:only-of-type {\n",
       "        vertical-align: middle;\n",
       "    }\n",
       "\n",
       "    .dataframe tbody tr th {\n",
       "        vertical-align: top;\n",
       "    }\n",
       "\n",
       "    .dataframe thead th {\n",
       "        text-align: right;\n",
       "    }\n",
       "</style>\n",
       "<table border=\"1\" class=\"dataframe\">\n",
       "  <thead>\n",
       "    <tr style=\"text-align: right;\">\n",
       "      <th></th>\n",
       "      <th>Mkt-RF</th>\n",
       "      <th>SMB</th>\n",
       "      <th>HML</th>\n",
       "      <th>RF</th>\n",
       "      <th>tsla_ret</th>\n",
       "    </tr>\n",
       "    <tr>\n",
       "      <th>Date</th>\n",
       "      <th></th>\n",
       "      <th></th>\n",
       "      <th></th>\n",
       "      <th></th>\n",
       "      <th></th>\n",
       "    </tr>\n",
       "  </thead>\n",
       "  <tbody>\n",
       "    <tr>\n",
       "      <th>2011-02</th>\n",
       "      <td>0.0349</td>\n",
       "      <td>0.0153</td>\n",
       "      <td>0.0129</td>\n",
       "      <td>0.0001</td>\n",
       "      <td>-0.008714</td>\n",
       "    </tr>\n",
       "    <tr>\n",
       "      <th>2011-03</th>\n",
       "      <td>0.0046</td>\n",
       "      <td>0.0258</td>\n",
       "      <td>-0.0176</td>\n",
       "      <td>0.0001</td>\n",
       "      <td>0.161574</td>\n",
       "    </tr>\n",
       "    <tr>\n",
       "      <th>2011-04</th>\n",
       "      <td>0.0290</td>\n",
       "      <td>-0.0037</td>\n",
       "      <td>-0.0243</td>\n",
       "      <td>0.0000</td>\n",
       "      <td>-0.005405</td>\n",
       "    </tr>\n",
       "    <tr>\n",
       "      <th>2011-05</th>\n",
       "      <td>-0.0127</td>\n",
       "      <td>-0.0058</td>\n",
       "      <td>-0.0205</td>\n",
       "      <td>0.0000</td>\n",
       "      <td>0.092029</td>\n",
       "    </tr>\n",
       "    <tr>\n",
       "      <th>2011-06</th>\n",
       "      <td>-0.0175</td>\n",
       "      <td>-0.0011</td>\n",
       "      <td>-0.0042</td>\n",
       "      <td>0.0000</td>\n",
       "      <td>-0.033510</td>\n",
       "    </tr>\n",
       "  </tbody>\n",
       "</table>\n",
       "</div>"
      ],
      "text/plain": [
       "         Mkt-RF     SMB     HML      RF  tsla_ret\n",
       "Date                                             \n",
       "2011-02  0.0349  0.0153  0.0129  0.0001 -0.008714\n",
       "2011-03  0.0046  0.0258 -0.0176  0.0001  0.161574\n",
       "2011-04  0.0290 -0.0037 -0.0243  0.0000 -0.005405\n",
       "2011-05 -0.0127 -0.0058 -0.0205  0.0000  0.092029\n",
       "2011-06 -0.0175 -0.0011 -0.0042  0.0000 -0.033510"
      ]
     },
     "execution_count": 11,
     "metadata": {},
     "output_type": "execute_result"
    }
   ],
   "source": [
    "# Get rid of missing values\n",
    "full_data = full_data.dropna()\n",
    "full_data.head()"
   ]
  },
  {
   "cell_type": "markdown",
   "metadata": {},
   "source": [
    "### 3.4. Run regression"
   ]
  },
  {
   "cell_type": "code",
   "execution_count": 12,
   "metadata": {},
   "outputs": [
    {
     "data": {
      "text/plain": [
       "Date\n",
       "2011-02   -0.008814\n",
       "2011-03    0.161474\n",
       "2011-04   -0.005405\n",
       "2011-05    0.092029\n",
       "2011-06   -0.033510\n",
       "             ...   \n",
       "2020-08    0.741352\n",
       "2020-09   -0.139187\n",
       "2020-10   -0.095599\n",
       "2020-11    0.462636\n",
       "2020-12    0.243152\n",
       "Freq: M, Length: 119, dtype: float64"
      ]
     },
     "execution_count": 12,
     "metadata": {},
     "output_type": "execute_result"
    }
   ],
   "source": [
    "# Set the dependent variable (the variable on the left of the equal sign in the regression equation above)\n",
    "y = full_data['tsla_ret'] - full_data['RF']\n",
    "y"
   ]
  },
  {
   "cell_type": "code",
   "execution_count": 13,
   "metadata": {},
   "outputs": [
    {
     "data": {
      "text/html": [
       "<div>\n",
       "<style scoped>\n",
       "    .dataframe tbody tr th:only-of-type {\n",
       "        vertical-align: middle;\n",
       "    }\n",
       "\n",
       "    .dataframe tbody tr th {\n",
       "        vertical-align: top;\n",
       "    }\n",
       "\n",
       "    .dataframe thead th {\n",
       "        text-align: right;\n",
       "    }\n",
       "</style>\n",
       "<table border=\"1\" class=\"dataframe\">\n",
       "  <thead>\n",
       "    <tr style=\"text-align: right;\">\n",
       "      <th></th>\n",
       "      <th>const</th>\n",
       "      <th>Mkt-RF</th>\n",
       "    </tr>\n",
       "    <tr>\n",
       "      <th>Date</th>\n",
       "      <th></th>\n",
       "      <th></th>\n",
       "    </tr>\n",
       "  </thead>\n",
       "  <tbody>\n",
       "    <tr>\n",
       "      <th>2011-02</th>\n",
       "      <td>1.0</td>\n",
       "      <td>0.0349</td>\n",
       "    </tr>\n",
       "    <tr>\n",
       "      <th>2011-03</th>\n",
       "      <td>1.0</td>\n",
       "      <td>0.0046</td>\n",
       "    </tr>\n",
       "    <tr>\n",
       "      <th>2011-04</th>\n",
       "      <td>1.0</td>\n",
       "      <td>0.0290</td>\n",
       "    </tr>\n",
       "    <tr>\n",
       "      <th>2011-05</th>\n",
       "      <td>1.0</td>\n",
       "      <td>-0.0127</td>\n",
       "    </tr>\n",
       "    <tr>\n",
       "      <th>2011-06</th>\n",
       "      <td>1.0</td>\n",
       "      <td>-0.0175</td>\n",
       "    </tr>\n",
       "    <tr>\n",
       "      <th>...</th>\n",
       "      <td>...</td>\n",
       "      <td>...</td>\n",
       "    </tr>\n",
       "    <tr>\n",
       "      <th>2020-08</th>\n",
       "      <td>1.0</td>\n",
       "      <td>0.0763</td>\n",
       "    </tr>\n",
       "    <tr>\n",
       "      <th>2020-09</th>\n",
       "      <td>1.0</td>\n",
       "      <td>-0.0363</td>\n",
       "    </tr>\n",
       "    <tr>\n",
       "      <th>2020-10</th>\n",
       "      <td>1.0</td>\n",
       "      <td>-0.0210</td>\n",
       "    </tr>\n",
       "    <tr>\n",
       "      <th>2020-11</th>\n",
       "      <td>1.0</td>\n",
       "      <td>0.1247</td>\n",
       "    </tr>\n",
       "    <tr>\n",
       "      <th>2020-12</th>\n",
       "      <td>1.0</td>\n",
       "      <td>0.0463</td>\n",
       "    </tr>\n",
       "  </tbody>\n",
       "</table>\n",
       "<p>119 rows × 2 columns</p>\n",
       "</div>"
      ],
      "text/plain": [
       "         const  Mkt-RF\n",
       "Date                  \n",
       "2011-02    1.0  0.0349\n",
       "2011-03    1.0  0.0046\n",
       "2011-04    1.0  0.0290\n",
       "2011-05    1.0 -0.0127\n",
       "2011-06    1.0 -0.0175\n",
       "...        ...     ...\n",
       "2020-08    1.0  0.0763\n",
       "2020-09    1.0 -0.0363\n",
       "2020-10    1.0 -0.0210\n",
       "2020-11    1.0  0.1247\n",
       "2020-12    1.0  0.0463\n",
       "\n",
       "[119 rows x 2 columns]"
      ]
     },
     "execution_count": 13,
     "metadata": {},
     "output_type": "execute_result"
    }
   ],
   "source": [
    "X = full_data['Mkt-RF']\n",
    "X = sm.add_constant(X)\n",
    "X"
   ]
  },
  {
   "cell_type": "code",
   "execution_count": 14,
   "metadata": {},
   "outputs": [
    {
     "data": {
      "text/plain": [
       "<statsmodels.regression.linear_model.OLS at 0x1fb4f7de9a0>"
      ]
     },
     "execution_count": 14,
     "metadata": {},
     "output_type": "execute_result"
    }
   ],
   "source": [
    "# Set up the regression model\n",
    "model = sm.OLS(y, X, missing='drop')\n",
    "model"
   ]
  },
  {
   "cell_type": "code",
   "execution_count": 15,
   "metadata": {},
   "outputs": [
    {
     "data": {
      "text/plain": [
       "<statsmodels.regression.linear_model.RegressionResultsWrapper at 0x1fb4f7ded00>"
      ]
     },
     "execution_count": 15,
     "metadata": {},
     "output_type": "execute_result"
    }
   ],
   "source": [
    "# Run the regression (calculate alpha and beta)\n",
    "results = model.fit()\n",
    "results"
   ]
  },
  {
   "cell_type": "code",
   "execution_count": 16,
   "metadata": {
    "scrolled": false
   },
   "outputs": [
    {
     "name": "stdout",
     "output_type": "stream",
     "text": [
      "                            OLS Regression Results                            \n",
      "==============================================================================\n",
      "Dep. Variable:                      y   R-squared:                       0.165\n",
      "Model:                            OLS   Adj. R-squared:                  0.158\n",
      "Method:                 Least Squares   F-statistic:                     23.17\n",
      "Date:                Fri, 02 Apr 2021   Prob (F-statistic):           4.46e-06\n",
      "Time:                        20:08:55   Log-Likelihood:                 46.433\n",
      "No. Observations:                 119   AIC:                            -88.87\n",
      "Df Residuals:                     117   BIC:                            -83.31\n",
      "Df Model:                           1                                         \n",
      "Covariance Type:            nonrobust                                         \n",
      "==============================================================================\n",
      "                 coef    std err          t      P>|t|      [0.025      0.975]\n",
      "------------------------------------------------------------------------------\n",
      "const          0.0358      0.016      2.276      0.025       0.005       0.067\n",
      "Mkt-RF         1.7680      0.367      4.814      0.000       1.041       2.495\n",
      "==============================================================================\n",
      "Omnibus:                       41.629   Durbin-Watson:                   1.601\n",
      "Prob(Omnibus):                  0.000   Jarque-Bera (JB):              103.029\n",
      "Skew:                           1.352   Prob(JB):                     4.24e-23\n",
      "Kurtosis:                       6.670   Cond. No.                         24.3\n",
      "==============================================================================\n",
      "\n",
      "Notes:\n",
      "[1] Standard Errors assume that the covariance matrix of the errors is correctly specified.\n"
     ]
    }
   ],
   "source": [
    "# Print regression results\n",
    "print(results.summary())"
   ]
  },
  {
   "cell_type": "code",
   "execution_count": 17,
   "metadata": {},
   "outputs": [],
   "source": [
    "# Diagnostics:\n",
    "# Durbin-Watson: tests for residual autocorrelation.Takes values in [0,4], below(above) 2 = pos(neg) autocorr. 2 is perfect.\n",
    "# Omnibus: tests normality of residuals. Prob(Omnibus) close to 0 means reject normality\n",
    "# JB: another normality test (null is skew=0, kurt=3). Prob(JB) close to 0 means rejection of normality\n",
    "# Cond. No: tests for multicollinearity. Over 100 is worriesome."
   ]
  },
  {
   "cell_type": "markdown",
   "metadata": {},
   "source": [
    "### 3.5. Interpreting the results: coefficients t-statistics and pvalues\n",
    "\n",
    "The \"const\" row contains information about the firm's $\\alpha$ and the \"Mkt-RF\" row contains information about the firm's $\\beta$. The $\\alpha$ and $\\beta$ coefficient estimates themselves are in the \"coef\" column ($\\alpha = 0.0358$, and $\\beta = 1.768$). \n",
    "\n",
    "The t-statistics for the two coefficients are in the \"t\" column. Loosely speaking a t-statistic that larger than 2 or smaller than -2 allows us to conclude that the corresponding coefficient is statistically different from 0 (i.e. reject the null hypothesis that the coefficient is 0). \n",
    "\n",
    "The p-values are in the \"P > |t|\" column. P-values lower than 0.05 allow us to conclude that the corresponding coefficient is statistically different from 0 at the 95% confidence level (i.e. reject the null hypothesis that the coefficient is 0). At the 99% confidence level, we would need the p-value to be smaller than 1% (1 minus the confidence level) to reject the null hypothesis that alpha = 0. \n",
    "\n",
    "The last two columns give us the 95% confidence interval for each coefficient.\n",
    "\n",
    "TSLA's alpha has a p-value of 0.025 so we can conclude that it's alpha is statistically significantly different from 0 at the 95% confidence level (but not at the 99% confidence level).\n",
    "\n",
    "The fact that the alpha is positive (and statistically different from 0) means that, based on the single-index model, TSLA seems to be undervalued. A negative alpha would mean the stock in overvalued.\n",
    "\n",
    "If we can not reject the null hypothesis that alpha is 0, the conclusion is NOT that alpha = 0 and therefore the stock is correctly valued (since we can never \"accept\" a null hypothesis, we can only fail to reject). The conclusion is that we do not have enough evidence to claim that the stock is either undervalued or overvalued (which is not the same thing as saying that we have enough evidence to claim that the stock is correctly valued)."
   ]
  },
  {
   "cell_type": "code",
   "execution_count": 18,
   "metadata": {},
   "outputs": [
    {
     "data": {
      "image/png": "[encoded data removed]",
      "text/plain": [
       "<Figure size 576x432 with 1 Axes>"
      ]
     },
     "metadata": {
      "needs_background": "light"
     },
     "output_type": "display_data"
    }
   ],
   "source": [
    "# Print regression plots\n",
    "fig, ax = plt.subplots(figsize=(8,6))\n",
    "\n",
    "ax.plot(full_data['Mkt-RF'], y, 'o', label = 'data')\n",
    "ax.plot(full_data['Mkt-RF'], results.fittedvalues, 'r--', label = 'prediction')\n",
    "\n",
    "ax.set_xlabel('Market excess return')\n",
    "ax.set_ylabel('TSLA excess return')\n",
    "ax.legend(loc = 'best');\n",
    "\n",
    "# alpha is the point where the red line intesects the vertical x = 0 line\n",
    "#ax.axvline(x=0,color='k')"
   ]
  },
  {
   "cell_type": "markdown",
   "metadata": {},
   "source": [
    "### 3.6 Accessing individual parts of the regression output"
   ]
  },
  {
   "cell_type": "code",
   "execution_count": 19,
   "metadata": {},
   "outputs": [
    {
     "data": {
      "text/plain": [
       "['HC0_se',\n",
       " 'HC1_se',\n",
       " 'HC2_se',\n",
       " 'HC3_se',\n",
       " '_HCCM',\n",
       " '__class__',\n",
       " '__delattr__',\n",
       " '__dict__',\n",
       " '__dir__',\n",
       " '__doc__',\n",
       " '__eq__',\n",
       " '__format__',\n",
       " '__ge__',\n",
       " '__getattribute__',\n",
       " '__gt__',\n",
       " '__hash__',\n",
       " '__init__',\n",
       " '__init_subclass__',\n",
       " '__le__',\n",
       " '__lt__',\n",
       " '__module__',\n",
       " '__ne__',\n",
       " '__new__',\n",
       " '__reduce__',\n",
       " '__reduce_ex__',\n",
       " '__repr__',\n",
       " '__setattr__',\n",
       " '__sizeof__',\n",
       " '__str__',\n",
       " '__subclasshook__',\n",
       " '__weakref__',\n",
       " '_abat_diagonal',\n",
       " '_cache',\n",
       " '_data_attr',\n",
       " '_data_in_cache',\n",
       " '_get_robustcov_results',\n",
       " '_is_nested',\n",
       " '_use_t',\n",
       " '_wexog_singular_values',\n",
       " 'aic',\n",
       " 'bic',\n",
       " 'bse',\n",
       " 'centered_tss',\n",
       " 'compare_f_test',\n",
       " 'compare_lm_test',\n",
       " 'compare_lr_test',\n",
       " 'condition_number',\n",
       " 'conf_int',\n",
       " 'conf_int_el',\n",
       " 'cov_HC0',\n",
       " 'cov_HC1',\n",
       " 'cov_HC2',\n",
       " 'cov_HC3',\n",
       " 'cov_kwds',\n",
       " 'cov_params',\n",
       " 'cov_type',\n",
       " 'df_model',\n",
       " 'df_resid',\n",
       " 'diagn',\n",
       " 'eigenvals',\n",
       " 'el_test',\n",
       " 'ess',\n",
       " 'f_pvalue',\n",
       " 'f_test',\n",
       " 'fittedvalues',\n",
       " 'fvalue',\n",
       " 'get_influence',\n",
       " 'get_prediction',\n",
       " 'get_robustcov_results',\n",
       " 'initialize',\n",
       " 'k_constant',\n",
       " 'llf',\n",
       " 'load',\n",
       " 'model',\n",
       " 'mse_model',\n",
       " 'mse_resid',\n",
       " 'mse_total',\n",
       " 'nobs',\n",
       " 'normalized_cov_params',\n",
       " 'outlier_test',\n",
       " 'params',\n",
       " 'predict',\n",
       " 'pvalues',\n",
       " 'remove_data',\n",
       " 'resid',\n",
       " 'resid_pearson',\n",
       " 'rsquared',\n",
       " 'rsquared_adj',\n",
       " 'save',\n",
       " 'scale',\n",
       " 'ssr',\n",
       " 'summary',\n",
       " 'summary2',\n",
       " 't_test',\n",
       " 't_test_pairwise',\n",
       " 'tvalues',\n",
       " 'uncentered_tss',\n",
       " 'use_t',\n",
       " 'wald_test',\n",
       " 'wald_test_terms',\n",
       " 'wresid']"
      ]
     },
     "execution_count": 19,
     "metadata": {},
     "output_type": "execute_result"
    }
   ],
   "source": [
    "# Access the individual regression estimates\n",
    "dir(results)"
   ]
  },
  {
   "cell_type": "code",
   "execution_count": 20,
   "metadata": {},
   "outputs": [
    {
     "name": "stdout",
     "output_type": "stream",
     "text": [
      "const     0.035765\n",
      "Mkt-RF    1.768008\n",
      "dtype: float64 \n",
      "\n"
     ]
    },
    {
     "data": {
      "text/plain": [
       "1.7680077905392448"
      ]
     },
     "execution_count": 20,
     "metadata": {},
     "output_type": "execute_result"
    }
   ],
   "source": [
    "# The alpha and beta coefficients themselves\n",
    "print(results.params, '\\n')\n",
    "\n",
    "# Just the beta\n",
    "the_beta = results.params['Mkt-RF']\n",
    "the_beta"
   ]
  },
  {
   "cell_type": "code",
   "execution_count": 21,
   "metadata": {},
   "outputs": [
    {
     "name": "stdout",
     "output_type": "stream",
     "text": [
      "const     2.276056\n",
      "Mkt-RF    4.813983\n",
      "dtype: float64 \n",
      "\n"
     ]
    }
   ],
   "source": [
    "# The t-statistics of the coefficients\n",
    "print(results.tvalues, '\\n')"
   ]
  },
  {
   "cell_type": "code",
   "execution_count": 22,
   "metadata": {},
   "outputs": [
    {
     "name": "stdout",
     "output_type": "stream",
     "text": [
      "const     0.024662\n",
      "Mkt-RF    0.000004\n",
      "dtype: float64 \n",
      "\n"
     ]
    }
   ],
   "source": [
    "# The p-values of the coefficients\n",
    "print(results.pvalues, '\\n')"
   ]
  },
  {
   "cell_type": "code",
   "execution_count": 23,
   "metadata": {},
   "outputs": [
    {
     "name": "stdout",
     "output_type": "stream",
     "text": [
      "0.16532568528567537 \n",
      "\n"
     ]
    }
   ],
   "source": [
    "# The R-squared of the regression \n",
    "    #(tells us what proportion of the variation in the y variable is explained by variation in the X variable)\n",
    "    #(in our regression, this is equivalent to: what proportion of TSLA return volatility are caused by market volatility)\n",
    "    #(so in our regression, the R-squared tells us the proportion of TSLA risk that is systematic)\n",
    "print(results.rsquared, '\\n')"
   ]
  },
  {
   "cell_type": "code",
   "execution_count": 24,
   "metadata": {},
   "outputs": [
    {
     "name": "stdout",
     "output_type": "stream",
     "text": [
      "alpha =  0.036 \n",
      "beta =  1.768\n"
     ]
    }
   ],
   "source": [
    "# Remember, if you need any of these values for later use, you need to store them as separate variables\n",
    "alpha = results.params['const']\n",
    "beta = results.params['Mkt-RF']\n",
    "print(f'alpha = {alpha: .3f} \\nbeta = {beta: .3f}')"
   ]
  },
  {
   "cell_type": "markdown",
   "metadata": {},
   "source": [
    "### 3.7. Systematic vs idiosyncratic risk\n",
    "\n",
    "The regression R-squared coefficient tells us the percentage of the firm's total risk (variance) that is systematic (can be diversified away).\n",
    "\n",
    "The breakdown of the firm's total risk into systematic and idiosyncratic can also be easily calculated as below:\n",
    "\n",
    "The regression equation\n",
    "\n",
    "$$R_{i,t} - R_{f,t} = \\alpha_i + \\beta_i (R_{m,t} - R_{f,t}) + \\epsilon_{i,t}$$\n",
    "\n",
    "implies\n",
    "\n",
    "$$Var(R_{i,t} - R_{f,t}) = Var(\\alpha_i) + Var(\\beta_i (R_{m,t} - R_{f,t})) + Var(\\epsilon_{i,t})$$\n",
    "\n",
    "which reduces to\n",
    "\n",
    "$$Var(R_{i,t} - R_{f,t}) = \\beta_{i}^2 Var(R_{m,t} - R_{f,t}) + Var(\\epsilon_{i,t})$$\n"
   ]
  },
  {
   "cell_type": "code",
   "execution_count": 25,
   "metadata": {},
   "outputs": [
    {
     "data": {
      "text/plain": [
       "0.032415992463549044"
      ]
     },
     "execution_count": 25,
     "metadata": {},
     "output_type": "execute_result"
    }
   ],
   "source": [
    "# Total risk of tesla (variance)\n",
    "tot_risk  = y.var()\n",
    "tot_risk"
   ]
  },
  {
   "cell_type": "code",
   "execution_count": 26,
   "metadata": {},
   "outputs": [
    {
     "data": {
      "text/plain": [
       "0.005359196168251542"
      ]
     },
     "execution_count": 26,
     "metadata": {},
     "output_type": "execute_result"
    }
   ],
   "source": [
    "# Systematic risk\n",
    "sys_risk  = (beta**2) * full_data['Mkt-RF'].var() \n",
    "sys_risk"
   ]
  },
  {
   "cell_type": "code",
   "execution_count": 27,
   "metadata": {},
   "outputs": [
    {
     "data": {
      "text/plain": [
       "0.027056796295297503"
      ]
     },
     "execution_count": 27,
     "metadata": {},
     "output_type": "execute_result"
    }
   ],
   "source": [
    "# Idiosyncratic risk\n",
    "idio_risk = tot_risk - sys_risk\n",
    "idio_risk"
   ]
  },
  {
   "cell_type": "code",
   "execution_count": 28,
   "metadata": {},
   "outputs": [
    {
     "data": {
      "text/plain": [
       "0.027056796295297517"
      ]
     },
     "execution_count": 28,
     "metadata": {},
     "output_type": "execute_result"
    }
   ],
   "source": [
    "# Another way of calculating idiosyncratic risk (=variance of residuals (epsilon) from the regression )\n",
    "idio_risk2 = results.resid.var()\n",
    "idio_risk2"
   ]
  },
  {
   "cell_type": "code",
   "execution_count": 29,
   "metadata": {},
   "outputs": [
    {
     "name": "stdout",
     "output_type": "stream",
     "text": [
      "TSLA risk: \n",
      " total =  0.0324 \n",
      " systematic =  0.0054 \n",
      " idiosyncratic =  0.0271\n"
     ]
    }
   ],
   "source": [
    "# Print all three of them out\n",
    "print(f'TSLA risk: \\n total = {tot_risk: .4f} \\n systematic = {sys_risk: .4f} \\n idiosyncratic = {idio_risk: .4f}')"
   ]
  },
  {
   "cell_type": "code",
   "execution_count": 30,
   "metadata": {
    "scrolled": false
   },
   "outputs": [
    {
     "name": "stdout",
     "output_type": "stream",
     "text": [
      "\n",
      " percent systematic risk =  0.1653 \n",
      " percent idiosyncratic risk =  0.8347\n"
     ]
    }
   ],
   "source": [
    "# Print as percentages of total risk\n",
    "pct_sys_risk = sys_risk / tot_risk\n",
    "pct_idio_risk = idio_risk / tot_risk\n",
    "print(f'\\n percent systematic risk = {pct_sys_risk: .4f} \\n percent idiosyncratic risk = {pct_idio_risk: .4f}')"
   ]
  },
  {
   "cell_type": "markdown",
   "metadata": {},
   "source": [
    "**Example**\n",
    "\n",
    "Regress excess returns of TSLA on excess returns on the market as well as the SMB and HML factors. What is the alpha and the beta of TSLA in this regression?"
   ]
  },
  {
   "cell_type": "code",
   "execution_count": 31,
   "metadata": {},
   "outputs": [
    {
     "data": {
      "text/html": [
       "<div>\n",
       "<style scoped>\n",
       "    .dataframe tbody tr th:only-of-type {\n",
       "        vertical-align: middle;\n",
       "    }\n",
       "\n",
       "    .dataframe tbody tr th {\n",
       "        vertical-align: top;\n",
       "    }\n",
       "\n",
       "    .dataframe thead th {\n",
       "        text-align: right;\n",
       "    }\n",
       "</style>\n",
       "<table border=\"1\" class=\"dataframe\">\n",
       "  <thead>\n",
       "    <tr style=\"text-align: right;\">\n",
       "      <th></th>\n",
       "      <th>const</th>\n",
       "      <th>Mkt-RF</th>\n",
       "      <th>SMB</th>\n",
       "      <th>HML</th>\n",
       "    </tr>\n",
       "    <tr>\n",
       "      <th>Date</th>\n",
       "      <th></th>\n",
       "      <th></th>\n",
       "      <th></th>\n",
       "      <th></th>\n",
       "    </tr>\n",
       "  </thead>\n",
       "  <tbody>\n",
       "    <tr>\n",
       "      <th>2011-02</th>\n",
       "      <td>1.0</td>\n",
       "      <td>0.0349</td>\n",
       "      <td>0.0153</td>\n",
       "      <td>0.0129</td>\n",
       "    </tr>\n",
       "    <tr>\n",
       "      <th>2011-03</th>\n",
       "      <td>1.0</td>\n",
       "      <td>0.0046</td>\n",
       "      <td>0.0258</td>\n",
       "      <td>-0.0176</td>\n",
       "    </tr>\n",
       "    <tr>\n",
       "      <th>2011-04</th>\n",
       "      <td>1.0</td>\n",
       "      <td>0.0290</td>\n",
       "      <td>-0.0037</td>\n",
       "      <td>-0.0243</td>\n",
       "    </tr>\n",
       "    <tr>\n",
       "      <th>2011-05</th>\n",
       "      <td>1.0</td>\n",
       "      <td>-0.0127</td>\n",
       "      <td>-0.0058</td>\n",
       "      <td>-0.0205</td>\n",
       "    </tr>\n",
       "    <tr>\n",
       "      <th>2011-06</th>\n",
       "      <td>1.0</td>\n",
       "      <td>-0.0175</td>\n",
       "      <td>-0.0011</td>\n",
       "      <td>-0.0042</td>\n",
       "    </tr>\n",
       "    <tr>\n",
       "      <th>...</th>\n",
       "      <td>...</td>\n",
       "      <td>...</td>\n",
       "      <td>...</td>\n",
       "      <td>...</td>\n",
       "    </tr>\n",
       "    <tr>\n",
       "      <th>2020-08</th>\n",
       "      <td>1.0</td>\n",
       "      <td>0.0763</td>\n",
       "      <td>-0.0025</td>\n",
       "      <td>-0.0294</td>\n",
       "    </tr>\n",
       "    <tr>\n",
       "      <th>2020-09</th>\n",
       "      <td>1.0</td>\n",
       "      <td>-0.0363</td>\n",
       "      <td>0.0006</td>\n",
       "      <td>-0.0251</td>\n",
       "    </tr>\n",
       "    <tr>\n",
       "      <th>2020-10</th>\n",
       "      <td>1.0</td>\n",
       "      <td>-0.0210</td>\n",
       "      <td>0.0444</td>\n",
       "      <td>0.0403</td>\n",
       "    </tr>\n",
       "    <tr>\n",
       "      <th>2020-11</th>\n",
       "      <td>1.0</td>\n",
       "      <td>0.1247</td>\n",
       "      <td>0.0548</td>\n",
       "      <td>0.0211</td>\n",
       "    </tr>\n",
       "    <tr>\n",
       "      <th>2020-12</th>\n",
       "      <td>1.0</td>\n",
       "      <td>0.0463</td>\n",
       "      <td>0.0481</td>\n",
       "      <td>-0.0136</td>\n",
       "    </tr>\n",
       "  </tbody>\n",
       "</table>\n",
       "<p>119 rows × 4 columns</p>\n",
       "</div>"
      ],
      "text/plain": [
       "         const  Mkt-RF     SMB     HML\n",
       "Date                                  \n",
       "2011-02    1.0  0.0349  0.0153  0.0129\n",
       "2011-03    1.0  0.0046  0.0258 -0.0176\n",
       "2011-04    1.0  0.0290 -0.0037 -0.0243\n",
       "2011-05    1.0 -0.0127 -0.0058 -0.0205\n",
       "2011-06    1.0 -0.0175 -0.0011 -0.0042\n",
       "...        ...     ...     ...     ...\n",
       "2020-08    1.0  0.0763 -0.0025 -0.0294\n",
       "2020-09    1.0 -0.0363  0.0006 -0.0251\n",
       "2020-10    1.0 -0.0210  0.0444  0.0403\n",
       "2020-11    1.0  0.1247  0.0548  0.0211\n",
       "2020-12    1.0  0.0463  0.0481 -0.0136\n",
       "\n",
       "[119 rows x 4 columns]"
      ]
     },
     "execution_count": 31,
     "metadata": {},
     "output_type": "execute_result"
    }
   ],
   "source": [
    "y = full_data['tsla_ret'] - full_data['RF']\n",
    "X = full_data.loc[:,['Mkt-RF','SMB','HML']]\n",
    "X = sm.add_constant(X)\n",
    "X"
   ]
  },
  {
   "cell_type": "code",
   "execution_count": 32,
   "metadata": {},
   "outputs": [
    {
     "name": "stdout",
     "output_type": "stream",
     "text": [
      "                            OLS Regression Results                            \n",
      "==============================================================================\n",
      "Dep. Variable:                      y   R-squared:                       0.178\n",
      "Model:                            OLS   Adj. R-squared:                  0.157\n",
      "Method:                 Least Squares   F-statistic:                     8.316\n",
      "Date:                Fri, 02 Apr 2021   Prob (F-statistic):           4.72e-05\n",
      "Time:                        20:08:56   Log-Likelihood:                 47.363\n",
      "No. Observations:                 119   AIC:                            -86.73\n",
      "Df Residuals:                     115   BIC:                            -75.61\n",
      "Df Model:                           3                                         \n",
      "Covariance Type:            nonrobust                                         \n",
      "==============================================================================\n",
      "                 coef    std err          t      P>|t|      [0.025      0.975]\n",
      "------------------------------------------------------------------------------\n",
      "const          0.0316      0.016      1.949      0.054      -0.001       0.064\n",
      "Mkt-RF         1.8124      0.406      4.469      0.000       1.009       2.616\n",
      "SMB            0.2652      0.707      0.375      0.708      -1.135       1.666\n",
      "HML           -0.7806      0.588     -1.327      0.187      -1.946       0.385\n",
      "==============================================================================\n",
      "Omnibus:                       43.822   Durbin-Watson:                   1.627\n",
      "Prob(Omnibus):                  0.000   Jarque-Bera (JB):              115.243\n",
      "Skew:                           1.399   Prob(JB):                     9.45e-26\n",
      "Kurtosis:                       6.926   Cond. No.                         48.4\n",
      "==============================================================================\n",
      "\n",
      "Notes:\n",
      "[1] Standard Errors assume that the covariance matrix of the errors is correctly specified.\n"
     ]
    }
   ],
   "source": [
    "results3f = sm.OLS(y,X).fit()\n",
    "print(results3f.summary())"
   ]
  },
  {
   "cell_type": "markdown",
   "metadata": {},
   "source": [
    "# 4. Resources\n",
    "\n",
    "- pandas_datareader for Ken French data\n",
    "    - https://pandas-datareader.readthedocs.io/en/latest/remote_data.html#fama-french\n",
    "    \n",
    "- linear regression with \"statsmodels\" package\n",
    "    - https://www.statsmodels.org/stable/regression.html"
   ]
  }
 ],
 "metadata": {
  "kernelspec": {
   "display_name": "Python 3",
   "language": "python",
   "name": "python3"
  },
  "language_info": {
   "codemirror_mode": {
    "name": "ipython",
    "version": 3
   },
   "file_extension": ".py",
   "mimetype": "text/x-python",
   "name": "python",
   "nbconvert_exporter": "python",
   "pygments_lexer": "ipython3",
   "version": "3.8.5"
  }
 },
 "nbformat": 4,
 "nbformat_minor": 4
}
