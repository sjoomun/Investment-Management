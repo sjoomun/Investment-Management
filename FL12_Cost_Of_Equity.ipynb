{
 "cells": [
  {
   "cell_type": "markdown",
   "metadata": {},
   "source": [
    "# 1. Lecture Overview\n",
    "\n",
    "\n",
    "- Estimating cost of equity using CAPM (aka expected return or required rate of return on equity)\n",
    "    - Estimate the market risk premium\n",
    "\n",
    "\n",
    "- Multifactor models: The Fama-French three factor model\n",
    "\n",
    "\n",
    "- Estimating the cost of equity using the Fama-French three factor model\n",
    "    - Estimate the risk premia on the SMB and HML factors\n",
    "\n",
    "\n",
    "- Application:\n",
    "    - Estimate the cost of equity of AAPL, using both the CAPM and the Fama-French three factor model "
   ]
  },
  {
   "cell_type": "markdown",
   "metadata": {},
   "source": [
    "# 2. Cost of equity using CAPM\n",
    "\n",
    "Under the CAPM assumptions, we have: \n",
    "\n",
    "\n",
    "$$E[R_{i}] = R_{f} +  \\beta_i (E[R_{m}] - R_{f}) $$\n",
    "\n",
    "\n",
    "Therefore, to estimate the cost of equity for any firm $i$, using the CAPM we need:\n",
    "\n",
    "\n",
    "- The current risk free rate\n",
    "    - It is best to try to match the horizon of the risk-free rate with the horizon over which the cost of equity applies \n",
    "        - Example: if you want to calculate the cost of equity over the next year, use the yield on a 1-year T-bill as the risk-free rate\n",
    "        - Example: if you want to calculate the cost of equity over the next 10 years, use the yield on a 10-year T-bill as the risk-free rate\n",
    "        \n",
    "        \n",
    "- The firm's market beta\n",
    "    - Regress past excess returns of the firm on past excess returns on the market\n",
    "    \n",
    "    \n",
    "- An estimate for the market risk premium\n",
    "    - Take an average of excess returns on the market (use at least 20 years of data)\n"
   ]
  },
  {
   "cell_type": "markdown",
   "metadata": {},
   "source": [
    "# 3. The Fama-French three factor model\n",
    "\n",
    "The Fama-French three factor model adds two more systematic risk factors in addition to the market return from the single-factor model: \n",
    "\n",
    "$$R_{i,t} - R_{f,t} = \\alpha_i + \\beta_{i,m} (R_{m,t} - R_{f,t}) + \\beta_{i,smb} R_{smb} + \\beta_{i,hml} R_{hml} + \\epsilon_{i,t}$$\n",
    "\n",
    "where:\n",
    "- $R_{smb}$ is the return on a portfolio that is long on the smallest firms in the economy and short on the largest firms\n",
    "- $R_{hml}$ is the return on a portfolio that is long on the firms with highest B/M ratios and short on the firms with the lowest B/M ratios\n",
    "    - B/M = book value of equity divided by market value of equity\n",
    "    - High B/M firms are called \"value\" firms\n",
    "    - Low B/M firms are called \"growth\" firms\n"
   ]
  },
  {
   "cell_type": "markdown",
   "metadata": {},
   "source": [
    "# 4. Cost of equity using the Fama-French three factor model\n",
    "\n",
    "Under the Fama-French model, we have: \n",
    "\n",
    "\n",
    "$$E[R_{i}] = R_{f} +  \\beta_{i,m} (E[R_{m}] - R_{f}) + \\beta_{i,smb} E[R_{smb}] + \\beta_{i,hml} E[R_{hml}] $$\n",
    "\n",
    "\n",
    "Therefore, to estimate the cost of equity for any firm $i$, using the Fama-French factor we also need\n",
    "\n",
    "- The firm's market, SMB, and HML betas\n",
    "    - Regress past excess returns of the firm on past excess returns on the market and the returns on the SMB and HML factors\n",
    "    \n",
    "    \n",
    "- An estimate for the SMB and HML risk premia\n",
    "    - Take an average of the returns of the SMB and HML factors (use at least 20 years of data)\n"
   ]
  },
  {
   "cell_type": "markdown",
   "metadata": {},
   "source": [
    "# 5. Application\n",
    "\n",
    "Calculate the cost of equity for AAPL using both the CAPM and the Fama-French three factor model"
   ]
  },
  {
   "cell_type": "code",
   "execution_count": 1,
   "metadata": {},
   "outputs": [],
   "source": [
    "# Import packages\n",
    "import pandas as pd\n",
    "import yfinance as yf\n",
    "import pandas_datareader as pdr\n",
    "import statsmodels.api as sm\n",
    "import matplotlib.pyplot as plt"
   ]
  },
  {
   "cell_type": "markdown",
   "metadata": {},
   "source": [
    "### 5.1. Calculate risk premia for the market, SMB, and HML factors"
   ]
  },
  {
   "cell_type": "code",
   "execution_count": 2,
   "metadata": {},
   "outputs": [
    {
     "data": {
      "text/html": [
       "<div>\n",
       "<style scoped>\n",
       "    .dataframe tbody tr th:only-of-type {\n",
       "        vertical-align: middle;\n",
       "    }\n",
       "\n",
       "    .dataframe tbody tr th {\n",
       "        vertical-align: top;\n",
       "    }\n",
       "\n",
       "    .dataframe thead th {\n",
       "        text-align: right;\n",
       "    }\n",
       "</style>\n",
       "<table border=\"1\" class=\"dataframe\">\n",
       "  <thead>\n",
       "    <tr style=\"text-align: right;\">\n",
       "      <th></th>\n",
       "      <th>Mkt-RF</th>\n",
       "      <th>SMB</th>\n",
       "      <th>HML</th>\n",
       "      <th>RF</th>\n",
       "    </tr>\n",
       "    <tr>\n",
       "      <th>Date</th>\n",
       "      <th></th>\n",
       "      <th></th>\n",
       "      <th></th>\n",
       "      <th></th>\n",
       "    </tr>\n",
       "  </thead>\n",
       "  <tbody>\n",
       "    <tr>\n",
       "      <th>1926-07</th>\n",
       "      <td>0.0296</td>\n",
       "      <td>-0.0230</td>\n",
       "      <td>-0.0287</td>\n",
       "      <td>0.0022</td>\n",
       "    </tr>\n",
       "    <tr>\n",
       "      <th>1926-08</th>\n",
       "      <td>0.0264</td>\n",
       "      <td>-0.0140</td>\n",
       "      <td>0.0419</td>\n",
       "      <td>0.0025</td>\n",
       "    </tr>\n",
       "    <tr>\n",
       "      <th>1926-09</th>\n",
       "      <td>0.0036</td>\n",
       "      <td>-0.0132</td>\n",
       "      <td>0.0001</td>\n",
       "      <td>0.0023</td>\n",
       "    </tr>\n",
       "    <tr>\n",
       "      <th>1926-10</th>\n",
       "      <td>-0.0324</td>\n",
       "      <td>0.0004</td>\n",
       "      <td>0.0051</td>\n",
       "      <td>0.0032</td>\n",
       "    </tr>\n",
       "    <tr>\n",
       "      <th>1926-11</th>\n",
       "      <td>0.0253</td>\n",
       "      <td>-0.0020</td>\n",
       "      <td>-0.0035</td>\n",
       "      <td>0.0031</td>\n",
       "    </tr>\n",
       "    <tr>\n",
       "      <th>...</th>\n",
       "      <td>...</td>\n",
       "      <td>...</td>\n",
       "      <td>...</td>\n",
       "      <td>...</td>\n",
       "    </tr>\n",
       "    <tr>\n",
       "      <th>2020-10</th>\n",
       "      <td>-0.0210</td>\n",
       "      <td>0.0444</td>\n",
       "      <td>0.0403</td>\n",
       "      <td>0.0001</td>\n",
       "    </tr>\n",
       "    <tr>\n",
       "      <th>2020-11</th>\n",
       "      <td>0.1247</td>\n",
       "      <td>0.0548</td>\n",
       "      <td>0.0211</td>\n",
       "      <td>0.0001</td>\n",
       "    </tr>\n",
       "    <tr>\n",
       "      <th>2020-12</th>\n",
       "      <td>0.0463</td>\n",
       "      <td>0.0481</td>\n",
       "      <td>-0.0136</td>\n",
       "      <td>0.0001</td>\n",
       "    </tr>\n",
       "    <tr>\n",
       "      <th>2021-01</th>\n",
       "      <td>-0.0004</td>\n",
       "      <td>0.0719</td>\n",
       "      <td>0.0285</td>\n",
       "      <td>0.0000</td>\n",
       "    </tr>\n",
       "    <tr>\n",
       "      <th>2021-02</th>\n",
       "      <td>0.0279</td>\n",
       "      <td>0.0211</td>\n",
       "      <td>0.0707</td>\n",
       "      <td>0.0000</td>\n",
       "    </tr>\n",
       "  </tbody>\n",
       "</table>\n",
       "<p>1136 rows × 4 columns</p>\n",
       "</div>"
      ],
      "text/plain": [
       "         Mkt-RF     SMB     HML      RF\n",
       "Date                                   \n",
       "1926-07  0.0296 -0.0230 -0.0287  0.0022\n",
       "1926-08  0.0264 -0.0140  0.0419  0.0025\n",
       "1926-09  0.0036 -0.0132  0.0001  0.0023\n",
       "1926-10 -0.0324  0.0004  0.0051  0.0032\n",
       "1926-11  0.0253 -0.0020 -0.0035  0.0031\n",
       "...         ...     ...     ...     ...\n",
       "2020-10 -0.0210  0.0444  0.0403  0.0001\n",
       "2020-11  0.1247  0.0548  0.0211  0.0001\n",
       "2020-12  0.0463  0.0481 -0.0136  0.0001\n",
       "2021-01 -0.0004  0.0719  0.0285  0.0000\n",
       "2021-02  0.0279  0.0211  0.0707  0.0000\n",
       "\n",
       "[1136 rows x 4 columns]"
      ]
     },
     "execution_count": 2,
     "metadata": {},
     "output_type": "execute_result"
    }
   ],
   "source": [
    "# Download the monthly Fama French factors\n",
    "ff3f = pdr.DataReader('F-F_Research_Data_Factors', 'famafrench','1926-01-01')[0]/100\n",
    "ff3f"
   ]
  },
  {
   "cell_type": "code",
   "execution_count": 3,
   "metadata": {},
   "outputs": [
    {
     "data": {
      "text/plain": [
       "Mkt-RF    0.006827\n",
       "SMB       0.002101\n",
       "HML       0.003299\n",
       "RF        0.002701\n",
       "dtype: float64"
      ]
     },
     "execution_count": 3,
     "metadata": {},
     "output_type": "execute_result"
    }
   ],
   "source": [
    "# Calculate risk premia\n",
    "risk_premia = ff3f.mean()\n",
    "risk_premia"
   ]
  },
  {
   "cell_type": "markdown",
   "metadata": {},
   "source": [
    "### 5.2. Get data on AAPL returns and combine them with the risk factors"
   ]
  },
  {
   "cell_type": "code",
   "execution_count": 4,
   "metadata": {},
   "outputs": [
    {
     "name": "stdout",
     "output_type": "stream",
     "text": [
      "[*********************100%***********************]  1 of 1 completed\n"
     ]
    },
    {
     "data": {
      "text/plain": [
       "Date\n",
       "2010-12-01      9.922909\n",
       "2011-01-01     10.438492\n",
       "2011-02-01     10.865795\n",
       "2011-03-01     10.721204\n",
       "2011-04-01     10.771044\n",
       "                 ...    \n",
       "2020-08-01    128.394058\n",
       "2020-09-01    115.438042\n",
       "2020-10-01    108.510361\n",
       "2020-11-01    118.667633\n",
       "2020-12-01    132.492020\n",
       "Name: Adj Close, Length: 121, dtype: float64"
      ]
     },
     "execution_count": 4,
     "metadata": {},
     "output_type": "execute_result"
    }
   ],
   "source": [
    "# Download adj price data and drop missing values\n",
    "prices = yf.download('AAPL', '2010-12-01', '2020-12-31', interval='1mo')['Adj Close'].dropna()\n",
    "prices"
   ]
  },
  {
   "cell_type": "code",
   "execution_count": 5,
   "metadata": {},
   "outputs": [
    {
     "data": {
      "text/html": [
       "<div>\n",
       "<style scoped>\n",
       "    .dataframe tbody tr th:only-of-type {\n",
       "        vertical-align: middle;\n",
       "    }\n",
       "\n",
       "    .dataframe tbody tr th {\n",
       "        vertical-align: top;\n",
       "    }\n",
       "\n",
       "    .dataframe thead th {\n",
       "        text-align: right;\n",
       "    }\n",
       "</style>\n",
       "<table border=\"1\" class=\"dataframe\">\n",
       "  <thead>\n",
       "    <tr style=\"text-align: right;\">\n",
       "      <th></th>\n",
       "      <th>Adj Close</th>\n",
       "    </tr>\n",
       "    <tr>\n",
       "      <th>Date</th>\n",
       "      <th></th>\n",
       "    </tr>\n",
       "  </thead>\n",
       "  <tbody>\n",
       "    <tr>\n",
       "      <th>2011-01-01</th>\n",
       "      <td>0.051959</td>\n",
       "    </tr>\n",
       "    <tr>\n",
       "      <th>2011-02-01</th>\n",
       "      <td>0.040935</td>\n",
       "    </tr>\n",
       "    <tr>\n",
       "      <th>2011-03-01</th>\n",
       "      <td>-0.013307</td>\n",
       "    </tr>\n",
       "    <tr>\n",
       "      <th>2011-04-01</th>\n",
       "      <td>0.004649</td>\n",
       "    </tr>\n",
       "    <tr>\n",
       "      <th>2011-05-01</th>\n",
       "      <td>-0.006569</td>\n",
       "    </tr>\n",
       "    <tr>\n",
       "      <th>...</th>\n",
       "      <td>...</td>\n",
       "    </tr>\n",
       "    <tr>\n",
       "      <th>2020-08-01</th>\n",
       "      <td>0.214380</td>\n",
       "    </tr>\n",
       "    <tr>\n",
       "      <th>2020-09-01</th>\n",
       "      <td>-0.100908</td>\n",
       "    </tr>\n",
       "    <tr>\n",
       "      <th>2020-10-01</th>\n",
       "      <td>-0.060012</td>\n",
       "    </tr>\n",
       "    <tr>\n",
       "      <th>2020-11-01</th>\n",
       "      <td>0.093606</td>\n",
       "    </tr>\n",
       "    <tr>\n",
       "      <th>2020-12-01</th>\n",
       "      <td>0.116497</td>\n",
       "    </tr>\n",
       "  </tbody>\n",
       "</table>\n",
       "<p>120 rows × 1 columns</p>\n",
       "</div>"
      ],
      "text/plain": [
       "            Adj Close\n",
       "Date                 \n",
       "2011-01-01   0.051959\n",
       "2011-02-01   0.040935\n",
       "2011-03-01  -0.013307\n",
       "2011-04-01   0.004649\n",
       "2011-05-01  -0.006569\n",
       "...               ...\n",
       "2020-08-01   0.214380\n",
       "2020-09-01  -0.100908\n",
       "2020-10-01  -0.060012\n",
       "2020-11-01   0.093606\n",
       "2020-12-01   0.116497\n",
       "\n",
       "[120 rows x 1 columns]"
      ]
     },
     "execution_count": 5,
     "metadata": {},
     "output_type": "execute_result"
    }
   ],
   "source": [
    "# Calculate returns, drop missing values and convert to dataframe\n",
    "returns = prices.pct_change().dropna().to_frame()\n",
    "returns"
   ]
  },
  {
   "cell_type": "code",
   "execution_count": 6,
   "metadata": {},
   "outputs": [
    {
     "data": {
      "text/html": [
       "<div>\n",
       "<style scoped>\n",
       "    .dataframe tbody tr th:only-of-type {\n",
       "        vertical-align: middle;\n",
       "    }\n",
       "\n",
       "    .dataframe tbody tr th {\n",
       "        vertical-align: top;\n",
       "    }\n",
       "\n",
       "    .dataframe thead th {\n",
       "        text-align: right;\n",
       "    }\n",
       "</style>\n",
       "<table border=\"1\" class=\"dataframe\">\n",
       "  <thead>\n",
       "    <tr style=\"text-align: right;\">\n",
       "      <th></th>\n",
       "      <th>AAPL</th>\n",
       "    </tr>\n",
       "    <tr>\n",
       "      <th>Date</th>\n",
       "      <th></th>\n",
       "    </tr>\n",
       "  </thead>\n",
       "  <tbody>\n",
       "    <tr>\n",
       "      <th>2011-01-01</th>\n",
       "      <td>0.051959</td>\n",
       "    </tr>\n",
       "    <tr>\n",
       "      <th>2011-02-01</th>\n",
       "      <td>0.040935</td>\n",
       "    </tr>\n",
       "    <tr>\n",
       "      <th>2011-03-01</th>\n",
       "      <td>-0.013307</td>\n",
       "    </tr>\n",
       "    <tr>\n",
       "      <th>2011-04-01</th>\n",
       "      <td>0.004649</td>\n",
       "    </tr>\n",
       "    <tr>\n",
       "      <th>2011-05-01</th>\n",
       "      <td>-0.006569</td>\n",
       "    </tr>\n",
       "    <tr>\n",
       "      <th>...</th>\n",
       "      <td>...</td>\n",
       "    </tr>\n",
       "    <tr>\n",
       "      <th>2020-08-01</th>\n",
       "      <td>0.214380</td>\n",
       "    </tr>\n",
       "    <tr>\n",
       "      <th>2020-09-01</th>\n",
       "      <td>-0.100908</td>\n",
       "    </tr>\n",
       "    <tr>\n",
       "      <th>2020-10-01</th>\n",
       "      <td>-0.060012</td>\n",
       "    </tr>\n",
       "    <tr>\n",
       "      <th>2020-11-01</th>\n",
       "      <td>0.093606</td>\n",
       "    </tr>\n",
       "    <tr>\n",
       "      <th>2020-12-01</th>\n",
       "      <td>0.116497</td>\n",
       "    </tr>\n",
       "  </tbody>\n",
       "</table>\n",
       "<p>120 rows × 1 columns</p>\n",
       "</div>"
      ],
      "text/plain": [
       "                AAPL\n",
       "Date                \n",
       "2011-01-01  0.051959\n",
       "2011-02-01  0.040935\n",
       "2011-03-01 -0.013307\n",
       "2011-04-01  0.004649\n",
       "2011-05-01 -0.006569\n",
       "...              ...\n",
       "2020-08-01  0.214380\n",
       "2020-09-01 -0.100908\n",
       "2020-10-01 -0.060012\n",
       "2020-11-01  0.093606\n",
       "2020-12-01  0.116497\n",
       "\n",
       "[120 rows x 1 columns]"
      ]
     },
     "execution_count": 6,
     "metadata": {},
     "output_type": "execute_result"
    }
   ],
   "source": [
    "# Rename column of returns\n",
    "returns.rename(columns={'Adj Close': 'AAPL'}, inplace = True)\n",
    "returns"
   ]
  },
  {
   "cell_type": "code",
   "execution_count": 7,
   "metadata": {},
   "outputs": [
    {
     "data": {
      "text/html": [
       "<div>\n",
       "<style scoped>\n",
       "    .dataframe tbody tr th:only-of-type {\n",
       "        vertical-align: middle;\n",
       "    }\n",
       "\n",
       "    .dataframe tbody tr th {\n",
       "        vertical-align: top;\n",
       "    }\n",
       "\n",
       "    .dataframe thead th {\n",
       "        text-align: right;\n",
       "    }\n",
       "</style>\n",
       "<table border=\"1\" class=\"dataframe\">\n",
       "  <thead>\n",
       "    <tr style=\"text-align: right;\">\n",
       "      <th></th>\n",
       "      <th>AAPL</th>\n",
       "    </tr>\n",
       "    <tr>\n",
       "      <th>Date</th>\n",
       "      <th></th>\n",
       "    </tr>\n",
       "  </thead>\n",
       "  <tbody>\n",
       "    <tr>\n",
       "      <th>2011-01</th>\n",
       "      <td>0.051959</td>\n",
       "    </tr>\n",
       "    <tr>\n",
       "      <th>2011-02</th>\n",
       "      <td>0.040935</td>\n",
       "    </tr>\n",
       "    <tr>\n",
       "      <th>2011-03</th>\n",
       "      <td>-0.013307</td>\n",
       "    </tr>\n",
       "    <tr>\n",
       "      <th>2011-04</th>\n",
       "      <td>0.004649</td>\n",
       "    </tr>\n",
       "    <tr>\n",
       "      <th>2011-05</th>\n",
       "      <td>-0.006569</td>\n",
       "    </tr>\n",
       "    <tr>\n",
       "      <th>...</th>\n",
       "      <td>...</td>\n",
       "    </tr>\n",
       "    <tr>\n",
       "      <th>2020-08</th>\n",
       "      <td>0.214380</td>\n",
       "    </tr>\n",
       "    <tr>\n",
       "      <th>2020-09</th>\n",
       "      <td>-0.100908</td>\n",
       "    </tr>\n",
       "    <tr>\n",
       "      <th>2020-10</th>\n",
       "      <td>-0.060012</td>\n",
       "    </tr>\n",
       "    <tr>\n",
       "      <th>2020-11</th>\n",
       "      <td>0.093606</td>\n",
       "    </tr>\n",
       "    <tr>\n",
       "      <th>2020-12</th>\n",
       "      <td>0.116497</td>\n",
       "    </tr>\n",
       "  </tbody>\n",
       "</table>\n",
       "<p>120 rows × 1 columns</p>\n",
       "</div>"
      ],
      "text/plain": [
       "             AAPL\n",
       "Date             \n",
       "2011-01  0.051959\n",
       "2011-02  0.040935\n",
       "2011-03 -0.013307\n",
       "2011-04  0.004649\n",
       "2011-05 -0.006569\n",
       "...           ...\n",
       "2020-08  0.214380\n",
       "2020-09 -0.100908\n",
       "2020-10 -0.060012\n",
       "2020-11  0.093606\n",
       "2020-12  0.116497\n",
       "\n",
       "[120 rows x 1 columns]"
      ]
     },
     "execution_count": 7,
     "metadata": {},
     "output_type": "execute_result"
    }
   ],
   "source": [
    "# Convert the index to \"period('M')\" (monthly)\n",
    "returns.index = returns.index.to_period('M')\n",
    "returns"
   ]
  },
  {
   "cell_type": "code",
   "execution_count": 8,
   "metadata": {},
   "outputs": [
    {
     "data": {
      "text/html": [
       "<div>\n",
       "<style scoped>\n",
       "    .dataframe tbody tr th:only-of-type {\n",
       "        vertical-align: middle;\n",
       "    }\n",
       "\n",
       "    .dataframe tbody tr th {\n",
       "        vertical-align: top;\n",
       "    }\n",
       "\n",
       "    .dataframe thead th {\n",
       "        text-align: right;\n",
       "    }\n",
       "</style>\n",
       "<table border=\"1\" class=\"dataframe\">\n",
       "  <thead>\n",
       "    <tr style=\"text-align: right;\">\n",
       "      <th></th>\n",
       "      <th>AAPL</th>\n",
       "      <th>Mkt-RF</th>\n",
       "      <th>SMB</th>\n",
       "      <th>HML</th>\n",
       "      <th>RF</th>\n",
       "    </tr>\n",
       "    <tr>\n",
       "      <th>Date</th>\n",
       "      <th></th>\n",
       "      <th></th>\n",
       "      <th></th>\n",
       "      <th></th>\n",
       "      <th></th>\n",
       "    </tr>\n",
       "  </thead>\n",
       "  <tbody>\n",
       "    <tr>\n",
       "      <th>2011-01</th>\n",
       "      <td>0.051959</td>\n",
       "      <td>0.0199</td>\n",
       "      <td>-0.0252</td>\n",
       "      <td>0.0082</td>\n",
       "      <td>0.0001</td>\n",
       "    </tr>\n",
       "    <tr>\n",
       "      <th>2011-02</th>\n",
       "      <td>0.040935</td>\n",
       "      <td>0.0349</td>\n",
       "      <td>0.0153</td>\n",
       "      <td>0.0129</td>\n",
       "      <td>0.0001</td>\n",
       "    </tr>\n",
       "    <tr>\n",
       "      <th>2011-03</th>\n",
       "      <td>-0.013307</td>\n",
       "      <td>0.0046</td>\n",
       "      <td>0.0258</td>\n",
       "      <td>-0.0176</td>\n",
       "      <td>0.0001</td>\n",
       "    </tr>\n",
       "    <tr>\n",
       "      <th>2011-04</th>\n",
       "      <td>0.004649</td>\n",
       "      <td>0.0290</td>\n",
       "      <td>-0.0037</td>\n",
       "      <td>-0.0243</td>\n",
       "      <td>0.0000</td>\n",
       "    </tr>\n",
       "    <tr>\n",
       "      <th>2011-05</th>\n",
       "      <td>-0.006569</td>\n",
       "      <td>-0.0127</td>\n",
       "      <td>-0.0058</td>\n",
       "      <td>-0.0205</td>\n",
       "      <td>0.0000</td>\n",
       "    </tr>\n",
       "    <tr>\n",
       "      <th>...</th>\n",
       "      <td>...</td>\n",
       "      <td>...</td>\n",
       "      <td>...</td>\n",
       "      <td>...</td>\n",
       "      <td>...</td>\n",
       "    </tr>\n",
       "    <tr>\n",
       "      <th>2020-08</th>\n",
       "      <td>0.214380</td>\n",
       "      <td>0.0763</td>\n",
       "      <td>-0.0025</td>\n",
       "      <td>-0.0294</td>\n",
       "      <td>0.0001</td>\n",
       "    </tr>\n",
       "    <tr>\n",
       "      <th>2020-09</th>\n",
       "      <td>-0.100908</td>\n",
       "      <td>-0.0363</td>\n",
       "      <td>0.0006</td>\n",
       "      <td>-0.0251</td>\n",
       "      <td>0.0001</td>\n",
       "    </tr>\n",
       "    <tr>\n",
       "      <th>2020-10</th>\n",
       "      <td>-0.060012</td>\n",
       "      <td>-0.0210</td>\n",
       "      <td>0.0444</td>\n",
       "      <td>0.0403</td>\n",
       "      <td>0.0001</td>\n",
       "    </tr>\n",
       "    <tr>\n",
       "      <th>2020-11</th>\n",
       "      <td>0.093606</td>\n",
       "      <td>0.1247</td>\n",
       "      <td>0.0548</td>\n",
       "      <td>0.0211</td>\n",
       "      <td>0.0001</td>\n",
       "    </tr>\n",
       "    <tr>\n",
       "      <th>2020-12</th>\n",
       "      <td>0.116497</td>\n",
       "      <td>0.0463</td>\n",
       "      <td>0.0481</td>\n",
       "      <td>-0.0136</td>\n",
       "      <td>0.0001</td>\n",
       "    </tr>\n",
       "  </tbody>\n",
       "</table>\n",
       "<p>120 rows × 5 columns</p>\n",
       "</div>"
      ],
      "text/plain": [
       "             AAPL  Mkt-RF     SMB     HML      RF\n",
       "Date                                             \n",
       "2011-01  0.051959  0.0199 -0.0252  0.0082  0.0001\n",
       "2011-02  0.040935  0.0349  0.0153  0.0129  0.0001\n",
       "2011-03 -0.013307  0.0046  0.0258 -0.0176  0.0001\n",
       "2011-04  0.004649  0.0290 -0.0037 -0.0243  0.0000\n",
       "2011-05 -0.006569 -0.0127 -0.0058 -0.0205  0.0000\n",
       "...           ...     ...     ...     ...     ...\n",
       "2020-08  0.214380  0.0763 -0.0025 -0.0294  0.0001\n",
       "2020-09 -0.100908 -0.0363  0.0006 -0.0251  0.0001\n",
       "2020-10 -0.060012 -0.0210  0.0444  0.0403  0.0001\n",
       "2020-11  0.093606  0.1247  0.0548  0.0211  0.0001\n",
       "2020-12  0.116497  0.0463  0.0481 -0.0136  0.0001\n",
       "\n",
       "[120 rows x 5 columns]"
      ]
     },
     "execution_count": 8,
     "metadata": {},
     "output_type": "execute_result"
    }
   ],
   "source": [
    "# Combine the datasets\n",
    "full_data = returns.join(ff3f)\n",
    "full_data"
   ]
  },
  {
   "cell_type": "markdown",
   "metadata": {},
   "source": [
    "### Cost of equity using the CAPM"
   ]
  },
  {
   "cell_type": "code",
   "execution_count": 9,
   "metadata": {},
   "outputs": [
    {
     "data": {
      "text/html": [
       "<div>\n",
       "<style scoped>\n",
       "    .dataframe tbody tr th:only-of-type {\n",
       "        vertical-align: middle;\n",
       "    }\n",
       "\n",
       "    .dataframe tbody tr th {\n",
       "        vertical-align: top;\n",
       "    }\n",
       "\n",
       "    .dataframe thead th {\n",
       "        text-align: right;\n",
       "    }\n",
       "</style>\n",
       "<table border=\"1\" class=\"dataframe\">\n",
       "  <thead>\n",
       "    <tr style=\"text-align: right;\">\n",
       "      <th></th>\n",
       "      <th>const</th>\n",
       "      <th>Mkt-RF</th>\n",
       "    </tr>\n",
       "    <tr>\n",
       "      <th>Date</th>\n",
       "      <th></th>\n",
       "      <th></th>\n",
       "    </tr>\n",
       "  </thead>\n",
       "  <tbody>\n",
       "    <tr>\n",
       "      <th>2011-01</th>\n",
       "      <td>1.0</td>\n",
       "      <td>0.0199</td>\n",
       "    </tr>\n",
       "    <tr>\n",
       "      <th>2011-02</th>\n",
       "      <td>1.0</td>\n",
       "      <td>0.0349</td>\n",
       "    </tr>\n",
       "    <tr>\n",
       "      <th>2011-03</th>\n",
       "      <td>1.0</td>\n",
       "      <td>0.0046</td>\n",
       "    </tr>\n",
       "    <tr>\n",
       "      <th>2011-04</th>\n",
       "      <td>1.0</td>\n",
       "      <td>0.0290</td>\n",
       "    </tr>\n",
       "    <tr>\n",
       "      <th>2011-05</th>\n",
       "      <td>1.0</td>\n",
       "      <td>-0.0127</td>\n",
       "    </tr>\n",
       "    <tr>\n",
       "      <th>...</th>\n",
       "      <td>...</td>\n",
       "      <td>...</td>\n",
       "    </tr>\n",
       "    <tr>\n",
       "      <th>2020-08</th>\n",
       "      <td>1.0</td>\n",
       "      <td>0.0763</td>\n",
       "    </tr>\n",
       "    <tr>\n",
       "      <th>2020-09</th>\n",
       "      <td>1.0</td>\n",
       "      <td>-0.0363</td>\n",
       "    </tr>\n",
       "    <tr>\n",
       "      <th>2020-10</th>\n",
       "      <td>1.0</td>\n",
       "      <td>-0.0210</td>\n",
       "    </tr>\n",
       "    <tr>\n",
       "      <th>2020-11</th>\n",
       "      <td>1.0</td>\n",
       "      <td>0.1247</td>\n",
       "    </tr>\n",
       "    <tr>\n",
       "      <th>2020-12</th>\n",
       "      <td>1.0</td>\n",
       "      <td>0.0463</td>\n",
       "    </tr>\n",
       "  </tbody>\n",
       "</table>\n",
       "<p>120 rows × 2 columns</p>\n",
       "</div>"
      ],
      "text/plain": [
       "         const  Mkt-RF\n",
       "Date                  \n",
       "2011-01    1.0  0.0199\n",
       "2011-02    1.0  0.0349\n",
       "2011-03    1.0  0.0046\n",
       "2011-04    1.0  0.0290\n",
       "2011-05    1.0 -0.0127\n",
       "...        ...     ...\n",
       "2020-08    1.0  0.0763\n",
       "2020-09    1.0 -0.0363\n",
       "2020-10    1.0 -0.0210\n",
       "2020-11    1.0  0.1247\n",
       "2020-12    1.0  0.0463\n",
       "\n",
       "[120 rows x 2 columns]"
      ]
     },
     "execution_count": 9,
     "metadata": {},
     "output_type": "execute_result"
    }
   ],
   "source": [
    "# Run the regression to calculate CAPM beta\n",
    "y = full_data['AAPL'] - full_data['RF']\n",
    "X = full_data['Mkt-RF']\n",
    "X = sm.add_constant(X)\n",
    "X"
   ]
  },
  {
   "cell_type": "code",
   "execution_count": 10,
   "metadata": {},
   "outputs": [
    {
     "name": "stdout",
     "output_type": "stream",
     "text": [
      "                            OLS Regression Results                            \n",
      "==============================================================================\n",
      "Dep. Variable:                      y   R-squared:                       0.307\n",
      "Model:                            OLS   Adj. R-squared:                  0.301\n",
      "Method:                 Least Squares   F-statistic:                     52.34\n",
      "Date:                Fri, 02 Apr 2021   Prob (F-statistic):           5.09e-11\n",
      "Time:                        20:12:12   Log-Likelihood:                 156.83\n",
      "No. Observations:                 120   AIC:                            -309.7\n",
      "Df Residuals:                     118   BIC:                            -304.1\n",
      "Df Model:                           1                                         \n",
      "Covariance Type:            nonrobust                                         \n",
      "==============================================================================\n",
      "                 coef    std err          t      P>|t|      [0.025      0.975]\n",
      "------------------------------------------------------------------------------\n",
      "const          0.0122      0.006      1.953      0.053      -0.000       0.025\n",
      "Mkt-RF         1.0621      0.147      7.235      0.000       0.771       1.353\n",
      "==============================================================================\n",
      "Omnibus:                        6.961   Durbin-Watson:                   1.865\n",
      "Prob(Omnibus):                  0.031   Jarque-Bera (JB):                7.817\n",
      "Skew:                          -0.371   Prob(JB):                       0.0201\n",
      "Kurtosis:                       4.006   Cond. No.                         24.4\n",
      "==============================================================================\n",
      "\n",
      "Notes:\n",
      "[1] Standard Errors assume that the covariance matrix of the errors is correctly specified.\n"
     ]
    }
   ],
   "source": [
    "# Run the CAPM regression\n",
    "results = sm.OLS(y, X).fit()\n",
    "print(results.summary())"
   ]
  },
  {
   "cell_type": "code",
   "execution_count": 11,
   "metadata": {},
   "outputs": [
    {
     "data": {
      "text/plain": [
       "1.062056931649567"
      ]
     },
     "execution_count": 11,
     "metadata": {},
     "output_type": "execute_result"
    }
   ],
   "source": [
    "# Extract AAPL's beta under the CAPM\n",
    "beta_capm = results.params['Mkt-RF']\n",
    "beta_capm"
   ]
  },
  {
   "cell_type": "code",
   "execution_count": 12,
   "metadata": {},
   "outputs": [
    {
     "data": {
      "text/plain": [
       "0.007333928692237433"
      ]
     },
     "execution_count": 12,
     "metadata": {},
     "output_type": "execute_result"
    }
   ],
   "source": [
    "# Calculate cost of equity (remember this is monthly)\n",
    "rf = 0.001/12 #current one-year tbill, on a monthly basis\n",
    "\n",
    "coe_capm = rf + beta_capm * risk_premia['Mkt-RF']\n",
    "coe_capm"
   ]
  },
  {
   "cell_type": "code",
   "execution_count": 13,
   "metadata": {},
   "outputs": [
    {
     "name": "stdout",
     "output_type": "stream",
     "text": [
      "\n",
      "\n",
      " AAPL cost of equity using CAPM =  0.0880\n"
     ]
    }
   ],
   "source": [
    "# Annualize the cost of equity\n",
    "annual_coe_capm = 12 * coe_capm\n",
    "print(f'\\n\\n AAPL cost of equity using CAPM = {annual_coe_capm: .4f}')"
   ]
  },
  {
   "cell_type": "markdown",
   "metadata": {},
   "source": [
    "### Cost of equity using the Fama-French three factor model"
   ]
  },
  {
   "cell_type": "code",
   "execution_count": 14,
   "metadata": {},
   "outputs": [],
   "source": [
    "# Run the regression to calculate CAPM beta\n",
    "y = full_data['AAPL'] - full_data['RF']\n",
    "X = full_data[['Mkt-RF','SMB','HML']]\n",
    "X = sm.add_constant(X)\n",
    "#X"
   ]
  },
  {
   "cell_type": "code",
   "execution_count": 15,
   "metadata": {},
   "outputs": [
    {
     "name": "stdout",
     "output_type": "stream",
     "text": [
      "                            OLS Regression Results                            \n",
      "==============================================================================\n",
      "Dep. Variable:                      y   R-squared:                       0.388\n",
      "Model:                            OLS   Adj. R-squared:                  0.372\n",
      "Method:                 Least Squares   F-statistic:                     24.53\n",
      "Date:                Fri, 02 Apr 2021   Prob (F-statistic):           2.30e-12\n",
      "Time:                        20:12:12   Log-Likelihood:                 164.28\n",
      "No. Observations:                 120   AIC:                            -320.6\n",
      "Df Residuals:                     116   BIC:                            -309.4\n",
      "Df Model:                           3                                         \n",
      "Covariance Type:            nonrobust                                         \n",
      "==============================================================================\n",
      "                 coef    std err          t      P>|t|      [0.025      0.975]\n",
      "------------------------------------------------------------------------------\n",
      "const          0.0065      0.006      1.066      0.289      -0.006       0.019\n",
      "Mkt-RF         1.2821      0.153      8.362      0.000       0.978       1.586\n",
      "SMB           -0.5699      0.266     -2.144      0.034      -1.096      -0.044\n",
      "HML           -0.6738      0.222     -3.029      0.003      -1.114      -0.233\n",
      "==============================================================================\n",
      "Omnibus:                       10.512   Durbin-Watson:                   1.947\n",
      "Prob(Omnibus):                  0.005   Jarque-Bera (JB):               14.640\n",
      "Skew:                          -0.452   Prob(JB):                     0.000662\n",
      "Kurtosis:                       4.452   Cond. No.                         48.2\n",
      "==============================================================================\n",
      "\n",
      "Notes:\n",
      "[1] Standard Errors assume that the covariance matrix of the errors is correctly specified.\n"
     ]
    }
   ],
   "source": [
    "# Run Fama-French three-factor regression\n",
    "results = sm.OLS(y, X).fit()\n",
    "print(results.summary())"
   ]
  },
  {
   "cell_type": "code",
   "execution_count": 16,
   "metadata": {},
   "outputs": [
    {
     "name": "stdout",
     "output_type": "stream",
     "text": [
      "1.282062406706675 -0.5699329888338278 -0.6737848724904661\n"
     ]
    }
   ],
   "source": [
    "# Extract betas unde the three-factor model\n",
    "beta_mkt = results.params['Mkt-RF']\n",
    "beta_smb = results.params['SMB']\n",
    "beta_hml = results.params['HML']\n",
    "print(beta_mkt, beta_smb, beta_hml)"
   ]
  },
  {
   "cell_type": "code",
   "execution_count": 17,
   "metadata": {},
   "outputs": [
    {
     "data": {
      "text/plain": [
       "0.005415889721562294"
      ]
     },
     "execution_count": 17,
     "metadata": {},
     "output_type": "execute_result"
    }
   ],
   "source": [
    "# Calculate cost of equity (remember this is monthly)\n",
    "rf = 0.001/12 #current one-year tbill, on a monthly basis\n",
    "coe_ff3 = rf + beta_mkt * risk_premia['Mkt-RF'] + beta_smb * risk_premia['SMB'] + beta_hml * risk_premia['HML']\n",
    "coe_ff3"
   ]
  },
  {
   "cell_type": "code",
   "execution_count": 18,
   "metadata": {},
   "outputs": [
    {
     "name": "stdout",
     "output_type": "stream",
     "text": [
      "\n",
      "\n",
      " AAPL cost of equity using Fama-French three factor model =  0.0650\n"
     ]
    }
   ],
   "source": [
    "# Annualize the cost of equity\n",
    "annual_coe_ff3 = 12 * coe_ff3\n",
    "print(f'\\n\\n AAPL cost of equity using Fama-French three factor model = {annual_coe_ff3: .4f}')"
   ]
  },
  {
   "cell_type": "markdown",
   "metadata": {},
   "source": [
    "**Example**\n",
    "\n",
    "Recalculate the risk premia of all three risk factors using only data since 1990. \n",
    "Now recalculate the cost of equity of AAPL using these new risk-premia estimates."
   ]
  },
  {
   "cell_type": "code",
   "execution_count": 19,
   "metadata": {},
   "outputs": [
    {
     "data": {
      "text/plain": [
       "Mkt-RF    0.007180\n",
       "SMB       0.001491\n",
       "HML       0.000772\n",
       "RF        0.002164\n",
       "dtype: float64"
      ]
     },
     "execution_count": 19,
     "metadata": {},
     "output_type": "execute_result"
    }
   ],
   "source": [
    "# Download data on risk factors starting in 1990\n",
    "ff3f_new = pdr.DataReader('F-F_Research_Data_Factors', 'famafrench', '1990-01-01')[0]/100\n",
    "\n",
    "# Recalculate risk premia\n",
    "newrp = ff3f_new.mean()\n",
    "newrp"
   ]
  },
  {
   "cell_type": "code",
   "execution_count": 20,
   "metadata": {},
   "outputs": [
    {
     "data": {
      "text/plain": [
       "0.09250955136636616"
      ]
     },
     "execution_count": 20,
     "metadata": {},
     "output_type": "execute_result"
    }
   ],
   "source": [
    "# Calculate cost of equity using CAPM\n",
    "new_coe_capm = (rf + beta_capm * newrp['Mkt-RF']) * 12\n",
    "new_coe_capm"
   ]
  },
  {
   "cell_type": "code",
   "execution_count": 21,
   "metadata": {},
   "outputs": [
    {
     "data": {
      "text/plain": [
       "0.09501984971559671"
      ]
     },
     "execution_count": 21,
     "metadata": {},
     "output_type": "execute_result"
    }
   ],
   "source": [
    "# Calculate cost of equity using FF 3 factor model\n",
    "new_coe_ff3f = (rf + beta_mkt * newrp['Mkt-RF'] + beta_smb * newrp['SMB'] + beta_hml * newrp['HML']) * 12\n",
    "new_coe_ff3f"
   ]
  }
 ],
 "metadata": {
  "kernelspec": {
   "display_name": "Python 3",
   "language": "python",
   "name": "python3"
  },
  "language_info": {
   "codemirror_mode": {
    "name": "ipython",
    "version": 3
   },
   "file_extension": ".py",
   "mimetype": "text/x-python",
   "name": "python",
   "nbconvert_exporter": "python",
   "pygments_lexer": "ipython3",
   "version": "3.8.5"
  }
 },
 "nbformat": 4,
 "nbformat_minor": 4
}
