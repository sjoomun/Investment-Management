{
 "cells": [
  {
   "cell_type": "markdown",
   "metadata": {},
   "source": [
    "# Lecture Overview\n",
    "\n",
    "\n",
    "- Main types of bond risk\n",
    "    - Default risk (credit risk)\n",
    "    - Interest rate risk\n",
    "        - Price risk\n",
    "        - Reinvestment risk\n",
    "\n",
    "\n",
    "- Duration and modified duration\n",
    "    - the \"bond_duration\" function\n",
    "\n",
    "\n",
    "- Using duration to estimate the price impact of interest rate changes\n"
   ]
  },
  {
   "cell_type": "code",
   "execution_count": 1,
   "metadata": {},
   "outputs": [],
   "source": [
    "# Load packages\n",
    "import bond_pricing.simple_bonds as bp\n",
    "import bond_pricing.present_value as pv\n",
    "import pandas as pd"
   ]
  },
  {
   "cell_type": "markdown",
   "metadata": {},
   "source": [
    "# 1. Main sources of bond risk\n",
    "\n",
    "Anything that may affect the realized return on your bond investment is considered a source of risk.\n",
    "\n",
    "Two major sources of risk for bonds:\n",
    "- **Default risk**: \n",
    "    - Risk that you will not get paid the coupons and/or par value of the bond\n",
    "\n",
    "\n",
    "- **Interest rate risk**: \n",
    "    - **Price risk**: \n",
    "        - Risk that an interest rate increase will decrease the price you will be able to sell the bond at.\n",
    "    - **Reinvestment rate risk**: \n",
    "        - Risk that an interest rate decrease will decrease the future value of your reinvested coupons\n",
    "\n",
    "Offsetting forces:\n",
    "- When interest rates increase, bond prices decrease, but coupons can be reinvested at a higher rate (i.e. price risk and reinvestment risk offset each other to some degree)\n",
    "\n",
    "\n",
    "- These two forces perfectly offset if the bond has a **duration** equal to the horizon of the investor\n",
    "    - The process of setting the duration of your bond portfolio equal to your horizon is called **immunization**\n"
   ]
  },
  {
   "cell_type": "markdown",
   "metadata": {},
   "source": [
    "# 2. Bond duration\n",
    "\n",
    "A bond's **Macaulay's duration** (aka duration) is a weighted average of the amount of time it takes to receive the payments of the bond. The weights in this weighted average are proportional to the present value of the payments of the bond.\n",
    "\n",
    "$$ Duration_0 = \\frac{1}{F} \\frac{C/F}{P_0 (1+Y/F)} + \\frac{2}{F} \\frac{C/F}{P_0 (1+Y/F)^2} + ... + \\frac{T \\cdot F}{F} \\frac{C/F + Par}{P_0 (1+Y/F)^{T \\cdot F}} $$\n",
    "\n",
    "where\n",
    "- time 0 is the time when duration is calculated\n",
    "- $P_0$ is the price of the bond at time 0\n",
    "- $Y$ is YTM, $C$ is the annual coupon, $T$ is time to maturity (in years), and $F$ is coupon frequency (e.g. 2 for semi-annual) \n",
    "\n",
    "A bond's **modified duration** equals its Macaulay's duration divided by its gross YTM:\n",
    "\n",
    "$$Modified Duration = \\frac{Macaulay Duration}{1 + Y/F}$$\n",
    "\n",
    "**Firms with longer duration have more price risk**. Below we show that, all else equal, bonds will have higher duration (and hence more price risk) if they have a:\n",
    "\n",
    "- Longer maturity or\n",
    "- Lower yield to maturity (YTM) or\n",
    "- Lower coupon rate\n",
    "\n",
    "To calculate Macaulay's duration using the \"bond-pricing\" package, use the \"bond_duration\" function with the ususal parameters (as below). To calculate modified duration, just add \"modified = True\" as a parameter to the \"bond_duration\" function."
   ]
  },
  {
   "cell_type": "markdown",
   "metadata": {},
   "source": [
    "#### Example 1:  Duration is higher for bonds with longer maturity\n",
    "\n",
    "Bonds A, B and C all have coupon rate and YTM of 6% (semiannual, par=1000). They were all issued today and mature in 1 year (bond A), 10 years (bond B) and 30 years (bond C). Calculate their duration.\n"
   ]
  },
  {
   "cell_type": "code",
   "execution_count": 2,
   "metadata": {},
   "outputs": [
    {
     "name": "stdout",
     "output_type": "stream",
     "text": [
      "Duration A =  0.985 \n",
      "Duration B =  7.662 \n",
      "Duration C =  14.253 \n"
     ]
    }
   ],
   "source": [
    "# Using 'mat' in years\n",
    "durA = bp.bond_duration(mat = 1, freq = 2, cpn = 0.06, yld = 0.06, face = 1000)\n",
    "durB = bp.bond_duration(mat = 10, freq = 2, cpn = 0.06, yld = 0.06, face = 1000)\n",
    "durC = bp.bond_duration(mat = 30, freq = 2, cpn = 0.06, yld = 0.06, face = 1000)\n",
    "\n",
    "print(f\"Duration A = {durA: .3f} \\nDuration B = {durB: .3f} \\nDuration C = {durC: .3f} \")"
   ]
  },
  {
   "cell_type": "code",
   "execution_count": 3,
   "metadata": {},
   "outputs": [
    {
     "name": "stdout",
     "output_type": "stream",
     "text": [
      "Duration A =  0.985 \n",
      "Duration B =  7.662 \n",
      "Duration C =  14.253 \n"
     ]
    }
   ],
   "source": [
    "# Using 'mat' and 'settle' dates\n",
    "durA = bp.bond_duration(settle = '2020-01-01', mat = '2021-01-01', freq = 2, cpn = 0.06, yld = 0.06, face = 1000)\n",
    "durB = bp.bond_duration(settle = '2020-01-01', mat = '2030-01-01', freq = 2, cpn = 0.06, yld = 0.06, face = 1000)\n",
    "durC = bp.bond_duration(settle = '2020-01-01', mat = '2050-01-01', freq = 2, cpn = 0.06, yld = 0.06, face = 1000)\n",
    "\n",
    "print(f\"Duration A = {durA: .3f} \\nDuration B = {durB: .3f} \\nDuration C = {durC: .3f} \")"
   ]
  },
  {
   "cell_type": "code",
   "execution_count": 4,
   "metadata": {},
   "outputs": [
    {
     "name": "stdout",
     "output_type": "stream",
     "text": [
      "Modified Duration A =  0.957 \n",
      "Modified Duration B =  7.439 \n",
      "Modified Duration C =  13.838 \n"
     ]
    }
   ],
   "source": [
    "# Calculate the modified durations of all the bonds\n",
    "moddurA = bp.bond_duration(mat = 1, freq = 2, cpn = 0.06, yld = 0.06, face = 1000, modified = True)\n",
    "moddurB = bp.bond_duration(mat = 10, freq = 2, cpn = 0.06, yld = 0.06, face = 1000, modified = True)\n",
    "moddurC = bp.bond_duration(mat = 30, freq = 2, cpn = 0.06, yld = 0.06, face = 1000, modified = True)\n",
    "\n",
    "print(f\"Modified Duration A = {moddurA: .3f} \\nModified Duration B = {moddurB: .3f} \\nModified Duration C = {moddurC: .3f} \")"
   ]
  },
  {
   "cell_type": "markdown",
   "metadata": {},
   "source": [
    "#### Example 2:  Duration is higher for bonds with lower YTM\n",
    "\n",
    "Bonds A, B and C all have a coupon rate of 4% (semiannual, par=1000) and mature in 10 years. They were all issued today and have a YTM of 2% (bond A), 4% (bond B) and 6% (bond C). Calculate their duration."
   ]
  },
  {
   "cell_type": "code",
   "execution_count": 5,
   "metadata": {},
   "outputs": [
    {
     "name": "stdout",
     "output_type": "stream",
     "text": [
      "Duration A =  8.497 \n",
      "Duration B =  8.339 \n",
      "Duration C =  8.169 \n"
     ]
    }
   ],
   "source": [
    "# Using 'mat' in years\n",
    "durA = bp.bond_duration(mat = 10, freq = 2, cpn = 0.04, yld = 0.02, face = 1000)\n",
    "durB = bp.bond_duration(mat = 10, freq = 2, cpn = 0.04, yld = 0.04, face = 1000)\n",
    "durC = bp.bond_duration(mat = 10, freq = 2, cpn = 0.04, yld = 0.06, face = 1000)\n",
    "\n",
    "print(f\"Duration A = {durA: .3f} \\nDuration B = {durB: .3f} \\nDuration C = {durC: .3f} \")"
   ]
  },
  {
   "cell_type": "code",
   "execution_count": 6,
   "metadata": {},
   "outputs": [
    {
     "name": "stdout",
     "output_type": "stream",
     "text": [
      "Duration A =  8.497 \n",
      "Duration B =  8.339 \n",
      "Duration C =  8.169 \n"
     ]
    }
   ],
   "source": [
    "# Using 'mat' and 'settle' dates\n",
    "durA = bp.bond_duration(settle = '2020-01-01', mat = '2030-01-01', freq = 2, cpn = 0.04, yld = 0.02, face = 1000)\n",
    "durB = bp.bond_duration(settle = '2020-01-01', mat = '2030-01-01', freq = 2, cpn = 0.04, yld = 0.04, face = 1000)\n",
    "durC = bp.bond_duration(settle = '2020-01-01', mat = '2030-01-01', freq = 2, cpn = 0.04, yld = 0.06, face = 1000)\n",
    "\n",
    "print(f\"Duration A = {durA: .3f} \\nDuration B = {durB: .3f} \\nDuration C = {durC: .3f} \")"
   ]
  },
  {
   "cell_type": "markdown",
   "metadata": {},
   "source": [
    "#### Example 3:  Duration is higher for bonds with lower coupon rates\n",
    "\n",
    "Bonds A, B and C all have a YTM of 6% (semiannual, par=1000) and mature in 10 years. They were all issued today and have a coupon rate of 3% (bond A), 6% (bond B) and 9% (bond C). Calculate their duration."
   ]
  },
  {
   "cell_type": "code",
   "execution_count": 7,
   "metadata": {},
   "outputs": [
    {
     "name": "stdout",
     "output_type": "stream",
     "text": [
      "Duration A =  8.495 \n",
      "Duration B =  7.662 \n",
      "Duration C =  7.133 \n"
     ]
    }
   ],
   "source": [
    "# Using 'mat' in years\n",
    "durA = bp.bond_duration(mat = 10, freq = 2, cpn = 0.03, yld = 0.06, face = 1000)\n",
    "durB = bp.bond_duration(mat = 10, freq = 2, cpn = 0.06, yld = 0.06, face = 1000)\n",
    "durC = bp.bond_duration(mat = 10, freq = 2, cpn = 0.09, yld = 0.06, face = 1000)\n",
    "\n",
    "print(f\"Duration A = {durA: .3f} \\nDuration B = {durB: .3f} \\nDuration C = {durC: .3f} \")"
   ]
  },
  {
   "cell_type": "code",
   "execution_count": 8,
   "metadata": {},
   "outputs": [
    {
     "name": "stdout",
     "output_type": "stream",
     "text": [
      "Duration A =  8.495 \n",
      "Duration B =  7.662 \n",
      "Duration C =  7.133 \n"
     ]
    }
   ],
   "source": [
    "# Using 'mat' and 'settle' dates\n",
    "durA = bp.bond_duration(settle = '2020-01-01', mat = '2030-01-01', freq = 2, cpn = 0.03, yld = 0.06, face = 1000)\n",
    "durB = bp.bond_duration(settle = '2020-01-01', mat = '2030-01-01', freq = 2, cpn = 0.06, yld = 0.06, face = 1000)\n",
    "durC = bp.bond_duration(settle = '2020-01-01', mat = '2030-01-01', freq = 2, cpn = 0.09, yld = 0.06, face = 1000)\n",
    "\n",
    "print(f\"Duration A = {durA: .3f} \\nDuration B = {durB: .3f} \\nDuration C = {durC: .3f} \")"
   ]
  },
  {
   "cell_type": "markdown",
   "metadata": {},
   "source": [
    "# 3. Using duration to estimate the price impact of interest rate changes\n",
    "\n",
    "### 3.1. Using duration\n",
    "\n",
    "For a bond with price $P_0$, duration D, YTM $Y$, and frequency F, the percentage change in price caused by a change $x$ in YTM is approximated by:\n",
    "\n",
    "$$\\frac{P_1 - P_0}{P_0} = - D \\cdot \\frac{x}{1 + Y/F}$$\n",
    "\n",
    "### 3.2. Using modified duration\n",
    "\n",
    "For a bond with price $P_0$, modified duration D*, YTM $Y$, and frequency F, the percentage change in price caused by a change $x$ in YTM is approximated by:\n",
    "\n",
    "$$\\frac{P_1 - P_0}{P_0} = - D^{*} \\cdot x$$\n"
   ]
  },
  {
   "cell_type": "markdown",
   "metadata": {},
   "source": [
    "#### Example 4:  \n",
    "\n",
    "Bond A has a YTM of 6%, a coupon rate of 9% and matures in 10 years (semiannual, par=1000). Use Macaulay's duration to estimate the percentage impact on the bond's price of a YTM increase of 1%."
   ]
  },
  {
   "cell_type": "code",
   "execution_count": 9,
   "metadata": {},
   "outputs": [
    {
     "data": {
      "text/plain": [
       "7.132718055425553"
      ]
     },
     "execution_count": 9,
     "metadata": {},
     "output_type": "execute_result"
    }
   ],
   "source": [
    "# Calculate Macaulay's duration\n",
    "durC = bp.bond_duration(mat = 10, freq = 2, cpn = 0.09, yld = 0.06, face = 1000)\n",
    "durC"
   ]
  },
  {
   "cell_type": "code",
   "execution_count": 10,
   "metadata": {},
   "outputs": [
    {
     "name": "stdout",
     "output_type": "stream",
     "text": [
      "Percentage change in price = -0.069250\n"
     ]
    }
   ],
   "source": [
    "# Calculate price impact\n",
    "pct_change_in_price = - durC * 0.01 / (1 + 0.06/2)\n",
    "\n",
    "print(f\"Percentage change in price = {pct_change_in_price: .6f}\")"
   ]
  },
  {
   "cell_type": "markdown",
   "metadata": {},
   "source": [
    "#### Example 5:  \n",
    "\n",
    "Bond A has a YTM of 6%, a coupon rate of 9% and matures in 10 years (semiannual, par=1000). Use modified duration to estimate the percentage impact on the bond's price of a YTM decrease of 1%."
   ]
  },
  {
   "cell_type": "code",
   "execution_count": 13,
   "metadata": {},
   "outputs": [
    {
     "data": {
      "text/plain": [
       "0.06924968985850051"
      ]
     },
     "execution_count": 13,
     "metadata": {},
     "output_type": "execute_result"
    }
   ],
   "source": [
    "# Calculate modified duration\n",
    "moddurC = bp.bond_duration(mat = 10, freq = 2, cpn = 0.09, yld = 0.06, face = 1000, modified = True)\n",
    "moddurC\n",
    "\n",
    "# Calculate price impact using modified duration\n",
    "pct_change_in_price = - moddurC * (-0.01)\n",
    "pct_change_in_price"
   ]
  },
  {
   "cell_type": "markdown",
   "metadata": {},
   "source": [
    "# 4. Resources\n",
    "\n",
    "\n",
    "- bond-pricing package\n",
    "    - https://bond-pricing.readthedocs.io/en/latest/\n",
    "    \n",
    "    \n",
    "- isda_daycounters\n",
    "    - https://github.com/miradulo/isda_daycounters\n"
   ]
  }
 ],
 "metadata": {
  "kernelspec": {
   "display_name": "Python 3",
   "language": "python",
   "name": "python3"
  },
  "language_info": {
   "codemirror_mode": {
    "name": "ipython",
    "version": 3
   },
   "file_extension": ".py",
   "mimetype": "text/x-python",
   "name": "python",
   "nbconvert_exporter": "python",
   "pygments_lexer": "ipython3",
   "version": "3.8.5"
  }
 },
 "nbformat": 4,
 "nbformat_minor": 4
}
