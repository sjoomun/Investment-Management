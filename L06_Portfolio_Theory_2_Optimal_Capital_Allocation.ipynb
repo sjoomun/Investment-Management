{
 "cells": [
  {
   "cell_type": "markdown",
   "metadata": {},
   "source": [
    "# 1. Lecture overview\n",
    "\n",
    "- The capital allocation line\n",
    "    - All portfolios containing a risky asset and a risk-free asset lie on the same line in the mean-volatility space\n",
    "- Optimal capital allocation\n",
    "    - For a given level of risk aversion, what is the optimal proportion of your funds that you should invest in risky assets?"
   ]
  },
  {
   "cell_type": "markdown",
   "metadata": {},
   "source": [
    "# 2. The capital allocation line (CAL)\n",
    "\n",
    "Let P be a risky asset (or portfolio) with return $R_P$ and let $R_f$ be the return on the risk-free asset. Then, a capital allocation is a proportion $w_{c}$ of funds you invest in the risky asset P (the proportion investend in the risk free asset will be $1 - w_{c}$). Different choices of $w_{c}$ will result in different capital allocations. \n",
    "\n",
    "The **return of the complete portfolio** C (containing P and the risk-free asset) given by a given capital allocation $w_{c}$ is:\n",
    "\n",
    "$$R_C = w_{c} R_P + (1 - w_{c}) R_f$$\n",
    "\n",
    "The **expected return of the complete portfolio** is\n",
    "\n",
    "$$E[R_C] = w_{c} E[R_P] + (1 - w_{c}) R_f$$\n",
    "\n",
    "Because the future return on the risk-free asset is known ahead of time (guaranteed by the U.S. government), we have $E[R_f] = R_f$, which is why we can use $R_f$ in the equation above.\n",
    "\n",
    "The **variance of the complete portfolio** is\n",
    "\n",
    "$$Var[R_C] =  w_{c}^2 Var[R_P] + (1 - w_{c})^2 Var[R_f] + 2 w_{c} (1 - w_{c}) Cov[R_P, R_f]$$\n",
    "\n",
    "Because, as explained above, $R_f$ is a constant, not a random variable, its variance is 0 and it's covariance with any other random variable is 0. So, in the above equation $Var[R_f] = 0$ and $Cov[R_P, R_f] = 0$. Substituting these in the above equation we obtain\n",
    "\n",
    "$$Var[R_C] =w_{c}^2 Var[R_P]$$\n",
    "\n",
    "By taking square roots on both sides we obtain the **standard deviation of the complete porfolio**:\n",
    "\n",
    "$$\\sigma_{C} = w_{c} \\sigma_{P}$$\n",
    "\n",
    "where $\\sigma_{P}$ is the standard deviation of returns of the risky asset P.\n"
   ]
  },
  {
   "cell_type": "markdown",
   "metadata": {},
   "source": [
    "**Example 2.1.**\n",
    "\n",
    "Assume you have estimated that the expected return on TSLA is 10% and the standard deviation of its future returns is 12%. The risk-free rate is 1%. In this example, we will create 21 different capital allocations containing TSLA and the risk-free asset: the first will have a weight of 0% in TSLA, the next will have a weight of 10% in TSLA and so on (in increments of 10%) until the 21st capital allocation, which has 200% in TSLA. Calculate the expected returns and standard deviations of the 21 complete portfolios obtained from these capital allocations. Plot these portfolios in mean-volatility space. "
   ]
  },
  {
   "cell_type": "code",
   "execution_count": 1,
   "metadata": {},
   "outputs": [
    {
     "name": "stdout",
     "output_type": "stream",
     "text": [
      "     wc     er     sd\n",
      "0   0.0  0.010  0.000\n",
      "1   0.1  0.019  0.012\n",
      "2   0.2  0.028  0.024\n",
      "3   0.3  0.037  0.036\n",
      "4   0.4  0.046  0.048\n",
      "5   0.5  0.055  0.060\n",
      "6   0.6  0.064  0.072\n",
      "7   0.7  0.073  0.084\n",
      "8   0.8  0.082  0.096\n",
      "9   0.9  0.091  0.108\n",
      "10  1.0  0.100  0.120\n",
      "11  1.1  0.109  0.132\n",
      "12  1.2  0.118  0.144\n",
      "13  1.3  0.127  0.156\n",
      "14  1.4  0.136  0.168\n",
      "15  1.5  0.145  0.180\n",
      "16  1.6  0.154  0.192\n",
      "17  1.7  0.163  0.204\n",
      "18  1.8  0.172  0.216\n",
      "19  1.9  0.181  0.228\n",
      "20  2.0  0.190  0.240\n"
     ]
    },
    {
     "data": {
      "image/png": "[encoded data removed]",
      "text/plain": [
       "<Figure size 432x288 with 1 Axes>"
      ]
     },
     "metadata": {
      "needs_background": "light"
     },
     "output_type": "display_data"
    }
   ],
   "source": [
    "import pandas as pd\n",
    "import numpy as np\n",
    "\n",
    "# Inputs\n",
    "er_tsla = 0.1\n",
    "sd_tsla = 0.12\n",
    "rf      = 0.01\n",
    "N = 21\n",
    "\n",
    "# Create dataframe where we will store our 21 expected returns and standard deviations\n",
    "results = pd.DataFrame(np.nan, index = range(N), columns = ['wc', 'er', 'sd'])\n",
    "#print(results)\n",
    "\n",
    "# Loop through the 21 allocations\n",
    "for n in range(N):\n",
    "    #print(n)\n",
    "  \n",
    "    # calculate the weight for the current capital allocation\n",
    "    wc = n * (2 / (N-1))\n",
    "    \n",
    "    # calculate expected return for the current complete portfolio\n",
    "    er_c = wc * er_tsla + (1 - wc) * rf\n",
    "    \n",
    "    # calculate standard deviation for the current complete portfolio\n",
    "    sd_c = wc * sd_tsla\n",
    "    \n",
    "    # store results in our \"results\" dataframe\n",
    "    results['wc'][n] = wc\n",
    "    results['er'][n] = er_c\n",
    "    results['sd'][n] = sd_c\n",
    "    \n",
    "# Print results    \n",
    "print(results) \n",
    "\n",
    "# Plot results in mean-volatility space\n",
    "ax = results.plot.scatter(x = 'sd', y = 'er');\n",
    "ax.set_xlabel('Standard deviation of complete portfolios')\n",
    "ax.set_ylabel('Expected return of complete portfolios')\n",
    "ax.set_title('TSLA Capital Allocation Line (CAL)')\n",
    "\n",
    "# Add the 0% and 100% allocations to the plot in different colors\n",
    "ax.scatter(results['sd'][0], results['er'][0], color = 'orange');\n",
    "ax.scatter(results['sd'][10], results['er'][10], color = 'red');"
   ]
  },
  {
   "cell_type": "markdown",
   "metadata": {},
   "source": [
    "# 2.1. Characteristics of the CAL\n",
    "\n",
    "Every risky asset has its own capital allocation line (CAL). \n",
    "\n",
    "That CAL intersects the Y axis at the risk-free rate. \n",
    "\n",
    "The slope of a risky asset's CAL equals that asset's Sharpe ratio:\n",
    "\n",
    "$$SlopeCAL = \\frac{E[R_P] - R_f}{\\sigma_{P}} $$\n",
    "\n",
    "So the analytical equation for the CAL is:\n",
    "\n",
    "$$E[R_C] = R_f + \\sigma_{C} \\frac{E[R_P] - R_f}{\\sigma_{P}}$$\n",
    "\n",
    "This tells us the relation between the risk and expected return of our complete portfolio, given the Sharpe ratio of the risky part of the portfolio."
   ]
  },
  {
   "cell_type": "markdown",
   "metadata": {},
   "source": [
    "# 3. Optimal Capital Allocation\n",
    "\n",
    "The above formulas describe our complete portfolio once we have decided on a given capital allocation $w_c$. But how should we decide on what $w_c$ should be? It turns out that this depends on the risk aversion of the investor (that may be you, if you are investing your own money, but it need not be).\n",
    "\n",
    "For an investor with risk aversion coefficient A, the optimal capital allocation (call it $w_{oca}$) is:\n",
    "\n",
    "$$w_{oca} = \\frac{E[R_P] - R_f}{A \\sigma_{P}^2}$$\n",
    "\n",
    "An investor's risk aversion A is calculated by asking them: \"If you were to invest all your wealth in an investment with with variance $\\sigma^2$, what is the minimal expected return you would require to make the investment?\". Call that expected return $E[R]$. The coefficient of risk aversion A is given by:\n",
    "\n",
    "$$A = \\frac{E[R]}{\\sigma^2}$$"
   ]
  },
  {
   "cell_type": "markdown",
   "metadata": {},
   "source": [
    "**Example 3.1.**\n",
    "\n",
    "Assume you have estimated that the expected return on TSLA is 5.6% and the standard deviation of its future returns is 18.6%. The risk-free rate is 0.1%. Your coefficient of risk aversion if 4. What is your optimal capital allocation?"
   ]
  },
  {
   "cell_type": "code",
   "execution_count": 2,
   "metadata": {},
   "outputs": [
    {
     "name": "stdout",
     "output_type": "stream",
     "text": [
      "Optimal capital allocation: invest  39.744% in TSLA and  60.256% in the Tbill\n"
     ]
    }
   ],
   "source": [
    "# Inputs\n",
    "er_tsla = 0.056\n",
    "sd_tsla = 0.186\n",
    "rf = 0.001\n",
    "A = 4\n",
    "\n",
    "# Optimal capital allocation\n",
    "w_oca = (er_tsla - rf) / (A * (sd_tsla**2))\n",
    "\n",
    "# Print results\n",
    "print(f\"Optimal capital allocation: invest {w_oca*100: .3f}% in TSLA and {(1 - w_oca)*100: .3f}% in the Tbill\")"
   ]
  },
  {
   "cell_type": "markdown",
   "metadata": {},
   "source": [
    "## 3.1. Discussion\n",
    "\n",
    "The optimal capital allocation tells you the right proportion of your funds to invest in a given risky asset P. By \"given\" we mean you (or your client) have already decided what that asset (or portfolio) P is. We will soon talk more about optimal ways to find P as well. But for now, we assume we have already done that and we know what P is. \n",
    "\n",
    "However, it is important to point out that the optimal capital allocation formula \n",
    "\n",
    "$$w_{oca} = \\frac{E[R_P] - R_f}{A \\sigma_{P}^2}$$\n",
    "\n",
    "is only valid if $\\sigma_{P}$ is the right measure of the risk we would be exposed to if we invested in P. If P is the only investment we make, then this is correct. But if we own other assets, and P becomes part of our larger, overall portfolio, then this is no longer correct. That's because a large part of P's total risk ($\\sigma_{P}$) will be diversified away as part of our overall portfolio. \n",
    "\n",
    "So, in general, the optimal capital allocation formula above, should not be applied if P is an individual security  (such as TSLA in our previous example). Instead **it should be applied if P is a very well diversified portfolio of risky assets**, so that its total risk is very close to its systematic risk. \n"
   ]
  },
  {
   "cell_type": "markdown",
   "metadata": {},
   "source": [
    "# 4. Application\n",
    "\n",
    "Download annual data on the S\\&P500 index from Yahoo Finance over the past 50 years (ticker = GSPC). Assume the risk-free rate is 0.1% and your risk aversion coefficient is 4. What is your optimal capital allocation? "
   ]
  },
  {
   "cell_type": "code",
   "execution_count": 3,
   "metadata": {},
   "outputs": [],
   "source": [
    "# Import packages\n",
    "import yfinance as yf\n",
    "import pandas as pd"
   ]
  },
  {
   "cell_type": "code",
   "execution_count": 4,
   "metadata": {},
   "outputs": [],
   "source": [
    "# Inputs\n",
    "rf = 0.001\n",
    "A = 4"
   ]
  },
  {
   "cell_type": "code",
   "execution_count": 5,
   "metadata": {},
   "outputs": [
    {
     "name": "stdout",
     "output_type": "stream",
     "text": [
      "[*********************100%***********************]  1 of 1 completed\n"
     ]
    },
    {
     "data": {
      "text/html": [
       "<div>\n",
       "<style scoped>\n",
       "    .dataframe tbody tr th:only-of-type {\n",
       "        vertical-align: middle;\n",
       "    }\n",
       "\n",
       "    .dataframe tbody tr th {\n",
       "        vertical-align: top;\n",
       "    }\n",
       "\n",
       "    .dataframe thead th {\n",
       "        text-align: right;\n",
       "    }\n",
       "</style>\n",
       "<table border=\"1\" class=\"dataframe\">\n",
       "  <thead>\n",
       "    <tr style=\"text-align: right;\">\n",
       "      <th></th>\n",
       "      <th>Open</th>\n",
       "      <th>High</th>\n",
       "      <th>Low</th>\n",
       "      <th>Close</th>\n",
       "      <th>Adj Close</th>\n",
       "      <th>Volume</th>\n",
       "    </tr>\n",
       "    <tr>\n",
       "      <th>Date</th>\n",
       "      <th></th>\n",
       "      <th></th>\n",
       "      <th></th>\n",
       "      <th></th>\n",
       "      <th></th>\n",
       "      <th></th>\n",
       "    </tr>\n",
       "  </thead>\n",
       "  <tbody>\n",
       "    <tr>\n",
       "      <th>1985-01-01</th>\n",
       "      <td>167.199997</td>\n",
       "      <td>180.270004</td>\n",
       "      <td>163.360001</td>\n",
       "      <td>179.630005</td>\n",
       "      <td>179.630005</td>\n",
       "      <td>2673710000</td>\n",
       "    </tr>\n",
       "    <tr>\n",
       "      <th>1985-02-01</th>\n",
       "      <td>179.630005</td>\n",
       "      <td>183.949997</td>\n",
       "      <td>177.750000</td>\n",
       "      <td>181.179993</td>\n",
       "      <td>181.179993</td>\n",
       "      <td>2194620000</td>\n",
       "    </tr>\n",
       "    <tr>\n",
       "      <th>1985-03-01</th>\n",
       "      <td>181.179993</td>\n",
       "      <td>183.889999</td>\n",
       "      <td>176.529999</td>\n",
       "      <td>180.660004</td>\n",
       "      <td>180.660004</td>\n",
       "      <td>2153090000</td>\n",
       "    </tr>\n",
       "    <tr>\n",
       "      <th>1985-04-01</th>\n",
       "      <td>180.660004</td>\n",
       "      <td>183.610001</td>\n",
       "      <td>177.860001</td>\n",
       "      <td>179.830002</td>\n",
       "      <td>179.830002</td>\n",
       "      <td>1981880000</td>\n",
       "    </tr>\n",
       "    <tr>\n",
       "      <th>1985-05-01</th>\n",
       "      <td>179.830002</td>\n",
       "      <td>189.979996</td>\n",
       "      <td>178.350006</td>\n",
       "      <td>189.550003</td>\n",
       "      <td>189.550003</td>\n",
       "      <td>2350340000</td>\n",
       "    </tr>\n",
       "  </tbody>\n",
       "</table>\n",
       "</div>"
      ],
      "text/plain": [
       "                  Open        High         Low       Close   Adj Close  \\\n",
       "Date                                                                     \n",
       "1985-01-01  167.199997  180.270004  163.360001  179.630005  179.630005   \n",
       "1985-02-01  179.630005  183.949997  177.750000  181.179993  181.179993   \n",
       "1985-03-01  181.179993  183.889999  176.529999  180.660004  180.660004   \n",
       "1985-04-01  180.660004  183.610001  177.860001  179.830002  179.830002   \n",
       "1985-05-01  179.830002  189.979996  178.350006  189.550003  189.550003   \n",
       "\n",
       "                Volume  \n",
       "Date                    \n",
       "1985-01-01  2673710000  \n",
       "1985-02-01  2194620000  \n",
       "1985-03-01  2153090000  \n",
       "1985-04-01  1981880000  \n",
       "1985-05-01  2350340000  "
      ]
     },
     "execution_count": 5,
     "metadata": {},
     "output_type": "execute_result"
    }
   ],
   "source": [
    "# Download data and save it\n",
    "sp = yf.download(tickers = '^GSPC',\n",
    "                start = '1970-01-01',\n",
    "                end = '2020-12-31',\n",
    "                interval = '1mo').dropna()\n",
    "sp.head()"
   ]
  },
  {
   "cell_type": "code",
   "execution_count": 6,
   "metadata": {},
   "outputs": [
    {
     "data": {
      "text/plain": [
       "Date\n",
       "1985-01-01         NaN\n",
       "1985-02-01    0.008629\n",
       "1985-03-01   -0.002870\n",
       "1985-04-01   -0.004594\n",
       "1985-05-01    0.054051\n",
       "Name: Close, dtype: float64"
      ]
     },
     "execution_count": 6,
     "metadata": {},
     "output_type": "execute_result"
    }
   ],
   "source": [
    "# Calculate S&P returns every month\n",
    "sp_ret = sp['Close'].pct_change()\n",
    "sp_ret.head()"
   ]
  },
  {
   "cell_type": "code",
   "execution_count": 7,
   "metadata": {},
   "outputs": [
    {
     "name": "stdout",
     "output_type": "stream",
     "text": [
      " Market monthly expected return =  0.008 \n",
      " Market monthly standard deviation =  0.044\n"
     ]
    }
   ],
   "source": [
    "sp_er = sp_ret.mean()\n",
    "sp_sd = sp_ret.std()\n",
    "print(f' Market monthly expected return = {sp_er: .3f} \\n Market monthly standard deviation = {sp_sd: .3f}')"
   ]
  },
  {
   "cell_type": "code",
   "execution_count": 8,
   "metadata": {},
   "outputs": [
    {
     "name": "stdout",
     "output_type": "stream",
     "text": [
      "Optimal capital allocation: invest  92.704 % in S&P500 and  7.296 in the Tbill\n"
     ]
    }
   ],
   "source": [
    "# Optimal capital allocation\n",
    "w_oca = (sp_er - rf) / (A * (sp_sd**2))\n",
    "\n",
    "# Print results\n",
    "print(f\"Optimal capital allocation: invest {w_oca*100: .3f} % in S&P500 and {(1 - w_oca)*100: .3f} in the Tbill\")"
   ]
  },
  {
   "cell_type": "markdown",
   "metadata": {},
   "source": [
    "# 5. For next class\n",
    "\n",
    "- Watch \"Efficient Diversification with Two Risky Assets\" video under \"FIN 360 Review Videos\" - \"Asset Allocation\" tab in D2L"
   ]
  }
 ],
 "metadata": {
  "kernelspec": {
   "display_name": "Python 3",
   "language": "python",
   "name": "python3"
  },
  "language_info": {
   "codemirror_mode": {
    "name": "ipython",
    "version": 3
   },
   "file_extension": ".py",
   "mimetype": "text/x-python",
   "name": "python",
   "nbconvert_exporter": "python",
   "pygments_lexer": "ipython3",
   "version": "3.8.5"
  }
 },
 "nbformat": 4,
 "nbformat_minor": 4
}
